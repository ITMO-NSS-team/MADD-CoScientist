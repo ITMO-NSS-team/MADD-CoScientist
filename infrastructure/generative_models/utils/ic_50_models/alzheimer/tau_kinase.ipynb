{
  "cells": [
    {
      "cell_type": "code",
      "execution_count": 129,
      "metadata": {
        "id": "aEoD4cAAwU0s"
      },
      "outputs": [],
      "source": [
        "import pandas as pd\n",
        "import numpy as np\n",
        "import rdkit\n",
        "from sklearn.model_selection import train_test_split\n",
        "from rdkit import Chem\n",
        "from rdkit.Chem import rdMolDescriptors, MACCSkeys\n",
        "from rdkit.Chem import MACCSkeys\n",
        "from rdkit.Chem import PandasTools, AllChem\n",
        "from rdkit import Chem, DataStructs\n",
        "from matplotlib import pyplot as plt\n",
        "import seaborn as sns\n",
        "from sklearn.pipeline import Pipeline\n",
        "from sklearn.base import BaseEstimator, TransformerMixin\n",
        "from sklearn.preprocessing import StandardScaler\n",
        "from lazypredict.Supervised import LazyRegressor, LazyClassifier\n",
        "from rdkit.Chem import PandasTools, AllChem\n",
        "from rdkit import Chem, DataStructs"
      ]
    },
    {
      "cell_type": "markdown",
      "metadata": {
        "id": "cRzPSLGhD2MH"
      },
      "source": [
        "# Data preprocessing"
      ]
    },
    {
      "cell_type": "code",
      "execution_count": 130,
      "metadata": {
        "colab": {
          "base_uri": "https://localhost:8080/",
          "height": 424
        },
        "id": "zhuW619xxFnM",
        "outputId": "85bdc372-6df9-4c40-a849-29b8fd5a99c9"
      },
      "outputs": [
        {
          "data": {
            "application/vnd.google.colaboratory.intrinsic+json": {
              "summary": "{\n  \"name\": \"df\",\n  \"rows\": 3189,\n  \"fields\": [\n    {\n      \"column\": \"Smiles\",\n      \"properties\": {\n        \"dtype\": \"string\",\n        \"num_unique_values\": 2821,\n        \"samples\": [\n          \"C[C@@H]1CN(C)CCN1c1nc(-c2ccncn2)cc(=O)n1C\",\n          \"C[S+]([O-])c1nc(-c2ccc(F)cc2)c(-c2ccnc(NC(=O)C3CC3)c2)[nH]1\",\n          \"CCCC(=O)Nc1n[nH]c2cc(-c3ccoc3)ccc12\"\n        ],\n        \"semantic_type\": \"\",\n        \"description\": \"\"\n      }\n    },\n    {\n      \"column\": \"Standard Type\",\n      \"properties\": {\n        \"dtype\": \"category\",\n        \"num_unique_values\": 1,\n        \"samples\": [\n          \"IC50\"\n        ],\n        \"semantic_type\": \"\",\n        \"description\": \"\"\n      }\n    },\n    {\n      \"column\": \"Standard Relation\",\n      \"properties\": {\n        \"dtype\": \"category\",\n        \"num_unique_values\": 4,\n        \"samples\": [\n          \"'>'\"\n        ],\n        \"semantic_type\": \"\",\n        \"description\": \"\"\n      }\n    },\n    {\n      \"column\": \"Standard Value\",\n      \"properties\": {\n        \"dtype\": \"number\",\n        \"std\": 1272728.7285063085,\n        \"min\": 0.013,\n        \"max\": 50000000.0,\n        \"num_unique_values\": 1038,\n        \"samples\": [\n          994.0\n        ],\n        \"semantic_type\": \"\",\n        \"description\": \"\"\n      }\n    }\n  ]\n}",
              "type": "dataframe",
              "variable_name": "df"
            },
            "text/html": [
              "\n",
              "  <div id=\"df-361beaf4-13a8-4e2f-bf88-986e94f42745\" class=\"colab-df-container\">\n",
              "    <div>\n",
              "<style scoped>\n",
              "    .dataframe tbody tr th:only-of-type {\n",
              "        vertical-align: middle;\n",
              "    }\n",
              "\n",
              "    .dataframe tbody tr th {\n",
              "        vertical-align: top;\n",
              "    }\n",
              "\n",
              "    .dataframe thead th {\n",
              "        text-align: right;\n",
              "    }\n",
              "</style>\n",
              "<table border=\"1\" class=\"dataframe\">\n",
              "  <thead>\n",
              "    <tr style=\"text-align: right;\">\n",
              "      <th></th>\n",
              "      <th>Smiles</th>\n",
              "      <th>Standard Type</th>\n",
              "      <th>Standard Relation</th>\n",
              "      <th>Standard Value</th>\n",
              "    </tr>\n",
              "  </thead>\n",
              "  <tbody>\n",
              "    <tr>\n",
              "      <th>0</th>\n",
              "      <td>CCCC(=O)Nc1n[nH]c2cc(-c3cccnc3)ccc12</td>\n",
              "      <td>IC50</td>\n",
              "      <td>'='</td>\n",
              "      <td>10892.00</td>\n",
              "    </tr>\n",
              "    <tr>\n",
              "      <th>1</th>\n",
              "      <td>CCCC(=O)Nc1n[nH]c2cc(-c3ccc4c(c3)COO4)ccc12</td>\n",
              "      <td>IC50</td>\n",
              "      <td>'='</td>\n",
              "      <td>25038.00</td>\n",
              "    </tr>\n",
              "    <tr>\n",
              "      <th>2</th>\n",
              "      <td>CCCC(=O)Nc1n[nH]c2cc(-c3ccc([N+](=O)[O-])cc3)c...</td>\n",
              "      <td>IC50</td>\n",
              "      <td>'&gt;'</td>\n",
              "      <td>100000.00</td>\n",
              "    </tr>\n",
              "    <tr>\n",
              "      <th>3</th>\n",
              "      <td>O=c1sn(Cc2ccccc2)c(=S)n1Cc1ccccc1</td>\n",
              "      <td>IC50</td>\n",
              "      <td>'='</td>\n",
              "      <td>10000.00</td>\n",
              "    </tr>\n",
              "    <tr>\n",
              "      <th>4</th>\n",
              "      <td>CC(C)c1cc(NCc2cccnc2)n2ncc(Br)c2n1</td>\n",
              "      <td>IC50</td>\n",
              "      <td>'='</td>\n",
              "      <td>420.00</td>\n",
              "    </tr>\n",
              "    <tr>\n",
              "      <th>...</th>\n",
              "      <td>...</td>\n",
              "      <td>...</td>\n",
              "      <td>...</td>\n",
              "      <td>...</td>\n",
              "    </tr>\n",
              "    <tr>\n",
              "      <th>3184</th>\n",
              "      <td>O=c1cc(-c2ccc(O)c(O)c2)oc2cc(O)c([C@@H]3O[C@H]...</td>\n",
              "      <td>IC50</td>\n",
              "      <td>'='</td>\n",
              "      <td>185000.00</td>\n",
              "    </tr>\n",
              "    <tr>\n",
              "      <th>3185</th>\n",
              "      <td>COc1ccc(-c2cc(=O)c3c(OC)c([C@@H]4O[C@H](C(=O)N...</td>\n",
              "      <td>IC50</td>\n",
              "      <td>'='</td>\n",
              "      <td>9000.00</td>\n",
              "    </tr>\n",
              "    <tr>\n",
              "      <th>3186</th>\n",
              "      <td>O=C1NC(=O)/C(=C/c2c[nH]c3ccccc23)S1</td>\n",
              "      <td>IC50</td>\n",
              "      <td>'='</td>\n",
              "      <td>4930.00</td>\n",
              "    </tr>\n",
              "    <tr>\n",
              "      <th>3187</th>\n",
              "      <td>C=CC(=O)N1C(=O)CC(c2ccc(Br)cc2)Sc2ccccc21</td>\n",
              "      <td>IC50</td>\n",
              "      <td>'='</td>\n",
              "      <td>6400.00</td>\n",
              "    </tr>\n",
              "    <tr>\n",
              "      <th>3188</th>\n",
              "      <td>CC(C)Oc1ccc(F)c(-c2cnc(N)c(C(=O)Nc3cnccc3N3CCC...</td>\n",
              "      <td>IC50</td>\n",
              "      <td>'='</td>\n",
              "      <td>40.00</td>\n",
              "    </tr>\n",
              "  </tbody>\n",
              "</table>\n",
              "<p>3189 rows × 4 columns</p>\n",
              "</div>\n",
              "    <div class=\"colab-df-buttons\">\n",
              "\n",
              "  <div class=\"colab-df-container\">\n",
              "    <button class=\"colab-df-convert\" onclick=\"convertToInteractive('df-361beaf4-13a8-4e2f-bf88-986e94f42745')\"\n",
              "            title=\"Convert this dataframe to an interactive table.\"\n",
              "            style=\"display:none;\">\n",
              "\n",
              "  <svg xmlns=\"http://www.w3.org/2000/svg\" height=\"24px\" viewBox=\"0 -960 960 960\">\n",
              "    <path d=\"M120-120v-720h720v720H120Zm60-500h600v-160H180v160Zm220 220h160v-160H400v160Zm0 220h160v-160H400v160ZM180-400h160v-160H180v160Zm440 0h160v-160H620v160ZM180-180h160v-160H180v160Zm440 0h160v-160H620v160Z\"/>\n",
              "  </svg>\n",
              "    </button>\n",
              "\n",
              "  <style>\n",
              "    .colab-df-container {\n",
              "      display:flex;\n",
              "      gap: 12px;\n",
              "    }\n",
              "\n",
              "    .colab-df-convert {\n",
              "      background-color: #E8F0FE;\n",
              "      border: none;\n",
              "      border-radius: 50%;\n",
              "      cursor: pointer;\n",
              "      display: none;\n",
              "      fill: #1967D2;\n",
              "      height: 32px;\n",
              "      padding: 0 0 0 0;\n",
              "      width: 32px;\n",
              "    }\n",
              "\n",
              "    .colab-df-convert:hover {\n",
              "      background-color: #E2EBFA;\n",
              "      box-shadow: 0px 1px 2px rgba(60, 64, 67, 0.3), 0px 1px 3px 1px rgba(60, 64, 67, 0.15);\n",
              "      fill: #174EA6;\n",
              "    }\n",
              "\n",
              "    .colab-df-buttons div {\n",
              "      margin-bottom: 4px;\n",
              "    }\n",
              "\n",
              "    [theme=dark] .colab-df-convert {\n",
              "      background-color: #3B4455;\n",
              "      fill: #D2E3FC;\n",
              "    }\n",
              "\n",
              "    [theme=dark] .colab-df-convert:hover {\n",
              "      background-color: #434B5C;\n",
              "      box-shadow: 0px 1px 3px 1px rgba(0, 0, 0, 0.15);\n",
              "      filter: drop-shadow(0px 1px 2px rgba(0, 0, 0, 0.3));\n",
              "      fill: #FFFFFF;\n",
              "    }\n",
              "  </style>\n",
              "\n",
              "    <script>\n",
              "      const buttonEl =\n",
              "        document.querySelector('#df-361beaf4-13a8-4e2f-bf88-986e94f42745 button.colab-df-convert');\n",
              "      buttonEl.style.display =\n",
              "        google.colab.kernel.accessAllowed ? 'block' : 'none';\n",
              "\n",
              "      async function convertToInteractive(key) {\n",
              "        const element = document.querySelector('#df-361beaf4-13a8-4e2f-bf88-986e94f42745');\n",
              "        const dataTable =\n",
              "          await google.colab.kernel.invokeFunction('convertToInteractive',\n",
              "                                                    [key], {});\n",
              "        if (!dataTable) return;\n",
              "\n",
              "        const docLinkHtml = 'Like what you see? Visit the ' +\n",
              "          '<a target=\"_blank\" href=https://colab.research.google.com/notebooks/data_table.ipynb>data table notebook</a>'\n",
              "          + ' to learn more about interactive tables.';\n",
              "        element.innerHTML = '';\n",
              "        dataTable['output_type'] = 'display_data';\n",
              "        await google.colab.output.renderOutput(dataTable, element);\n",
              "        const docLink = document.createElement('div');\n",
              "        docLink.innerHTML = docLinkHtml;\n",
              "        element.appendChild(docLink);\n",
              "      }\n",
              "    </script>\n",
              "  </div>\n",
              "\n",
              "\n",
              "<div id=\"df-80f2286f-0391-4bff-8407-714e2747f289\">\n",
              "  <button class=\"colab-df-quickchart\" onclick=\"quickchart('df-80f2286f-0391-4bff-8407-714e2747f289')\"\n",
              "            title=\"Suggest charts\"\n",
              "            style=\"display:none;\">\n",
              "\n",
              "<svg xmlns=\"http://www.w3.org/2000/svg\" height=\"24px\"viewBox=\"0 0 24 24\"\n",
              "     width=\"24px\">\n",
              "    <g>\n",
              "        <path d=\"M19 3H5c-1.1 0-2 .9-2 2v14c0 1.1.9 2 2 2h14c1.1 0 2-.9 2-2V5c0-1.1-.9-2-2-2zM9 17H7v-7h2v7zm4 0h-2V7h2v10zm4 0h-2v-4h2v4z\"/>\n",
              "    </g>\n",
              "</svg>\n",
              "  </button>\n",
              "\n",
              "<style>\n",
              "  .colab-df-quickchart {\n",
              "      --bg-color: #E8F0FE;\n",
              "      --fill-color: #1967D2;\n",
              "      --hover-bg-color: #E2EBFA;\n",
              "      --hover-fill-color: #174EA6;\n",
              "      --disabled-fill-color: #AAA;\n",
              "      --disabled-bg-color: #DDD;\n",
              "  }\n",
              "\n",
              "  [theme=dark] .colab-df-quickchart {\n",
              "      --bg-color: #3B4455;\n",
              "      --fill-color: #D2E3FC;\n",
              "      --hover-bg-color: #434B5C;\n",
              "      --hover-fill-color: #FFFFFF;\n",
              "      --disabled-bg-color: #3B4455;\n",
              "      --disabled-fill-color: #666;\n",
              "  }\n",
              "\n",
              "  .colab-df-quickchart {\n",
              "    background-color: var(--bg-color);\n",
              "    border: none;\n",
              "    border-radius: 50%;\n",
              "    cursor: pointer;\n",
              "    display: none;\n",
              "    fill: var(--fill-color);\n",
              "    height: 32px;\n",
              "    padding: 0;\n",
              "    width: 32px;\n",
              "  }\n",
              "\n",
              "  .colab-df-quickchart:hover {\n",
              "    background-color: var(--hover-bg-color);\n",
              "    box-shadow: 0 1px 2px rgba(60, 64, 67, 0.3), 0 1px 3px 1px rgba(60, 64, 67, 0.15);\n",
              "    fill: var(--button-hover-fill-color);\n",
              "  }\n",
              "\n",
              "  .colab-df-quickchart-complete:disabled,\n",
              "  .colab-df-quickchart-complete:disabled:hover {\n",
              "    background-color: var(--disabled-bg-color);\n",
              "    fill: var(--disabled-fill-color);\n",
              "    box-shadow: none;\n",
              "  }\n",
              "\n",
              "  .colab-df-spinner {\n",
              "    border: 2px solid var(--fill-color);\n",
              "    border-color: transparent;\n",
              "    border-bottom-color: var(--fill-color);\n",
              "    animation:\n",
              "      spin 1s steps(1) infinite;\n",
              "  }\n",
              "\n",
              "  @keyframes spin {\n",
              "    0% {\n",
              "      border-color: transparent;\n",
              "      border-bottom-color: var(--fill-color);\n",
              "      border-left-color: var(--fill-color);\n",
              "    }\n",
              "    20% {\n",
              "      border-color: transparent;\n",
              "      border-left-color: var(--fill-color);\n",
              "      border-top-color: var(--fill-color);\n",
              "    }\n",
              "    30% {\n",
              "      border-color: transparent;\n",
              "      border-left-color: var(--fill-color);\n",
              "      border-top-color: var(--fill-color);\n",
              "      border-right-color: var(--fill-color);\n",
              "    }\n",
              "    40% {\n",
              "      border-color: transparent;\n",
              "      border-right-color: var(--fill-color);\n",
              "      border-top-color: var(--fill-color);\n",
              "    }\n",
              "    60% {\n",
              "      border-color: transparent;\n",
              "      border-right-color: var(--fill-color);\n",
              "    }\n",
              "    80% {\n",
              "      border-color: transparent;\n",
              "      border-right-color: var(--fill-color);\n",
              "      border-bottom-color: var(--fill-color);\n",
              "    }\n",
              "    90% {\n",
              "      border-color: transparent;\n",
              "      border-bottom-color: var(--fill-color);\n",
              "    }\n",
              "  }\n",
              "</style>\n",
              "\n",
              "  <script>\n",
              "    async function quickchart(key) {\n",
              "      const quickchartButtonEl =\n",
              "        document.querySelector('#' + key + ' button');\n",
              "      quickchartButtonEl.disabled = true;  // To prevent multiple clicks.\n",
              "      quickchartButtonEl.classList.add('colab-df-spinner');\n",
              "      try {\n",
              "        const charts = await google.colab.kernel.invokeFunction(\n",
              "            'suggestCharts', [key], {});\n",
              "      } catch (error) {\n",
              "        console.error('Error during call to suggestCharts:', error);\n",
              "      }\n",
              "      quickchartButtonEl.classList.remove('colab-df-spinner');\n",
              "      quickchartButtonEl.classList.add('colab-df-quickchart-complete');\n",
              "    }\n",
              "    (() => {\n",
              "      let quickchartButtonEl =\n",
              "        document.querySelector('#df-80f2286f-0391-4bff-8407-714e2747f289 button');\n",
              "      quickchartButtonEl.style.display =\n",
              "        google.colab.kernel.accessAllowed ? 'block' : 'none';\n",
              "    })();\n",
              "  </script>\n",
              "</div>\n",
              "    </div>\n",
              "  </div>\n"
            ],
            "text/plain": [
              "                                                 Smiles Standard Type  \\\n",
              "0                  CCCC(=O)Nc1n[nH]c2cc(-c3cccnc3)ccc12          IC50   \n",
              "1           CCCC(=O)Nc1n[nH]c2cc(-c3ccc4c(c3)COO4)ccc12          IC50   \n",
              "2     CCCC(=O)Nc1n[nH]c2cc(-c3ccc([N+](=O)[O-])cc3)c...          IC50   \n",
              "3                     O=c1sn(Cc2ccccc2)c(=S)n1Cc1ccccc1          IC50   \n",
              "4                    CC(C)c1cc(NCc2cccnc2)n2ncc(Br)c2n1          IC50   \n",
              "...                                                 ...           ...   \n",
              "3184  O=c1cc(-c2ccc(O)c(O)c2)oc2cc(O)c([C@@H]3O[C@H]...          IC50   \n",
              "3185  COc1ccc(-c2cc(=O)c3c(OC)c([C@@H]4O[C@H](C(=O)N...          IC50   \n",
              "3186                O=C1NC(=O)/C(=C/c2c[nH]c3ccccc23)S1          IC50   \n",
              "3187          C=CC(=O)N1C(=O)CC(c2ccc(Br)cc2)Sc2ccccc21          IC50   \n",
              "3188  CC(C)Oc1ccc(F)c(-c2cnc(N)c(C(=O)Nc3cnccc3N3CCC...          IC50   \n",
              "\n",
              "     Standard Relation  Standard Value  \n",
              "0                  '='        10892.00  \n",
              "1                  '='        25038.00  \n",
              "2                  '>'       100000.00  \n",
              "3                  '='        10000.00  \n",
              "4                  '='          420.00  \n",
              "...                ...             ...  \n",
              "3184               '='       185000.00  \n",
              "3185               '='         9000.00  \n",
              "3186               '='         4930.00  \n",
              "3187               '='         6400.00  \n",
              "3188               '='           40.00  \n",
              "\n",
              "[3189 rows x 4 columns]"
            ]
          },
          "execution_count": 130,
          "metadata": {},
          "output_type": "execute_result"
        }
      ],
      "source": [
        "df = pd.read_csv('/content/drive/MyDrive/Colab Notebooks/tau_kinase_inhib.csv', delimiter=';', usecols=[7,8,9,10])\n",
        "df"
      ]
    },
    {
      "cell_type": "code",
      "execution_count": 131,
      "metadata": {
        "colab": {
          "base_uri": "https://localhost:8080/",
          "height": 424
        },
        "id": "xgTbH6OqxdHi",
        "outputId": "b2a81771-c81f-49bc-f035-d4d2f7e98ba2"
      },
      "outputs": [
        {
          "data": {
            "application/vnd.google.colaboratory.intrinsic+json": {
              "summary": "{\n  \"name\": \"df2\",\n  \"rows\": 2558,\n  \"fields\": [\n    {\n      \"column\": \"Smiles\",\n      \"properties\": {\n        \"dtype\": \"string\",\n        \"num_unique_values\": 2214,\n        \"samples\": [\n          \"Fc1ccc(-c2nn3ccccc3c2-c2ccncc2)cc1\",\n          \"CN(C)S(=O)(=O)c1ccc(Nc2cc(N[C@H]3CC[C@H](N)CC3)nc3c(C#N)cnn23)cc1\",\n          \"CCCCCCCCCCCC(=O)NNC(=O)c1c(O)c2ccccc2n(CC)c1=O\"\n        ],\n        \"semantic_type\": \"\",\n        \"description\": \"\"\n      }\n    },\n    {\n      \"column\": \"Standard Type\",\n      \"properties\": {\n        \"dtype\": \"category\",\n        \"num_unique_values\": 1,\n        \"samples\": [\n          \"IC50\"\n        ],\n        \"semantic_type\": \"\",\n        \"description\": \"\"\n      }\n    },\n    {\n      \"column\": \"Standard Relation\",\n      \"properties\": {\n        \"dtype\": \"category\",\n        \"num_unique_values\": 2,\n        \"samples\": [\n          \"'>='\"\n        ],\n        \"semantic_type\": \"\",\n        \"description\": \"\"\n      }\n    },\n    {\n      \"column\": \"Standard Value\",\n      \"properties\": {\n        \"dtype\": \"number\",\n        \"std\": 98275.79933910449,\n        \"min\": 0.013,\n        \"max\": 3640000.0,\n        \"num_unique_values\": 1030,\n        \"samples\": [\n          4800.0\n        ],\n        \"semantic_type\": \"\",\n        \"description\": \"\"\n      }\n    }\n  ]\n}",
              "type": "dataframe",
              "variable_name": "df2"
            },
            "text/html": [
              "\n",
              "  <div id=\"df-b5633762-9b28-41a3-9271-726885de9b5f\" class=\"colab-df-container\">\n",
              "    <div>\n",
              "<style scoped>\n",
              "    .dataframe tbody tr th:only-of-type {\n",
              "        vertical-align: middle;\n",
              "    }\n",
              "\n",
              "    .dataframe tbody tr th {\n",
              "        vertical-align: top;\n",
              "    }\n",
              "\n",
              "    .dataframe thead th {\n",
              "        text-align: right;\n",
              "    }\n",
              "</style>\n",
              "<table border=\"1\" class=\"dataframe\">\n",
              "  <thead>\n",
              "    <tr style=\"text-align: right;\">\n",
              "      <th></th>\n",
              "      <th>Smiles</th>\n",
              "      <th>Standard Type</th>\n",
              "      <th>Standard Relation</th>\n",
              "      <th>Standard Value</th>\n",
              "    </tr>\n",
              "  </thead>\n",
              "  <tbody>\n",
              "    <tr>\n",
              "      <th>0</th>\n",
              "      <td>CCCC(=O)Nc1n[nH]c2cc(-c3cccnc3)ccc12</td>\n",
              "      <td>IC50</td>\n",
              "      <td>'='</td>\n",
              "      <td>10892.00</td>\n",
              "    </tr>\n",
              "    <tr>\n",
              "      <th>1</th>\n",
              "      <td>CCCC(=O)Nc1n[nH]c2cc(-c3ccc4c(c3)COO4)ccc12</td>\n",
              "      <td>IC50</td>\n",
              "      <td>'='</td>\n",
              "      <td>25038.00</td>\n",
              "    </tr>\n",
              "    <tr>\n",
              "      <th>3</th>\n",
              "      <td>O=c1sn(Cc2ccccc2)c(=S)n1Cc1ccccc1</td>\n",
              "      <td>IC50</td>\n",
              "      <td>'='</td>\n",
              "      <td>10000.00</td>\n",
              "    </tr>\n",
              "    <tr>\n",
              "      <th>4</th>\n",
              "      <td>CC(C)c1cc(NCc2cccnc2)n2ncc(Br)c2n1</td>\n",
              "      <td>IC50</td>\n",
              "      <td>'='</td>\n",
              "      <td>420.00</td>\n",
              "    </tr>\n",
              "    <tr>\n",
              "      <th>6</th>\n",
              "      <td>COc1cccc(-n2ncc3c(N/N=C/c4ccc(NC(C)=O)cc4)ncnc...</td>\n",
              "      <td>IC50</td>\n",
              "      <td>'='</td>\n",
              "      <td>12.59</td>\n",
              "    </tr>\n",
              "    <tr>\n",
              "      <th>...</th>\n",
              "      <td>...</td>\n",
              "      <td>...</td>\n",
              "      <td>...</td>\n",
              "      <td>...</td>\n",
              "    </tr>\n",
              "    <tr>\n",
              "      <th>3184</th>\n",
              "      <td>O=c1cc(-c2ccc(O)c(O)c2)oc2cc(O)c([C@@H]3O[C@H]...</td>\n",
              "      <td>IC50</td>\n",
              "      <td>'='</td>\n",
              "      <td>185000.00</td>\n",
              "    </tr>\n",
              "    <tr>\n",
              "      <th>3185</th>\n",
              "      <td>COc1ccc(-c2cc(=O)c3c(OC)c([C@@H]4O[C@H](C(=O)N...</td>\n",
              "      <td>IC50</td>\n",
              "      <td>'='</td>\n",
              "      <td>9000.00</td>\n",
              "    </tr>\n",
              "    <tr>\n",
              "      <th>3186</th>\n",
              "      <td>O=C1NC(=O)/C(=C/c2c[nH]c3ccccc23)S1</td>\n",
              "      <td>IC50</td>\n",
              "      <td>'='</td>\n",
              "      <td>4930.00</td>\n",
              "    </tr>\n",
              "    <tr>\n",
              "      <th>3187</th>\n",
              "      <td>C=CC(=O)N1C(=O)CC(c2ccc(Br)cc2)Sc2ccccc21</td>\n",
              "      <td>IC50</td>\n",
              "      <td>'='</td>\n",
              "      <td>6400.00</td>\n",
              "    </tr>\n",
              "    <tr>\n",
              "      <th>3188</th>\n",
              "      <td>CC(C)Oc1ccc(F)c(-c2cnc(N)c(C(=O)Nc3cnccc3N3CCC...</td>\n",
              "      <td>IC50</td>\n",
              "      <td>'='</td>\n",
              "      <td>40.00</td>\n",
              "    </tr>\n",
              "  </tbody>\n",
              "</table>\n",
              "<p>2558 rows × 4 columns</p>\n",
              "</div>\n",
              "    <div class=\"colab-df-buttons\">\n",
              "\n",
              "  <div class=\"colab-df-container\">\n",
              "    <button class=\"colab-df-convert\" onclick=\"convertToInteractive('df-b5633762-9b28-41a3-9271-726885de9b5f')\"\n",
              "            title=\"Convert this dataframe to an interactive table.\"\n",
              "            style=\"display:none;\">\n",
              "\n",
              "  <svg xmlns=\"http://www.w3.org/2000/svg\" height=\"24px\" viewBox=\"0 -960 960 960\">\n",
              "    <path d=\"M120-120v-720h720v720H120Zm60-500h600v-160H180v160Zm220 220h160v-160H400v160Zm0 220h160v-160H400v160ZM180-400h160v-160H180v160Zm440 0h160v-160H620v160ZM180-180h160v-160H180v160Zm440 0h160v-160H620v160Z\"/>\n",
              "  </svg>\n",
              "    </button>\n",
              "\n",
              "  <style>\n",
              "    .colab-df-container {\n",
              "      display:flex;\n",
              "      gap: 12px;\n",
              "    }\n",
              "\n",
              "    .colab-df-convert {\n",
              "      background-color: #E8F0FE;\n",
              "      border: none;\n",
              "      border-radius: 50%;\n",
              "      cursor: pointer;\n",
              "      display: none;\n",
              "      fill: #1967D2;\n",
              "      height: 32px;\n",
              "      padding: 0 0 0 0;\n",
              "      width: 32px;\n",
              "    }\n",
              "\n",
              "    .colab-df-convert:hover {\n",
              "      background-color: #E2EBFA;\n",
              "      box-shadow: 0px 1px 2px rgba(60, 64, 67, 0.3), 0px 1px 3px 1px rgba(60, 64, 67, 0.15);\n",
              "      fill: #174EA6;\n",
              "    }\n",
              "\n",
              "    .colab-df-buttons div {\n",
              "      margin-bottom: 4px;\n",
              "    }\n",
              "\n",
              "    [theme=dark] .colab-df-convert {\n",
              "      background-color: #3B4455;\n",
              "      fill: #D2E3FC;\n",
              "    }\n",
              "\n",
              "    [theme=dark] .colab-df-convert:hover {\n",
              "      background-color: #434B5C;\n",
              "      box-shadow: 0px 1px 3px 1px rgba(0, 0, 0, 0.15);\n",
              "      filter: drop-shadow(0px 1px 2px rgba(0, 0, 0, 0.3));\n",
              "      fill: #FFFFFF;\n",
              "    }\n",
              "  </style>\n",
              "\n",
              "    <script>\n",
              "      const buttonEl =\n",
              "        document.querySelector('#df-b5633762-9b28-41a3-9271-726885de9b5f button.colab-df-convert');\n",
              "      buttonEl.style.display =\n",
              "        google.colab.kernel.accessAllowed ? 'block' : 'none';\n",
              "\n",
              "      async function convertToInteractive(key) {\n",
              "        const element = document.querySelector('#df-b5633762-9b28-41a3-9271-726885de9b5f');\n",
              "        const dataTable =\n",
              "          await google.colab.kernel.invokeFunction('convertToInteractive',\n",
              "                                                    [key], {});\n",
              "        if (!dataTable) return;\n",
              "\n",
              "        const docLinkHtml = 'Like what you see? Visit the ' +\n",
              "          '<a target=\"_blank\" href=https://colab.research.google.com/notebooks/data_table.ipynb>data table notebook</a>'\n",
              "          + ' to learn more about interactive tables.';\n",
              "        element.innerHTML = '';\n",
              "        dataTable['output_type'] = 'display_data';\n",
              "        await google.colab.output.renderOutput(dataTable, element);\n",
              "        const docLink = document.createElement('div');\n",
              "        docLink.innerHTML = docLinkHtml;\n",
              "        element.appendChild(docLink);\n",
              "      }\n",
              "    </script>\n",
              "  </div>\n",
              "\n",
              "\n",
              "<div id=\"df-45fb23e9-eea5-4840-a76f-1f5825c24e3f\">\n",
              "  <button class=\"colab-df-quickchart\" onclick=\"quickchart('df-45fb23e9-eea5-4840-a76f-1f5825c24e3f')\"\n",
              "            title=\"Suggest charts\"\n",
              "            style=\"display:none;\">\n",
              "\n",
              "<svg xmlns=\"http://www.w3.org/2000/svg\" height=\"24px\"viewBox=\"0 0 24 24\"\n",
              "     width=\"24px\">\n",
              "    <g>\n",
              "        <path d=\"M19 3H5c-1.1 0-2 .9-2 2v14c0 1.1.9 2 2 2h14c1.1 0 2-.9 2-2V5c0-1.1-.9-2-2-2zM9 17H7v-7h2v7zm4 0h-2V7h2v10zm4 0h-2v-4h2v4z\"/>\n",
              "    </g>\n",
              "</svg>\n",
              "  </button>\n",
              "\n",
              "<style>\n",
              "  .colab-df-quickchart {\n",
              "      --bg-color: #E8F0FE;\n",
              "      --fill-color: #1967D2;\n",
              "      --hover-bg-color: #E2EBFA;\n",
              "      --hover-fill-color: #174EA6;\n",
              "      --disabled-fill-color: #AAA;\n",
              "      --disabled-bg-color: #DDD;\n",
              "  }\n",
              "\n",
              "  [theme=dark] .colab-df-quickchart {\n",
              "      --bg-color: #3B4455;\n",
              "      --fill-color: #D2E3FC;\n",
              "      --hover-bg-color: #434B5C;\n",
              "      --hover-fill-color: #FFFFFF;\n",
              "      --disabled-bg-color: #3B4455;\n",
              "      --disabled-fill-color: #666;\n",
              "  }\n",
              "\n",
              "  .colab-df-quickchart {\n",
              "    background-color: var(--bg-color);\n",
              "    border: none;\n",
              "    border-radius: 50%;\n",
              "    cursor: pointer;\n",
              "    display: none;\n",
              "    fill: var(--fill-color);\n",
              "    height: 32px;\n",
              "    padding: 0;\n",
              "    width: 32px;\n",
              "  }\n",
              "\n",
              "  .colab-df-quickchart:hover {\n",
              "    background-color: var(--hover-bg-color);\n",
              "    box-shadow: 0 1px 2px rgba(60, 64, 67, 0.3), 0 1px 3px 1px rgba(60, 64, 67, 0.15);\n",
              "    fill: var(--button-hover-fill-color);\n",
              "  }\n",
              "\n",
              "  .colab-df-quickchart-complete:disabled,\n",
              "  .colab-df-quickchart-complete:disabled:hover {\n",
              "    background-color: var(--disabled-bg-color);\n",
              "    fill: var(--disabled-fill-color);\n",
              "    box-shadow: none;\n",
              "  }\n",
              "\n",
              "  .colab-df-spinner {\n",
              "    border: 2px solid var(--fill-color);\n",
              "    border-color: transparent;\n",
              "    border-bottom-color: var(--fill-color);\n",
              "    animation:\n",
              "      spin 1s steps(1) infinite;\n",
              "  }\n",
              "\n",
              "  @keyframes spin {\n",
              "    0% {\n",
              "      border-color: transparent;\n",
              "      border-bottom-color: var(--fill-color);\n",
              "      border-left-color: var(--fill-color);\n",
              "    }\n",
              "    20% {\n",
              "      border-color: transparent;\n",
              "      border-left-color: var(--fill-color);\n",
              "      border-top-color: var(--fill-color);\n",
              "    }\n",
              "    30% {\n",
              "      border-color: transparent;\n",
              "      border-left-color: var(--fill-color);\n",
              "      border-top-color: var(--fill-color);\n",
              "      border-right-color: var(--fill-color);\n",
              "    }\n",
              "    40% {\n",
              "      border-color: transparent;\n",
              "      border-right-color: var(--fill-color);\n",
              "      border-top-color: var(--fill-color);\n",
              "    }\n",
              "    60% {\n",
              "      border-color: transparent;\n",
              "      border-right-color: var(--fill-color);\n",
              "    }\n",
              "    80% {\n",
              "      border-color: transparent;\n",
              "      border-right-color: var(--fill-color);\n",
              "      border-bottom-color: var(--fill-color);\n",
              "    }\n",
              "    90% {\n",
              "      border-color: transparent;\n",
              "      border-bottom-color: var(--fill-color);\n",
              "    }\n",
              "  }\n",
              "</style>\n",
              "\n",
              "  <script>\n",
              "    async function quickchart(key) {\n",
              "      const quickchartButtonEl =\n",
              "        document.querySelector('#' + key + ' button');\n",
              "      quickchartButtonEl.disabled = true;  // To prevent multiple clicks.\n",
              "      quickchartButtonEl.classList.add('colab-df-spinner');\n",
              "      try {\n",
              "        const charts = await google.colab.kernel.invokeFunction(\n",
              "            'suggestCharts', [key], {});\n",
              "      } catch (error) {\n",
              "        console.error('Error during call to suggestCharts:', error);\n",
              "      }\n",
              "      quickchartButtonEl.classList.remove('colab-df-spinner');\n",
              "      quickchartButtonEl.classList.add('colab-df-quickchart-complete');\n",
              "    }\n",
              "    (() => {\n",
              "      let quickchartButtonEl =\n",
              "        document.querySelector('#df-45fb23e9-eea5-4840-a76f-1f5825c24e3f button');\n",
              "      quickchartButtonEl.style.display =\n",
              "        google.colab.kernel.accessAllowed ? 'block' : 'none';\n",
              "    })();\n",
              "  </script>\n",
              "</div>\n",
              "    </div>\n",
              "  </div>\n"
            ],
            "text/plain": [
              "                                                 Smiles Standard Type  \\\n",
              "0                  CCCC(=O)Nc1n[nH]c2cc(-c3cccnc3)ccc12          IC50   \n",
              "1           CCCC(=O)Nc1n[nH]c2cc(-c3ccc4c(c3)COO4)ccc12          IC50   \n",
              "3                     O=c1sn(Cc2ccccc2)c(=S)n1Cc1ccccc1          IC50   \n",
              "4                    CC(C)c1cc(NCc2cccnc2)n2ncc(Br)c2n1          IC50   \n",
              "6     COc1cccc(-n2ncc3c(N/N=C/c4ccc(NC(C)=O)cc4)ncnc...          IC50   \n",
              "...                                                 ...           ...   \n",
              "3184  O=c1cc(-c2ccc(O)c(O)c2)oc2cc(O)c([C@@H]3O[C@H]...          IC50   \n",
              "3185  COc1ccc(-c2cc(=O)c3c(OC)c([C@@H]4O[C@H](C(=O)N...          IC50   \n",
              "3186                O=C1NC(=O)/C(=C/c2c[nH]c3ccccc23)S1          IC50   \n",
              "3187          C=CC(=O)N1C(=O)CC(c2ccc(Br)cc2)Sc2ccccc21          IC50   \n",
              "3188  CC(C)Oc1ccc(F)c(-c2cnc(N)c(C(=O)Nc3cnccc3N3CCC...          IC50   \n",
              "\n",
              "     Standard Relation  Standard Value  \n",
              "0                  '='        10892.00  \n",
              "1                  '='        25038.00  \n",
              "3                  '='        10000.00  \n",
              "4                  '='          420.00  \n",
              "6                  '='           12.59  \n",
              "...                ...             ...  \n",
              "3184               '='       185000.00  \n",
              "3185               '='         9000.00  \n",
              "3186               '='         4930.00  \n",
              "3187               '='         6400.00  \n",
              "3188               '='           40.00  \n",
              "\n",
              "[2558 rows x 4 columns]"
            ]
          },
          "execution_count": 131,
          "metadata": {},
          "output_type": "execute_result"
        }
      ],
      "source": [
        "df2 = df[df['Standard Relation'].str.contains('=')== True ]\n",
        "df2"
      ]
    },
    {
      "cell_type": "code",
      "execution_count": 132,
      "metadata": {
        "id": "XmjnKPKFxm2m"
      },
      "outputs": [],
      "source": [
        "df2.rename(columns={'Standard Value':'IC50'}, inplace=True)"
      ]
    },
    {
      "cell_type": "code",
      "execution_count": 133,
      "metadata": {
        "id": "zdbMAlN_xoz3"
      },
      "outputs": [],
      "source": [
        "repeated_smiles = df2[df2.Smiles.duplicated()].Smiles.unique()"
      ]
    },
    {
      "cell_type": "code",
      "execution_count": 134,
      "metadata": {
        "id": "sGRJkAPYxqaQ"
      },
      "outputs": [],
      "source": [
        "for smi in repeated_smiles:\n",
        "  df_temp = df2[df2.Smiles==smi]\n",
        "  df2.loc[df2.Smiles==smi, 'IC50'] = df_temp.IC50.median()"
      ]
    },
    {
      "cell_type": "code",
      "execution_count": 135,
      "metadata": {
        "colab": {
          "base_uri": "https://localhost:8080/"
        },
        "id": "E4V27hAixsVX",
        "outputId": "70c8d4ae-c88d-4526-9169-e3c5e2db8ac3"
      },
      "outputs": [
        {
          "data": {
            "text/plain": [
              "(2214, 4)"
            ]
          },
          "execution_count": 135,
          "metadata": {},
          "output_type": "execute_result"
        }
      ],
      "source": [
        "df2.drop_duplicates(subset=['Smiles', 'IC50'], inplace=True)\n",
        "df2.shape"
      ]
    },
    {
      "cell_type": "code",
      "execution_count": 136,
      "metadata": {
        "colab": {
          "base_uri": "https://localhost:8080/",
          "height": 465
        },
        "id": "d1gFTFCzxu2s",
        "outputId": "fc3deb5c-cbf0-40ed-8f51-bcece483543c"
      },
      "outputs": [
        {
          "data": {
            "image/png": "[encoded data removed]",
            "text/plain": [
              "<Figure size 640x480 with 1 Axes>"
            ]
          },
          "metadata": {},
          "output_type": "display_data"
        }
      ],
      "source": [
        "sns.distplot(df2['IC50'], hist=True, kde=True,\n",
        "             bins=int(180/5), color = 'blue',\n",
        "             hist_kws={'edgecolor':'black'})\n",
        "plt.show()"
      ]
    },
    {
      "cell_type": "code",
      "execution_count": 137,
      "metadata": {
        "id": "2i0CnrXYxxOc"
      },
      "outputs": [],
      "source": [
        "df2['lgIC50'] = df2.IC50.apply(np.log10)"
      ]
    },
    {
      "cell_type": "code",
      "execution_count": 138,
      "metadata": {
        "colab": {
          "base_uri": "https://localhost:8080/"
        },
        "id": "fJ_I3nqqxzLm",
        "outputId": "41e0f4c1-f1af-4440-ec14-ca5c2bf46ba8"
      },
      "outputs": [
        {
          "data": {
            "text/plain": [
              "2.376340849616336"
            ]
          },
          "execution_count": 138,
          "metadata": {},
          "output_type": "execute_result"
        }
      ],
      "source": [
        "df2.lgIC50.mean()"
      ]
    },
    {
      "cell_type": "code",
      "execution_count": 139,
      "metadata": {
        "colab": {
          "base_uri": "https://localhost:8080/"
        },
        "id": "_d70j3Lix0xl",
        "outputId": "98bc2021-09d7-4a4e-cf00-4f5769971917"
      },
      "outputs": [
        {
          "name": "stdout",
          "output_type": "stream",
          "text": [
            "Indices of outliers: [ 51 415 813]\n",
            "Outlier values: [6.561101383649056, 6.301029995663981, -1.8860566476931633]\n"
          ]
        }
      ],
      "source": [
        "def detect_outliers_zscore(data, threshold=3.0):\n",
        "    \"\"\"\n",
        "    Detect outliers using Z-score method.\n",
        "\n",
        "    Parameters:\n",
        "        data (array-like): Input data.\n",
        "        threshold (float): Z-score threshold for identifying outliers.\n",
        "\n",
        "    Returns:\n",
        "        outliers (array-like): Array containing the indices of outlier data points.\n",
        "    \"\"\"\n",
        "    mean = np.mean(data)\n",
        "    std_dev = np.std(data)\n",
        "    z_scores = [(x - mean) / std_dev for x in data]\n",
        "    outliers = np.where(np.abs(z_scores) > threshold)[0]\n",
        "    return outliers\n",
        "\n",
        "# Example usage:\n",
        "outliers = detect_outliers_zscore(df2['lgIC50'])\n",
        "print(\"Indices of outliers:\", outliers)\n",
        "print(\"Outlier values:\", [df2['lgIC50'].iloc[i] for i in outliers])"
      ]
    },
    {
      "cell_type": "code",
      "execution_count": 140,
      "metadata": {
        "colab": {
          "base_uri": "https://localhost:8080/",
          "height": 424
        },
        "id": "zfoR4naax30w",
        "outputId": "fba27d15-4744-4c16-cc4d-16e84b0b913b"
      },
      "outputs": [
        {
          "data": {
            "application/vnd.google.colaboratory.intrinsic+json": {
              "summary": "{\n  \"name\": \"filtered_data\",\n  \"rows\": 2211,\n  \"fields\": [\n    {\n      \"column\": \"Smiles\",\n      \"properties\": {\n        \"dtype\": \"string\",\n        \"num_unique_values\": 2211,\n        \"samples\": [\n          \"CC1(C)Cn2cc(C(=O)O)c(=O)c3c(N)c(F)c(NCCNc4ccccn4)c(c32)O1\",\n          \"O=C1Cc2c([nH]c3ccc(Br)cc23)-c2ccccc2N1Cc1ccccc1\",\n          \"O=C(Nc1cc(-c2nc(OCC3CC3)c(C(=O)N3CC(F)C3)s2)ccn1)C1CC1\"\n        ],\n        \"semantic_type\": \"\",\n        \"description\": \"\"\n      }\n    },\n    {\n      \"column\": \"Standard Type\",\n      \"properties\": {\n        \"dtype\": \"category\",\n        \"num_unique_values\": 1,\n        \"samples\": [\n          \"IC50\"\n        ],\n        \"semantic_type\": \"\",\n        \"description\": \"\"\n      }\n    },\n    {\n      \"column\": \"Standard Relation\",\n      \"properties\": {\n        \"dtype\": \"category\",\n        \"num_unique_values\": 2,\n        \"samples\": [\n          \"'>='\"\n        ],\n        \"semantic_type\": \"\",\n        \"description\": \"\"\n      }\n    },\n    {\n      \"column\": \"IC50\",\n      \"properties\": {\n        \"dtype\": \"number\",\n        \"std\": 53012.476108214505,\n        \"min\": 0.06,\n        \"max\": 1430000.0,\n        \"num_unique_values\": 1017,\n        \"samples\": [\n          1429.0\n        ],\n        \"semantic_type\": \"\",\n        \"description\": \"\"\n      }\n    },\n    {\n      \"column\": \"lgIC50\",\n      \"properties\": {\n        \"dtype\": \"number\",\n        \"std\": 1.283012386009611,\n        \"min\": -1.2218487496163564,\n        \"max\": 6.155336037465061,\n        \"num_unique_values\": 1017,\n        \"samples\": [\n          3.1550322287909704\n        ],\n        \"semantic_type\": \"\",\n        \"description\": \"\"\n      }\n    }\n  ]\n}",
              "type": "dataframe",
              "variable_name": "filtered_data"
            },
            "text/html": [
              "\n",
              "  <div id=\"df-146a4124-ea77-4e8f-9777-9885a3d1a4b3\" class=\"colab-df-container\">\n",
              "    <div>\n",
              "<style scoped>\n",
              "    .dataframe tbody tr th:only-of-type {\n",
              "        vertical-align: middle;\n",
              "    }\n",
              "\n",
              "    .dataframe tbody tr th {\n",
              "        vertical-align: top;\n",
              "    }\n",
              "\n",
              "    .dataframe thead th {\n",
              "        text-align: right;\n",
              "    }\n",
              "</style>\n",
              "<table border=\"1\" class=\"dataframe\">\n",
              "  <thead>\n",
              "    <tr style=\"text-align: right;\">\n",
              "      <th></th>\n",
              "      <th>Smiles</th>\n",
              "      <th>Standard Type</th>\n",
              "      <th>Standard Relation</th>\n",
              "      <th>IC50</th>\n",
              "      <th>lgIC50</th>\n",
              "    </tr>\n",
              "  </thead>\n",
              "  <tbody>\n",
              "    <tr>\n",
              "      <th>0</th>\n",
              "      <td>CCCC(=O)Nc1n[nH]c2cc(-c3cccnc3)ccc12</td>\n",
              "      <td>IC50</td>\n",
              "      <td>'='</td>\n",
              "      <td>8396.00</td>\n",
              "      <td>3.92</td>\n",
              "    </tr>\n",
              "    <tr>\n",
              "      <th>1</th>\n",
              "      <td>CCCC(=O)Nc1n[nH]c2cc(-c3ccc4c(c3)COO4)ccc12</td>\n",
              "      <td>IC50</td>\n",
              "      <td>'='</td>\n",
              "      <td>25038.00</td>\n",
              "      <td>4.40</td>\n",
              "    </tr>\n",
              "    <tr>\n",
              "      <th>3</th>\n",
              "      <td>O=c1sn(Cc2ccccc2)c(=S)n1Cc1ccccc1</td>\n",
              "      <td>IC50</td>\n",
              "      <td>'='</td>\n",
              "      <td>10000.00</td>\n",
              "      <td>4.00</td>\n",
              "    </tr>\n",
              "    <tr>\n",
              "      <th>4</th>\n",
              "      <td>CC(C)c1cc(NCc2cccnc2)n2ncc(Br)c2n1</td>\n",
              "      <td>IC50</td>\n",
              "      <td>'='</td>\n",
              "      <td>420.00</td>\n",
              "      <td>2.62</td>\n",
              "    </tr>\n",
              "    <tr>\n",
              "      <th>6</th>\n",
              "      <td>COc1cccc(-n2ncc3c(N/N=C/c4ccc(NC(C)=O)cc4)ncnc...</td>\n",
              "      <td>IC50</td>\n",
              "      <td>'='</td>\n",
              "      <td>12.59</td>\n",
              "      <td>1.10</td>\n",
              "    </tr>\n",
              "    <tr>\n",
              "      <th>...</th>\n",
              "      <td>...</td>\n",
              "      <td>...</td>\n",
              "      <td>...</td>\n",
              "      <td>...</td>\n",
              "      <td>...</td>\n",
              "    </tr>\n",
              "    <tr>\n",
              "      <th>3182</th>\n",
              "      <td>CN(c1ncnc2[nH]c3cc(Cl)ccc3c12)C1CCCN(C(=O)CC#N)C1</td>\n",
              "      <td>IC50</td>\n",
              "      <td>'='</td>\n",
              "      <td>2000.00</td>\n",
              "      <td>3.30</td>\n",
              "    </tr>\n",
              "    <tr>\n",
              "      <th>3184</th>\n",
              "      <td>O=c1cc(-c2ccc(O)c(O)c2)oc2cc(O)c([C@@H]3O[C@H]...</td>\n",
              "      <td>IC50</td>\n",
              "      <td>'='</td>\n",
              "      <td>185000.00</td>\n",
              "      <td>5.27</td>\n",
              "    </tr>\n",
              "    <tr>\n",
              "      <th>3185</th>\n",
              "      <td>COc1ccc(-c2cc(=O)c3c(OC)c([C@@H]4O[C@H](C(=O)N...</td>\n",
              "      <td>IC50</td>\n",
              "      <td>'='</td>\n",
              "      <td>9000.00</td>\n",
              "      <td>3.95</td>\n",
              "    </tr>\n",
              "    <tr>\n",
              "      <th>3187</th>\n",
              "      <td>C=CC(=O)N1C(=O)CC(c2ccc(Br)cc2)Sc2ccccc21</td>\n",
              "      <td>IC50</td>\n",
              "      <td>'='</td>\n",
              "      <td>6400.00</td>\n",
              "      <td>3.81</td>\n",
              "    </tr>\n",
              "    <tr>\n",
              "      <th>3188</th>\n",
              "      <td>CC(C)Oc1ccc(F)c(-c2cnc(N)c(C(=O)Nc3cnccc3N3CCC...</td>\n",
              "      <td>IC50</td>\n",
              "      <td>'='</td>\n",
              "      <td>40.00</td>\n",
              "      <td>1.60</td>\n",
              "    </tr>\n",
              "  </tbody>\n",
              "</table>\n",
              "<p>2211 rows × 5 columns</p>\n",
              "</div>\n",
              "    <div class=\"colab-df-buttons\">\n",
              "\n",
              "  <div class=\"colab-df-container\">\n",
              "    <button class=\"colab-df-convert\" onclick=\"convertToInteractive('df-146a4124-ea77-4e8f-9777-9885a3d1a4b3')\"\n",
              "            title=\"Convert this dataframe to an interactive table.\"\n",
              "            style=\"display:none;\">\n",
              "\n",
              "  <svg xmlns=\"http://www.w3.org/2000/svg\" height=\"24px\" viewBox=\"0 -960 960 960\">\n",
              "    <path d=\"M120-120v-720h720v720H120Zm60-500h600v-160H180v160Zm220 220h160v-160H400v160Zm0 220h160v-160H400v160ZM180-400h160v-160H180v160Zm440 0h160v-160H620v160ZM180-180h160v-160H180v160Zm440 0h160v-160H620v160Z\"/>\n",
              "  </svg>\n",
              "    </button>\n",
              "\n",
              "  <style>\n",
              "    .colab-df-container {\n",
              "      display:flex;\n",
              "      gap: 12px;\n",
              "    }\n",
              "\n",
              "    .colab-df-convert {\n",
              "      background-color: #E8F0FE;\n",
              "      border: none;\n",
              "      border-radius: 50%;\n",
              "      cursor: pointer;\n",
              "      display: none;\n",
              "      fill: #1967D2;\n",
              "      height: 32px;\n",
              "      padding: 0 0 0 0;\n",
              "      width: 32px;\n",
              "    }\n",
              "\n",
              "    .colab-df-convert:hover {\n",
              "      background-color: #E2EBFA;\n",
              "      box-shadow: 0px 1px 2px rgba(60, 64, 67, 0.3), 0px 1px 3px 1px rgba(60, 64, 67, 0.15);\n",
              "      fill: #174EA6;\n",
              "    }\n",
              "\n",
              "    .colab-df-buttons div {\n",
              "      margin-bottom: 4px;\n",
              "    }\n",
              "\n",
              "    [theme=dark] .colab-df-convert {\n",
              "      background-color: #3B4455;\n",
              "      fill: #D2E3FC;\n",
              "    }\n",
              "\n",
              "    [theme=dark] .colab-df-convert:hover {\n",
              "      background-color: #434B5C;\n",
              "      box-shadow: 0px 1px 3px 1px rgba(0, 0, 0, 0.15);\n",
              "      filter: drop-shadow(0px 1px 2px rgba(0, 0, 0, 0.3));\n",
              "      fill: #FFFFFF;\n",
              "    }\n",
              "  </style>\n",
              "\n",
              "    <script>\n",
              "      const buttonEl =\n",
              "        document.querySelector('#df-146a4124-ea77-4e8f-9777-9885a3d1a4b3 button.colab-df-convert');\n",
              "      buttonEl.style.display =\n",
              "        google.colab.kernel.accessAllowed ? 'block' : 'none';\n",
              "\n",
              "      async function convertToInteractive(key) {\n",
              "        const element = document.querySelector('#df-146a4124-ea77-4e8f-9777-9885a3d1a4b3');\n",
              "        const dataTable =\n",
              "          await google.colab.kernel.invokeFunction('convertToInteractive',\n",
              "                                                    [key], {});\n",
              "        if (!dataTable) return;\n",
              "\n",
              "        const docLinkHtml = 'Like what you see? Visit the ' +\n",
              "          '<a target=\"_blank\" href=https://colab.research.google.com/notebooks/data_table.ipynb>data table notebook</a>'\n",
              "          + ' to learn more about interactive tables.';\n",
              "        element.innerHTML = '';\n",
              "        dataTable['output_type'] = 'display_data';\n",
              "        await google.colab.output.renderOutput(dataTable, element);\n",
              "        const docLink = document.createElement('div');\n",
              "        docLink.innerHTML = docLinkHtml;\n",
              "        element.appendChild(docLink);\n",
              "      }\n",
              "    </script>\n",
              "  </div>\n",
              "\n",
              "\n",
              "<div id=\"df-83bb1ae3-4b03-4f14-9383-53ce820effea\">\n",
              "  <button class=\"colab-df-quickchart\" onclick=\"quickchart('df-83bb1ae3-4b03-4f14-9383-53ce820effea')\"\n",
              "            title=\"Suggest charts\"\n",
              "            style=\"display:none;\">\n",
              "\n",
              "<svg xmlns=\"http://www.w3.org/2000/svg\" height=\"24px\"viewBox=\"0 0 24 24\"\n",
              "     width=\"24px\">\n",
              "    <g>\n",
              "        <path d=\"M19 3H5c-1.1 0-2 .9-2 2v14c0 1.1.9 2 2 2h14c1.1 0 2-.9 2-2V5c0-1.1-.9-2-2-2zM9 17H7v-7h2v7zm4 0h-2V7h2v10zm4 0h-2v-4h2v4z\"/>\n",
              "    </g>\n",
              "</svg>\n",
              "  </button>\n",
              "\n",
              "<style>\n",
              "  .colab-df-quickchart {\n",
              "      --bg-color: #E8F0FE;\n",
              "      --fill-color: #1967D2;\n",
              "      --hover-bg-color: #E2EBFA;\n",
              "      --hover-fill-color: #174EA6;\n",
              "      --disabled-fill-color: #AAA;\n",
              "      --disabled-bg-color: #DDD;\n",
              "  }\n",
              "\n",
              "  [theme=dark] .colab-df-quickchart {\n",
              "      --bg-color: #3B4455;\n",
              "      --fill-color: #D2E3FC;\n",
              "      --hover-bg-color: #434B5C;\n",
              "      --hover-fill-color: #FFFFFF;\n",
              "      --disabled-bg-color: #3B4455;\n",
              "      --disabled-fill-color: #666;\n",
              "  }\n",
              "\n",
              "  .colab-df-quickchart {\n",
              "    background-color: var(--bg-color);\n",
              "    border: none;\n",
              "    border-radius: 50%;\n",
              "    cursor: pointer;\n",
              "    display: none;\n",
              "    fill: var(--fill-color);\n",
              "    height: 32px;\n",
              "    padding: 0;\n",
              "    width: 32px;\n",
              "  }\n",
              "\n",
              "  .colab-df-quickchart:hover {\n",
              "    background-color: var(--hover-bg-color);\n",
              "    box-shadow: 0 1px 2px rgba(60, 64, 67, 0.3), 0 1px 3px 1px rgba(60, 64, 67, 0.15);\n",
              "    fill: var(--button-hover-fill-color);\n",
              "  }\n",
              "\n",
              "  .colab-df-quickchart-complete:disabled,\n",
              "  .colab-df-quickchart-complete:disabled:hover {\n",
              "    background-color: var(--disabled-bg-color);\n",
              "    fill: var(--disabled-fill-color);\n",
              "    box-shadow: none;\n",
              "  }\n",
              "\n",
              "  .colab-df-spinner {\n",
              "    border: 2px solid var(--fill-color);\n",
              "    border-color: transparent;\n",
              "    border-bottom-color: var(--fill-color);\n",
              "    animation:\n",
              "      spin 1s steps(1) infinite;\n",
              "  }\n",
              "\n",
              "  @keyframes spin {\n",
              "    0% {\n",
              "      border-color: transparent;\n",
              "      border-bottom-color: var(--fill-color);\n",
              "      border-left-color: var(--fill-color);\n",
              "    }\n",
              "    20% {\n",
              "      border-color: transparent;\n",
              "      border-left-color: var(--fill-color);\n",
              "      border-top-color: var(--fill-color);\n",
              "    }\n",
              "    30% {\n",
              "      border-color: transparent;\n",
              "      border-left-color: var(--fill-color);\n",
              "      border-top-color: var(--fill-color);\n",
              "      border-right-color: var(--fill-color);\n",
              "    }\n",
              "    40% {\n",
              "      border-color: transparent;\n",
              "      border-right-color: var(--fill-color);\n",
              "      border-top-color: var(--fill-color);\n",
              "    }\n",
              "    60% {\n",
              "      border-color: transparent;\n",
              "      border-right-color: var(--fill-color);\n",
              "    }\n",
              "    80% {\n",
              "      border-color: transparent;\n",
              "      border-right-color: var(--fill-color);\n",
              "      border-bottom-color: var(--fill-color);\n",
              "    }\n",
              "    90% {\n",
              "      border-color: transparent;\n",
              "      border-bottom-color: var(--fill-color);\n",
              "    }\n",
              "  }\n",
              "</style>\n",
              "\n",
              "  <script>\n",
              "    async function quickchart(key) {\n",
              "      const quickchartButtonEl =\n",
              "        document.querySelector('#' + key + ' button');\n",
              "      quickchartButtonEl.disabled = true;  // To prevent multiple clicks.\n",
              "      quickchartButtonEl.classList.add('colab-df-spinner');\n",
              "      try {\n",
              "        const charts = await google.colab.kernel.invokeFunction(\n",
              "            'suggestCharts', [key], {});\n",
              "      } catch (error) {\n",
              "        console.error('Error during call to suggestCharts:', error);\n",
              "      }\n",
              "      quickchartButtonEl.classList.remove('colab-df-spinner');\n",
              "      quickchartButtonEl.classList.add('colab-df-quickchart-complete');\n",
              "    }\n",
              "    (() => {\n",
              "      let quickchartButtonEl =\n",
              "        document.querySelector('#df-83bb1ae3-4b03-4f14-9383-53ce820effea button');\n",
              "      quickchartButtonEl.style.display =\n",
              "        google.colab.kernel.accessAllowed ? 'block' : 'none';\n",
              "    })();\n",
              "  </script>\n",
              "</div>\n",
              "    </div>\n",
              "  </div>\n"
            ],
            "text/plain": [
              "                                                 Smiles Standard Type  \\\n",
              "0                  CCCC(=O)Nc1n[nH]c2cc(-c3cccnc3)ccc12          IC50   \n",
              "1           CCCC(=O)Nc1n[nH]c2cc(-c3ccc4c(c3)COO4)ccc12          IC50   \n",
              "3                     O=c1sn(Cc2ccccc2)c(=S)n1Cc1ccccc1          IC50   \n",
              "4                    CC(C)c1cc(NCc2cccnc2)n2ncc(Br)c2n1          IC50   \n",
              "6     COc1cccc(-n2ncc3c(N/N=C/c4ccc(NC(C)=O)cc4)ncnc...          IC50   \n",
              "...                                                 ...           ...   \n",
              "3182  CN(c1ncnc2[nH]c3cc(Cl)ccc3c12)C1CCCN(C(=O)CC#N)C1          IC50   \n",
              "3184  O=c1cc(-c2ccc(O)c(O)c2)oc2cc(O)c([C@@H]3O[C@H]...          IC50   \n",
              "3185  COc1ccc(-c2cc(=O)c3c(OC)c([C@@H]4O[C@H](C(=O)N...          IC50   \n",
              "3187          C=CC(=O)N1C(=O)CC(c2ccc(Br)cc2)Sc2ccccc21          IC50   \n",
              "3188  CC(C)Oc1ccc(F)c(-c2cnc(N)c(C(=O)Nc3cnccc3N3CCC...          IC50   \n",
              "\n",
              "     Standard Relation      IC50  lgIC50  \n",
              "0                  '='   8396.00    3.92  \n",
              "1                  '='  25038.00    4.40  \n",
              "3                  '='  10000.00    4.00  \n",
              "4                  '='    420.00    2.62  \n",
              "6                  '='     12.59    1.10  \n",
              "...                ...       ...     ...  \n",
              "3182               '='   2000.00    3.30  \n",
              "3184               '=' 185000.00    5.27  \n",
              "3185               '='   9000.00    3.95  \n",
              "3187               '='   6400.00    3.81  \n",
              "3188               '='     40.00    1.60  \n",
              "\n",
              "[2211 rows x 5 columns]"
            ]
          },
          "execution_count": 140,
          "metadata": {},
          "output_type": "execute_result"
        }
      ],
      "source": [
        "filtered_data = df2.drop(df2.index[outliers], errors='ignore')\n",
        "filtered_data"
      ]
    },
    {
      "cell_type": "code",
      "execution_count": 141,
      "metadata": {
        "colab": {
          "base_uri": "https://localhost:8080/",
          "height": 451
        },
        "id": "oBZV5Q3Tx6FF",
        "outputId": "db59b22a-0c3f-4ec6-e924-21c56aa4933c"
      },
      "outputs": [
        {
          "data": {
            "image/png": "[encoded data removed]",
            "text/plain": [
              "<Figure size 640x480 with 1 Axes>"
            ]
          },
          "metadata": {},
          "output_type": "display_data"
        }
      ],
      "source": [
        "sns.distplot(filtered_data['lgIC50'], hist=True, kde=True,\n",
        "             bins=int(180/15), color = 'blue',\n",
        "             hist_kws={'edgecolor':'black'})\n",
        "plt.show()"
      ]
    },
    {
      "cell_type": "code",
      "execution_count": 142,
      "metadata": {
        "id": "nkfAld_3CCPe"
      },
      "outputs": [],
      "source": [
        "filtered_data['Class'] = (filtered_data['lgIC50'] > 2.4).astype(int) # based on median value"
      ]
    },
    {
      "cell_type": "code",
      "execution_count": 143,
      "metadata": {
        "id": "KH-1S3276Is_"
      },
      "outputs": [],
      "source": [
        "X_train, X_test, y_train, y_test = train_test_split(filtered_data['Smiles'], filtered_data['lgIC50'], test_size=0.2, random_state=42)"
      ]
    },
    {
      "cell_type": "markdown",
      "metadata": {
        "id": "mb-dm2sm0viF"
      },
      "source": [
        "# Different representations"
      ]
    },
    {
      "cell_type": "code",
      "execution_count": 144,
      "metadata": {
        "id": "zkmELdXn6SwK"
      },
      "outputs": [],
      "source": [
        "class MolecularDescriptorTransformer(BaseEstimator, TransformerMixin):\n",
        "    def __init__(self, descriptor_type='standard'):\n",
        "        self.descriptor_type = descriptor_type\n",
        "        self.descriptor_names = list(rdMolDescriptors.Properties.GetAvailableProperties())\n",
        "        self.get_descriptors = rdMolDescriptors.Properties(self.descriptor_names)\n",
        "\n",
        "    def smi_to_descriptors(self, smile):\n",
        "        mol = Chem.MolFromSmiles(smile)\n",
        "        if mol:\n",
        "            descriptors = np.array(self.get_descriptors.ComputeProperties(mol))\n",
        "            return descriptors\n",
        "        else:\n",
        "            return np.zeros(len(self.descriptor_names))\n",
        "\n",
        "    def smi_to_MACCS(self, smile):\n",
        "        mol = Chem.MolFromSmiles(smile)\n",
        "        if mol:\n",
        "            maccs = np.array(list(MACCSkeys.GenMACCSKeys(mol).ToBitString())).astype(int)\n",
        "            return maccs\n",
        "        else:\n",
        "            return np.zeros(167)\n",
        "\n",
        "    def smi_to_Morgan(self, smile):\n",
        "        mol = Chem.MolFromSmiles(smile)\n",
        "        if mol:\n",
        "            fp = AllChem.GetHashedMorganFingerprint(mol, 2, nBits=512)\n",
        "            ar = np.zeros((1,), dtype=np.int8)\n",
        "            DataStructs.ConvertToNumpyArray(fp, ar)\n",
        "            return ar\n",
        "        else:\n",
        "            return np.zeros(2048)\n",
        "\n",
        "\n",
        "    def fit(self, X, y=None):\n",
        "        return self\n",
        "\n",
        "    def transform(self, X):\n",
        "        if self.descriptor_type == 'standard':\n",
        "            return np.vstack(X.apply(self.smi_to_descriptors))\n",
        "        elif self.descriptor_type == 'MACCS':\n",
        "            return np.vstack(X.apply(self.smi_to_MACCS))\n",
        "        elif self.descriptor_type == 'Morgan':\n",
        "            return np.vstack(X.apply(self.smi_to_Morgan))\n",
        "        else:\n",
        "            raise ValueError(\"Unsupported descriptor type\")"
      ]
    },
    {
      "cell_type": "code",
      "execution_count": 145,
      "metadata": {
        "id": "33KRkXUy6d00"
      },
      "outputs": [],
      "source": [
        "descriptor_pipeline = Pipeline([\n",
        "    ('descriptors', MolecularDescriptorTransformer(descriptor_type='standard')),\n",
        "    ('scaler', StandardScaler())\n",
        "])\n",
        "\n",
        "X_train_transformed = descriptor_pipeline.fit_transform(X_train)\n",
        "X_test_transformed = descriptor_pipeline.transform(X_test)"
      ]
    },
    {
      "cell_type": "code",
      "execution_count": 146,
      "metadata": {
        "id": "V1BoYD5s6hw4"
      },
      "outputs": [],
      "source": [
        "maccs_pipeline = Pipeline([\n",
        "    ('MACCS', MolecularDescriptorTransformer(descriptor_type='MACCS')),\n",
        "    ('scaler', StandardScaler())\n",
        "])\n",
        "\n",
        "X_train_maccs = maccs_pipeline.fit_transform(X_train)\n",
        "X_test_maccs = maccs_pipeline.transform(X_test)"
      ]
    },
    {
      "cell_type": "code",
      "execution_count": 147,
      "metadata": {
        "id": "LKrfdacR6ppE"
      },
      "outputs": [],
      "source": [
        "Morgan_pipeline = Pipeline([\n",
        "    ('Morgan', MolecularDescriptorTransformer(descriptor_type='Morgan')),\n",
        "    ('scaler', StandardScaler())\n",
        "])\n",
        "\n",
        "X_train_morgan = maccs_pipeline.fit_transform(X_train)\n",
        "X_test_morgan = maccs_pipeline.transform(X_test)"
      ]
    },
    {
      "cell_type": "markdown",
      "metadata": {
        "id": "S5HAoLQo7LIZ"
      },
      "source": [
        "# Regression"
      ]
    },
    {
      "cell_type": "code",
      "execution_count": 74,
      "metadata": {
        "colab": {
          "base_uri": "https://localhost:8080/"
        },
        "id": "1Vr_3pPn6v9T",
        "outputId": "5dc14462-3d83-4ed7-d20e-430fa55c6dd7"
      },
      "outputs": [
        {
          "name": "stderr",
          "output_type": "stream",
          "text": [
            " 98%|█████████▊| 40/41 [00:17<00:00,  2.10it/s]"
          ]
        },
        {
          "name": "stdout",
          "output_type": "stream",
          "text": [
            "[LightGBM] [Info] Auto-choosing row-wise multi-threading, the overhead of testing was 0.000369 seconds.\n",
            "You can set `force_row_wise=true` to remove the overhead.\n",
            "And if memory is not enough, you can set `force_col_wise=true`.\n",
            "[LightGBM] [Info] Total Bins 5770\n",
            "[LightGBM] [Info] Number of data points in the train set: 1768, number of used features: 43\n",
            "[LightGBM] [Info] Start training from score 2.360468\n"
          ]
        },
        {
          "name": "stderr",
          "output_type": "stream",
          "text": [
            "100%|██████████| 41/41 [00:18<00:00,  2.25it/s]"
          ]
        },
        {
          "name": "stdout",
          "output_type": "stream",
          "text": [
            "Results for RDKit descriptors:\n",
            "                               Adjusted R-Squared  R-Squared  RMSE  Time Taken\n",
            "Model                                                                         \n",
            "RandomForestRegressor                        0.48       0.53  0.90        4.49\n",
            "ExtraTreesRegressor                          0.48       0.53  0.90        1.38\n",
            "LGBMRegressor                                0.45       0.50  0.93        0.28\n",
            "HistGradientBoostingRegressor                0.45       0.50  0.93        0.63\n",
            "BaggingRegressor                             0.41       0.47  0.96        0.52\n",
            "GradientBoostingRegressor                    0.38       0.44  0.98        1.33\n",
            "XGBRegressor                                 0.38       0.44  0.99        0.67\n",
            "KNeighborsRegressor                          0.37       0.43  0.99        0.02\n",
            "NuSVR                                        0.36       0.42  1.00        0.25\n",
            "SVR                                          0.35       0.42  1.00        0.50\n",
            "MLPRegressor                                 0.34       0.40  1.02        2.08\n",
            "AdaBoostRegressor                            0.23       0.30  1.10        0.96\n",
            "TransformedTargetRegressor                   0.21       0.28  1.11        0.22\n",
            "LinearRegression                             0.21       0.28  1.11        0.04\n",
            "LassoLarsCV                                  0.20       0.28  1.12        0.10\n",
            "LassoLarsIC                                  0.20       0.28  1.12        0.16\n",
            "BayesianRidge                                0.20       0.28  1.12        0.50\n",
            "RidgeCV                                      0.20       0.28  1.12        0.07\n",
            "Ridge                                        0.20       0.28  1.12        0.04\n",
            "ElasticNetCV                                 0.20       0.28  1.12        0.89\n",
            "LassoCV                                      0.20       0.28  1.12        0.89\n",
            "HuberRegressor                               0.18       0.26  1.13        0.10\n",
            "LinearSVR                                    0.16       0.24  1.14        0.20\n",
            "LarsCV                                       0.12       0.21  1.17        0.10\n",
            "DecisionTreeRegressor                        0.10       0.19  1.18        0.12\n",
            "OrthogonalMatchingPursuitCV                  0.09       0.18  1.19        0.03\n",
            "SGDRegressor                                 0.08       0.17  1.20        0.09\n",
            "TweedieRegressor                             0.07       0.16  1.20        0.18\n",
            "OrthogonalMatchingPursuit                    0.06       0.15  1.21        0.02\n",
            "ExtraTreeRegressor                           0.05       0.15  1.22        0.04\n",
            "ElasticNet                                  -0.11      -0.00  1.32        0.01\n",
            "DummyRegressor                              -0.11      -0.00  1.32        0.01\n",
            "Lasso                                       -0.11      -0.00  1.32        0.02\n",
            "LassoLars                                   -0.11      -0.00  1.32        0.02\n",
            "PassiveAggressiveRegressor                  -0.23      -0.11  1.39        0.03\n",
            "GaussianProcessRegressor                    -3.31      -2.89  2.59        0.55\n",
            "KernelRidge                                 -3.64      -3.19  2.69        0.21\n",
            "RANSACRegressor                            -13.04     -11.67  4.68        0.30\n",
            "Lars                                      -325.89    -294.09 22.58        0.03\n"
          ]
        },
        {
          "name": "stderr",
          "output_type": "stream",
          "text": [
            "\n"
          ]
        }
      ],
      "source": [
        "reg = LazyRegressor(verbose=0, ignore_warnings=True, custom_metric=None, random_state=42)\n",
        "models, predictions = reg.fit(X_train_transformed, X_test_transformed, y_train, y_test)\n",
        "print(\"Results for RDKit descriptors:\")\n",
        "print(models)"
      ]
    },
    {
      "cell_type": "code",
      "execution_count": 76,
      "metadata": {
        "colab": {
          "base_uri": "https://localhost:8080/"
        },
        "id": "MNh_pxcB7BCg",
        "outputId": "06df230f-860a-47a7-b4c5-1369e7a245ad"
      },
      "outputs": [
        {
          "name": "stderr",
          "output_type": "stream",
          "text": [
            "100%|██████████| 41/41 [00:26<00:00,  1.52it/s]"
          ]
        },
        {
          "name": "stdout",
          "output_type": "stream",
          "text": [
            "[LightGBM] [Info] Auto-choosing row-wise multi-threading, the overhead of testing was 0.001983 seconds.\n",
            "You can set `force_row_wise=true` to remove the overhead.\n",
            "And if memory is not enough, you can set `force_col_wise=true`.\n",
            "[LightGBM] [Info] Total Bins 405\n",
            "[LightGBM] [Info] Number of data points in the train set: 1768, number of used features: 135\n",
            "[LightGBM] [Info] Start training from score 2.360468\n",
            "Results for MACCS descriptors:\n",
            "                                          Adjusted R-Squared  \\\n",
            "Model                                                          \n",
            "RandomForestRegressor                                   0.31   \n",
            "BaggingRegressor                                        0.27   \n",
            "XGBRegressor                                            0.26   \n",
            "HistGradientBoostingRegressor                           0.26   \n",
            "LGBMRegressor                                           0.24   \n",
            "SVR                                                     0.19   \n",
            "NuSVR                                                   0.19   \n",
            "KNeighborsRegressor                                     0.13   \n",
            "MLPRegressor                                            0.12   \n",
            "GradientBoostingRegressor                               0.09   \n",
            "BayesianRidge                                          -0.05   \n",
            "ElasticNetCV                                           -0.06   \n",
            "LassoLarsIC                                            -0.06   \n",
            "LassoLarsCV                                            -0.06   \n",
            "LassoCV                                                -0.06   \n",
            "RidgeCV                                                -0.06   \n",
            "Ridge                                                  -0.07   \n",
            "ExtraTreesRegressor                                    -0.10   \n",
            "HuberRegressor                                         -0.12   \n",
            "LinearSVR                                              -0.14   \n",
            "AdaBoostRegressor                                      -0.14   \n",
            "TweedieRegressor                                       -0.16   \n",
            "DecisionTreeRegressor                                  -0.17   \n",
            "ExtraTreeRegressor                                     -0.18   \n",
            "LarsCV                                                 -0.19   \n",
            "OrthogonalMatchingPursuit                              -0.23   \n",
            "OrthogonalMatchingPursuitCV                            -0.23   \n",
            "Lars                                                   -0.30   \n",
            "Lasso                                                  -0.61   \n",
            "DummyRegressor                                         -0.61   \n",
            "ElasticNet                                             -0.61   \n",
            "LassoLars                                              -0.61   \n",
            "PassiveAggressiveRegressor                             -0.76   \n",
            "GaussianProcessRegressor                               -4.30   \n",
            "KernelRidge                                            -5.68   \n",
            "SGDRegressor                                        -1119.74   \n",
            "LinearRegression                   -355366366159831105536.00   \n",
            "TransformedTargetRegressor         -355366366159831105536.00   \n",
            "RANSACRegressor               -50476546826387775161368576.00   \n",
            "\n",
            "                                                   R-Squared             RMSE  \\\n",
            "Model                                                                           \n",
            "RandomForestRegressor                                   0.57             0.86   \n",
            "BaggingRegressor                                        0.55             0.89   \n",
            "XGBRegressor                                            0.54             0.89   \n",
            "HistGradientBoostingRegressor                           0.54             0.89   \n",
            "LGBMRegressor                                           0.52             0.91   \n",
            "SVR                                                     0.50             0.93   \n",
            "NuSVR                                                   0.50             0.93   \n",
            "KNeighborsRegressor                                     0.46             0.97   \n",
            "MLPRegressor                                            0.45             0.97   \n",
            "GradientBoostingRegressor                               0.43             0.99   \n",
            "BayesianRidge                                           0.35             1.06   \n",
            "ElasticNetCV                                            0.34             1.07   \n",
            "LassoLarsIC                                             0.34             1.07   \n",
            "LassoLarsCV                                             0.34             1.07   \n",
            "LassoCV                                                 0.34             1.07   \n",
            "RidgeCV                                                 0.34             1.07   \n",
            "Ridge                                                   0.34             1.07   \n",
            "ExtraTreesRegressor                                     0.32             1.09   \n",
            "HuberRegressor                                          0.30             1.10   \n",
            "LinearSVR                                               0.29             1.11   \n",
            "AdaBoostRegressor                                       0.29             1.11   \n",
            "TweedieRegressor                                        0.28             1.11   \n",
            "DecisionTreeRegressor                                   0.27             1.12   \n",
            "ExtraTreeRegressor                                      0.27             1.12   \n",
            "LarsCV                                                  0.26             1.13   \n",
            "OrthogonalMatchingPursuit                               0.23             1.15   \n",
            "OrthogonalMatchingPursuitCV                             0.23             1.15   \n",
            "Lars                                                    0.19             1.18   \n",
            "Lasso                                                  -0.00             1.32   \n",
            "DummyRegressor                                         -0.00             1.32   \n",
            "ElasticNet                                             -0.00             1.32   \n",
            "LassoLars                                              -0.00             1.32   \n",
            "PassiveAggressiveRegressor                             -0.09             1.38   \n",
            "GaussianProcessRegressor                               -2.30             2.39   \n",
            "KernelRidge                                            -3.15             2.68   \n",
            "SGDRegressor                                         -696.29            34.71   \n",
            "LinearRegression                   -221098983470483177472.00   19546718557.77   \n",
            "TransformedTargetRegressor         -221098983470483177472.00   19546718557.77   \n",
            "RANSACRegressor               -31405091351259363967762432.00 7366827784881.67   \n",
            "\n",
            "                               Time Taken  \n",
            "Model                                      \n",
            "RandomForestRegressor                3.19  \n",
            "BaggingRegressor                     0.24  \n",
            "XGBRegressor                         0.26  \n",
            "HistGradientBoostingRegressor        1.06  \n",
            "LGBMRegressor                        0.16  \n",
            "SVR                                  0.68  \n",
            "NuSVR                                0.42  \n",
            "KNeighborsRegressor                  0.04  \n",
            "MLPRegressor                         2.94  \n",
            "GradientBoostingRegressor            0.69  \n",
            "BayesianRidge                        0.08  \n",
            "ElasticNetCV                         1.51  \n",
            "LassoLarsIC                          0.12  \n",
            "LassoLarsCV                          0.35  \n",
            "LassoCV                              1.75  \n",
            "RidgeCV                              0.20  \n",
            "Ridge                                0.17  \n",
            "ExtraTreesRegressor                  3.90  \n",
            "HuberRegressor                       0.15  \n",
            "LinearSVR                            0.57  \n",
            "AdaBoostRegressor                    0.39  \n",
            "TweedieRegressor                     0.10  \n",
            "DecisionTreeRegressor                0.07  \n",
            "ExtraTreeRegressor                   0.08  \n",
            "LarsCV                               0.36  \n",
            "OrthogonalMatchingPursuit            0.03  \n",
            "OrthogonalMatchingPursuitCV          0.09  \n",
            "Lars                                 0.12  \n",
            "Lasso                                0.03  \n",
            "DummyRegressor                       0.04  \n",
            "ElasticNet                           0.02  \n",
            "LassoLars                            0.04  \n",
            "PassiveAggressiveRegressor           0.06  \n",
            "GaussianProcessRegressor             1.76  \n",
            "KernelRidge                          0.24  \n",
            "SGDRegressor                         0.05  \n",
            "LinearRegression                     0.15  \n",
            "TransformedTargetRegressor           0.05  \n",
            "RANSACRegressor                      4.69  \n"
          ]
        },
        {
          "name": "stderr",
          "output_type": "stream",
          "text": [
            "\n"
          ]
        }
      ],
      "source": [
        "reg_maccs = LazyRegressor(verbose=0, ignore_warnings=True, custom_metric=None, random_state=10)\n",
        "models_maccs, predictions_maccs = reg_maccs.fit(X_train_maccs, X_test_maccs, y_train, y_test)\n",
        "print(\"Results for MACCS descriptors:\")\n",
        "print(models_maccs)"
      ]
    },
    {
      "cell_type": "code",
      "execution_count": 77,
      "metadata": {
        "colab": {
          "base_uri": "https://localhost:8080/"
        },
        "id": "rSuojdQt7UnM",
        "outputId": "b73beb2b-b7d8-4ce0-80c6-96ca8a66a4cc"
      },
      "outputs": [
        {
          "name": "stderr",
          "output_type": "stream",
          "text": [
            "100%|██████████| 41/41 [00:28<00:00,  1.44it/s]\n"
          ]
        },
        {
          "name": "stdout",
          "output_type": "stream",
          "text": [
            "[LightGBM] [Info] Auto-choosing row-wise multi-threading, the overhead of testing was 0.001938 seconds.\n",
            "You can set `force_row_wise=true` to remove the overhead.\n",
            "And if memory is not enough, you can set `force_col_wise=true`.\n",
            "[LightGBM] [Info] Total Bins 405\n",
            "[LightGBM] [Info] Number of data points in the train set: 1768, number of used features: 135\n",
            "[LightGBM] [Info] Start training from score 2.360468\n",
            "Results for MACCS descriptors:\n",
            "                                          Adjusted R-Squared  \\\n",
            "Model                                                          \n",
            "RandomForestRegressor                                   0.31   \n",
            "BaggingRegressor                                        0.27   \n",
            "XGBRegressor                                            0.26   \n",
            "HistGradientBoostingRegressor                           0.26   \n",
            "LGBMRegressor                                           0.24   \n",
            "SVR                                                     0.19   \n",
            "NuSVR                                                   0.19   \n",
            "KNeighborsRegressor                                     0.13   \n",
            "MLPRegressor                                            0.12   \n",
            "GradientBoostingRegressor                               0.09   \n",
            "BayesianRidge                                          -0.05   \n",
            "ElasticNetCV                                           -0.06   \n",
            "LassoLarsIC                                            -0.06   \n",
            "LassoLarsCV                                            -0.06   \n",
            "LassoCV                                                -0.06   \n",
            "RidgeCV                                                -0.06   \n",
            "Ridge                                                  -0.07   \n",
            "ExtraTreesRegressor                                    -0.10   \n",
            "HuberRegressor                                         -0.12   \n",
            "LinearSVR                                              -0.14   \n",
            "AdaBoostRegressor                                      -0.14   \n",
            "TweedieRegressor                                       -0.16   \n",
            "DecisionTreeRegressor                                  -0.17   \n",
            "ExtraTreeRegressor                                     -0.18   \n",
            "LarsCV                                                 -0.19   \n",
            "OrthogonalMatchingPursuit                              -0.23   \n",
            "OrthogonalMatchingPursuitCV                            -0.23   \n",
            "Lars                                                   -0.30   \n",
            "Lasso                                                  -0.61   \n",
            "DummyRegressor                                         -0.61   \n",
            "ElasticNet                                             -0.61   \n",
            "LassoLars                                              -0.61   \n",
            "PassiveAggressiveRegressor                             -0.76   \n",
            "GaussianProcessRegressor                               -4.30   \n",
            "KernelRidge                                            -5.68   \n",
            "SGDRegressor                                        -1119.74   \n",
            "LinearRegression                   -355366366159831105536.00   \n",
            "TransformedTargetRegressor         -355366366159831105536.00   \n",
            "RANSACRegressor               -50476546826387775161368576.00   \n",
            "\n",
            "                                                   R-Squared             RMSE  \\\n",
            "Model                                                                           \n",
            "RandomForestRegressor                                   0.57             0.86   \n",
            "BaggingRegressor                                        0.55             0.89   \n",
            "XGBRegressor                                            0.54             0.89   \n",
            "HistGradientBoostingRegressor                           0.54             0.89   \n",
            "LGBMRegressor                                           0.52             0.91   \n",
            "SVR                                                     0.50             0.93   \n",
            "NuSVR                                                   0.50             0.93   \n",
            "KNeighborsRegressor                                     0.46             0.97   \n",
            "MLPRegressor                                            0.45             0.97   \n",
            "GradientBoostingRegressor                               0.43             0.99   \n",
            "BayesianRidge                                           0.35             1.06   \n",
            "ElasticNetCV                                            0.34             1.07   \n",
            "LassoLarsIC                                             0.34             1.07   \n",
            "LassoLarsCV                                             0.34             1.07   \n",
            "LassoCV                                                 0.34             1.07   \n",
            "RidgeCV                                                 0.34             1.07   \n",
            "Ridge                                                   0.34             1.07   \n",
            "ExtraTreesRegressor                                     0.32             1.09   \n",
            "HuberRegressor                                          0.30             1.10   \n",
            "LinearSVR                                               0.29             1.11   \n",
            "AdaBoostRegressor                                       0.29             1.11   \n",
            "TweedieRegressor                                        0.28             1.11   \n",
            "DecisionTreeRegressor                                   0.27             1.12   \n",
            "ExtraTreeRegressor                                      0.27             1.12   \n",
            "LarsCV                                                  0.26             1.13   \n",
            "OrthogonalMatchingPursuit                               0.23             1.15   \n",
            "OrthogonalMatchingPursuitCV                             0.23             1.15   \n",
            "Lars                                                    0.19             1.18   \n",
            "Lasso                                                  -0.00             1.32   \n",
            "DummyRegressor                                         -0.00             1.32   \n",
            "ElasticNet                                             -0.00             1.32   \n",
            "LassoLars                                              -0.00             1.32   \n",
            "PassiveAggressiveRegressor                             -0.09             1.38   \n",
            "GaussianProcessRegressor                               -2.30             2.39   \n",
            "KernelRidge                                            -3.15             2.68   \n",
            "SGDRegressor                                         -696.29            34.71   \n",
            "LinearRegression                   -221098983470483177472.00   19546718557.77   \n",
            "TransformedTargetRegressor         -221098983470483177472.00   19546718557.77   \n",
            "RANSACRegressor               -31405091351259363967762432.00 7366827784881.67   \n",
            "\n",
            "                               Time Taken  \n",
            "Model                                      \n",
            "RandomForestRegressor                2.01  \n",
            "BaggingRegressor                     0.24  \n",
            "XGBRegressor                         0.22  \n",
            "HistGradientBoostingRegressor        1.03  \n",
            "LGBMRegressor                        0.18  \n",
            "SVR                                  0.52  \n",
            "NuSVR                                0.65  \n",
            "KNeighborsRegressor                  0.04  \n",
            "MLPRegressor                         3.21  \n",
            "GradientBoostingRegressor            0.68  \n",
            "BayesianRidge                        0.08  \n",
            "ElasticNetCV                         3.25  \n",
            "LassoLarsIC                          0.14  \n",
            "LassoLarsCV                          0.33  \n",
            "LassoCV                              1.76  \n",
            "RidgeCV                              0.12  \n",
            "Ridge                                0.04  \n",
            "ExtraTreesRegressor                  4.68  \n",
            "HuberRegressor                       0.18  \n",
            "LinearSVR                            0.57  \n",
            "AdaBoostRegressor                    0.38  \n",
            "TweedieRegressor                     0.25  \n",
            "DecisionTreeRegressor                0.12  \n",
            "ExtraTreeRegressor                   0.15  \n",
            "LarsCV                               0.34  \n",
            "OrthogonalMatchingPursuit            0.04  \n",
            "OrthogonalMatchingPursuitCV          0.13  \n",
            "Lars                                 0.12  \n",
            "Lasso                                0.03  \n",
            "DummyRegressor                       0.02  \n",
            "ElasticNet                           0.02  \n",
            "LassoLars                            0.04  \n",
            "PassiveAggressiveRegressor           0.09  \n",
            "GaussianProcessRegressor             0.91  \n",
            "KernelRidge                          0.29  \n",
            "SGDRegressor                         0.04  \n",
            "LinearRegression                     0.10  \n",
            "TransformedTargetRegressor           0.05  \n",
            "RANSACRegressor                      5.35  \n"
          ]
        }
      ],
      "source": [
        "reg_morgan = LazyRegressor(verbose=0, ignore_warnings=True, custom_metric=None, random_state=10)\n",
        "models_morgan, predictions_morgan = reg_morgan.fit(X_train_morgan, X_test_morgan, y_train, y_test)\n",
        "print(\"Results for MACCS descriptors:\")\n",
        "print(models_morgan)"
      ]
    },
    {
      "cell_type": "markdown",
      "metadata": {
        "id": "y1HidmPS79JC"
      },
      "source": [
        "### Random Forest Regressor (Morgan fingerprints)"
      ]
    },
    {
      "cell_type": "code",
      "execution_count": 80,
      "metadata": {
        "colab": {
          "base_uri": "https://localhost:8080/"
        },
        "id": "LV-G--sa8NaU",
        "outputId": "538d7343-83f2-42dc-be16-acb11cf0126c"
      },
      "outputs": [
        {
          "name": "stdout",
          "output_type": "stream",
          "text": [
            "Collecting optuna\n",
            "  Downloading optuna-4.0.0-py3-none-any.whl.metadata (16 kB)\n",
            "Collecting alembic>=1.5.0 (from optuna)\n",
            "  Downloading alembic-1.13.3-py3-none-any.whl.metadata (7.4 kB)\n",
            "Collecting colorlog (from optuna)\n",
            "  Downloading colorlog-6.8.2-py3-none-any.whl.metadata (10 kB)\n",
            "Requirement already satisfied: numpy in /usr/local/lib/python3.10/dist-packages (from optuna) (1.26.4)\n",
            "Requirement already satisfied: packaging>=20.0 in /usr/local/lib/python3.10/dist-packages (from optuna) (24.1)\n",
            "Requirement already satisfied: sqlalchemy>=1.3.0 in /usr/local/lib/python3.10/dist-packages (from optuna) (2.0.35)\n",
            "Requirement already satisfied: tqdm in /usr/local/lib/python3.10/dist-packages (from optuna) (4.66.5)\n",
            "Requirement already satisfied: PyYAML in /usr/local/lib/python3.10/dist-packages (from optuna) (6.0.2)\n",
            "Collecting Mako (from alembic>=1.5.0->optuna)\n",
            "  Downloading Mako-1.3.5-py3-none-any.whl.metadata (2.9 kB)\n",
            "Requirement already satisfied: typing-extensions>=4 in /usr/local/lib/python3.10/dist-packages (from alembic>=1.5.0->optuna) (4.12.2)\n",
            "Requirement already satisfied: greenlet!=0.4.17 in /usr/local/lib/python3.10/dist-packages (from sqlalchemy>=1.3.0->optuna) (3.1.1)\n",
            "Requirement already satisfied: MarkupSafe>=0.9.2 in /usr/local/lib/python3.10/dist-packages (from Mako->alembic>=1.5.0->optuna) (2.1.5)\n",
            "Downloading optuna-4.0.0-py3-none-any.whl (362 kB)\n",
            "\u001b[2K   \u001b[90m━━━━━━━━━━━━━━━━━━━━━━━━━━━━━━━━━━━━━━━━\u001b[0m \u001b[32m362.8/362.8 kB\u001b[0m \u001b[31m8.3 MB/s\u001b[0m eta \u001b[36m0:00:00\u001b[0m\n",
            "\u001b[?25hDownloading alembic-1.13.3-py3-none-any.whl (233 kB)\n",
            "\u001b[2K   \u001b[90m━━━━━━━━━━━━━━━━━━━━━━━━━━━━━━━━━━━━━━━━\u001b[0m \u001b[32m233.2/233.2 kB\u001b[0m \u001b[31m17.0 MB/s\u001b[0m eta \u001b[36m0:00:00\u001b[0m\n",
            "\u001b[?25hDownloading colorlog-6.8.2-py3-none-any.whl (11 kB)\n",
            "Downloading Mako-1.3.5-py3-none-any.whl (78 kB)\n",
            "\u001b[2K   \u001b[90m━━━━━━━━━━━━━━━━━━━━━━━━━━━━━━━━━━━━━━━━\u001b[0m \u001b[32m78.6/78.6 kB\u001b[0m \u001b[31m6.0 MB/s\u001b[0m eta \u001b[36m0:00:00\u001b[0m\n",
            "\u001b[?25hInstalling collected packages: Mako, colorlog, alembic, optuna\n",
            "Successfully installed Mako-1.3.5 alembic-1.13.3 colorlog-6.8.2 optuna-4.0.0\n"
          ]
        }
      ],
      "source": [
        "pip install optuna"
      ]
    },
    {
      "cell_type": "code",
      "execution_count": 83,
      "metadata": {
        "colab": {
          "base_uri": "https://localhost:8080/"
        },
        "id": "jwXTvpk98asR",
        "outputId": "ade6865e-2ece-4f42-834c-c79fa7fbe6f7"
      },
      "outputs": [
        {
          "name": "stdout",
          "output_type": "stream",
          "text": [
            "Collecting optuna_integration\n",
            "  Downloading optuna_integration-4.0.0-py3-none-any.whl.metadata (11 kB)\n",
            "Requirement already satisfied: optuna in /usr/local/lib/python3.10/dist-packages (from optuna_integration) (4.0.0)\n",
            "Requirement already satisfied: alembic>=1.5.0 in /usr/local/lib/python3.10/dist-packages (from optuna->optuna_integration) (1.13.3)\n",
            "Requirement already satisfied: colorlog in /usr/local/lib/python3.10/dist-packages (from optuna->optuna_integration) (6.8.2)\n",
            "Requirement already satisfied: numpy in /usr/local/lib/python3.10/dist-packages (from optuna->optuna_integration) (1.26.4)\n",
            "Requirement already satisfied: packaging>=20.0 in /usr/local/lib/python3.10/dist-packages (from optuna->optuna_integration) (24.1)\n",
            "Requirement already satisfied: sqlalchemy>=1.3.0 in /usr/local/lib/python3.10/dist-packages (from optuna->optuna_integration) (2.0.35)\n",
            "Requirement already satisfied: tqdm in /usr/local/lib/python3.10/dist-packages (from optuna->optuna_integration) (4.66.5)\n",
            "Requirement already satisfied: PyYAML in /usr/local/lib/python3.10/dist-packages (from optuna->optuna_integration) (6.0.2)\n",
            "Requirement already satisfied: Mako in /usr/local/lib/python3.10/dist-packages (from alembic>=1.5.0->optuna->optuna_integration) (1.3.5)\n",
            "Requirement already satisfied: typing-extensions>=4 in /usr/local/lib/python3.10/dist-packages (from alembic>=1.5.0->optuna->optuna_integration) (4.12.2)\n",
            "Requirement already satisfied: greenlet!=0.4.17 in /usr/local/lib/python3.10/dist-packages (from sqlalchemy>=1.3.0->optuna->optuna_integration) (3.1.1)\n",
            "Requirement already satisfied: MarkupSafe>=0.9.2 in /usr/local/lib/python3.10/dist-packages (from Mako->alembic>=1.5.0->optuna->optuna_integration) (2.1.5)\n",
            "Downloading optuna_integration-4.0.0-py3-none-any.whl (96 kB)\n",
            "\u001b[2K   \u001b[90m━━━━━━━━━━━━━━━━━━━━━━━━━━━━━━━━━━━━━━━━\u001b[0m \u001b[32m96.9/96.9 kB\u001b[0m \u001b[31m2.8 MB/s\u001b[0m eta \u001b[36m0:00:00\u001b[0m\n",
            "\u001b[?25hInstalling collected packages: optuna_integration\n",
            "Successfully installed optuna_integration-4.0.0\n"
          ]
        }
      ],
      "source": [
        "pip install optuna_integration"
      ]
    },
    {
      "cell_type": "code",
      "execution_count": 81,
      "metadata": {
        "id": "YZKDr_i38D5L"
      },
      "outputs": [],
      "source": [
        "from sklearn.ensemble import RandomForestRegressor\n",
        "import optuna"
      ]
    },
    {
      "cell_type": "code",
      "execution_count": 94,
      "metadata": {
        "id": "5lQW8WDv8IGa"
      },
      "outputs": [],
      "source": [
        "param_distrs = {\n",
        "        \"n_estimators\": optuna.distributions.IntDistribution(50, 300),\n",
        "        \"max_depth\": optuna.distributions.IntDistribution(2, 20),\n",
        "        \"min_samples_split\": optuna.distributions.IntDistribution(2, 10),\n",
        "        \"min_samples_leaf\": optuna.distributions.IntDistribution(1, 10)\n",
        "    }\n",
        "rf = RandomForestRegressor(random_state=42)\n",
        "opt_search = optuna.integration.OptunaSearchCV(rf, param_distrs, cv = 5,\n",
        "                                                n_trials=50, scoring='neg_root_mean_squared_error')"
      ]
    },
    {
      "cell_type": "code",
      "execution_count": 95,
      "metadata": {
        "colab": {
          "base_uri": "https://localhost:8080/",
          "height": 1000
        },
        "id": "85SMEhvl8fgk",
        "outputId": "0603e395-2d71-4e80-e814-09efb308dd2b"
      },
      "outputs": [
        {
          "name": "stderr",
          "output_type": "stream",
          "text": [
            "[I 2024-10-01 16:46:32,014] A new study created in memory with name: no-name-4723fb44-e1bc-4079-a91f-6fc82ff127f4\n",
            "[I 2024-10-01 16:46:38,235] Trial 0 finished with value: -0.8614932041995242 and parameters: {'n_estimators': 136, 'max_depth': 19, 'min_samples_split': 3, 'min_samples_leaf': 7}. Best is trial 0 with value: -0.8614932041995242.\n",
            "[I 2024-10-01 16:46:43,358] Trial 1 finished with value: -1.0286417412792885 and parameters: {'n_estimators': 163, 'max_depth': 4, 'min_samples_split': 5, 'min_samples_leaf': 3}. Best is trial 0 with value: -0.8614932041995242.\n",
            "[I 2024-10-01 16:46:53,478] Trial 2 finished with value: -0.8781750216684913 and parameters: {'n_estimators': 226, 'max_depth': 13, 'min_samples_split': 7, 'min_samples_leaf': 9}. Best is trial 0 with value: -0.8614932041995242.\n",
            "[I 2024-10-01 16:47:08,964] Trial 3 finished with value: -0.826144137171644 and parameters: {'n_estimators': 266, 'max_depth': 11, 'min_samples_split': 6, 'min_samples_leaf': 3}. Best is trial 3 with value: -0.826144137171644.\n",
            "[I 2024-10-01 16:47:25,250] Trial 4 finished with value: -0.8261496819177634 and parameters: {'n_estimators': 264, 'max_depth': 11, 'min_samples_split': 3, 'min_samples_leaf': 3}. Best is trial 3 with value: -0.826144137171644.\n",
            "[I 2024-10-01 16:47:41,469] Trial 5 finished with value: -0.8394613055414171 and parameters: {'n_estimators': 259, 'max_depth': 17, 'min_samples_split': 6, 'min_samples_leaf': 5}. Best is trial 3 with value: -0.826144137171644.\n",
            "[I 2024-10-01 16:47:45,488] Trial 6 finished with value: -0.8542460964312795 and parameters: {'n_estimators': 66, 'max_depth': 15, 'min_samples_split': 5, 'min_samples_leaf': 6}. Best is trial 3 with value: -0.826144137171644.\n",
            "[I 2024-10-01 16:47:54,762] Trial 7 finished with value: -0.8536921395617594 and parameters: {'n_estimators': 197, 'max_depth': 12, 'min_samples_split': 5, 'min_samples_leaf': 6}. Best is trial 3 with value: -0.826144137171644.\n",
            "[I 2024-10-01 16:48:01,237] Trial 8 finished with value: -0.8764399147943068 and parameters: {'n_estimators': 118, 'max_depth': 9, 'min_samples_split': 2, 'min_samples_leaf': 7}. Best is trial 3 with value: -0.826144137171644.\n",
            "[I 2024-10-01 16:48:09,024] Trial 9 finished with value: -0.9139405608032037 and parameters: {'n_estimators': 217, 'max_depth': 7, 'min_samples_split': 5, 'min_samples_leaf': 9}. Best is trial 3 with value: -0.826144137171644.\n",
            "[I 2024-10-01 16:48:16,557] Trial 10 finished with value: -1.0930445882019315 and parameters: {'n_estimators': 280, 'max_depth': 3, 'min_samples_split': 10, 'min_samples_leaf': 1}. Best is trial 3 with value: -0.826144137171644.\n",
            "[I 2024-10-01 16:48:31,936] Trial 11 finished with value: -0.8476251807962619 and parameters: {'n_estimators': 299, 'max_depth': 9, 'min_samples_split': 8, 'min_samples_leaf': 3}. Best is trial 3 with value: -0.826144137171644.\n",
            "[I 2024-10-01 16:48:45,722] Trial 12 finished with value: -0.834375386368893 and parameters: {'n_estimators': 247, 'max_depth': 10, 'min_samples_split': 3, 'min_samples_leaf': 3}. Best is trial 3 with value: -0.826144137171644.\n",
            "[I 2024-10-01 16:48:55,110] Trial 13 finished with value: -0.9220952161948034 and parameters: {'n_estimators': 257, 'max_depth': 6, 'min_samples_split': 9, 'min_samples_leaf': 1}. Best is trial 3 with value: -0.826144137171644.\n",
            "[I 2024-10-01 16:49:06,596] Trial 14 finished with value: -0.8294302042895112 and parameters: {'n_estimators': 190, 'max_depth': 14, 'min_samples_split': 3, 'min_samples_leaf': 4}. Best is trial 3 with value: -0.826144137171644.\n",
            "[I 2024-10-01 16:49:24,552] Trial 15 finished with value: -0.8202472538710008 and parameters: {'n_estimators': 295, 'max_depth': 11, 'min_samples_split': 7, 'min_samples_leaf': 2}. Best is trial 15 with value: -0.8202472538710008.\n",
            "[I 2024-10-01 16:49:45,776] Trial 16 finished with value: -0.8011614690775039 and parameters: {'n_estimators': 294, 'max_depth': 16, 'min_samples_split': 7, 'min_samples_leaf': 1}. Best is trial 16 with value: -0.8011614690775039.\n",
            "[I 2024-10-01 16:50:05,934] Trial 17 finished with value: -0.8042914144016473 and parameters: {'n_estimators': 299, 'max_depth': 20, 'min_samples_split': 8, 'min_samples_leaf': 1}. Best is trial 16 with value: -0.8011614690775039.\n",
            "[I 2024-10-01 16:50:21,477] Trial 18 finished with value: -0.8041494677986627 and parameters: {'n_estimators': 227, 'max_depth': 20, 'min_samples_split': 8, 'min_samples_leaf': 1}. Best is trial 16 with value: -0.8011614690775039.\n",
            "[I 2024-10-01 16:50:35,650] Trial 19 finished with value: -0.8175085151885945 and parameters: {'n_estimators': 228, 'max_depth': 17, 'min_samples_split': 10, 'min_samples_leaf': 2}. Best is trial 16 with value: -0.8011614690775039.\n",
            "[I 2024-10-01 16:50:45,016] Trial 20 finished with value: -0.8414470963786836 and parameters: {'n_estimators': 161, 'max_depth': 17, 'min_samples_split': 8, 'min_samples_leaf': 5}. Best is trial 16 with value: -0.8011614690775039.\n",
            "[I 2024-10-01 16:51:04,645] Trial 21 finished with value: -0.8042260198041962 and parameters: {'n_estimators': 300, 'max_depth': 20, 'min_samples_split': 8, 'min_samples_leaf': 1}. Best is trial 16 with value: -0.8011614690775039.\n",
            "[I 2024-10-01 16:51:19,865] Trial 22 finished with value: -0.8139912822425851 and parameters: {'n_estimators': 244, 'max_depth': 20, 'min_samples_split': 9, 'min_samples_leaf': 2}. Best is trial 16 with value: -0.8011614690775039.\n",
            "[I 2024-10-01 16:51:38,147] Trial 23 finished with value: -0.8012473526518784 and parameters: {'n_estimators': 273, 'max_depth': 16, 'min_samples_split': 7, 'min_samples_leaf': 1}. Best is trial 16 with value: -0.8011614690775039.\n",
            "[I 2024-10-01 16:51:55,978] Trial 24 finished with value: -0.8091151432563493 and parameters: {'n_estimators': 276, 'max_depth': 15, 'min_samples_split': 7, 'min_samples_leaf': 2}. Best is trial 16 with value: -0.8011614690775039.\n",
            "[I 2024-10-01 16:52:08,016] Trial 25 finished with value: -0.8310095088437197 and parameters: {'n_estimators': 215, 'max_depth': 18, 'min_samples_split': 9, 'min_samples_leaf': 4}. Best is trial 16 with value: -0.8011614690775039.\n",
            "[I 2024-10-01 16:52:24,029] Trial 26 finished with value: -0.8011932229173905 and parameters: {'n_estimators': 240, 'max_depth': 16, 'min_samples_split': 7, 'min_samples_leaf': 1}. Best is trial 16 with value: -0.8011614690775039.\n",
            "[I 2024-10-01 16:52:43,008] Trial 27 finished with value: -0.8073725964983971 and parameters: {'n_estimators': 279, 'max_depth': 15, 'min_samples_split': 6, 'min_samples_leaf': 2}. Best is trial 16 with value: -0.8011614690775039.\n",
            "[I 2024-10-01 16:52:56,679] Trial 28 finished with value: -0.8274342791243992 and parameters: {'n_estimators': 242, 'max_depth': 16, 'min_samples_split': 7, 'min_samples_leaf': 4}. Best is trial 16 with value: -0.8011614690775039.\n",
            "[I 2024-10-01 16:53:02,161] Trial 29 finished with value: -0.8880948958701005 and parameters: {'n_estimators': 124, 'max_depth': 18, 'min_samples_split': 4, 'min_samples_leaf': 10}. Best is trial 16 with value: -0.8011614690775039.\n",
            "[I 2024-10-01 16:53:15,299] Trial 30 finished with value: -0.8040627216452936 and parameters: {'n_estimators': 196, 'max_depth': 13, 'min_samples_split': 6, 'min_samples_leaf': 1}. Best is trial 16 with value: -0.8011614690775039.\n",
            "[I 2024-10-01 16:53:28,494] Trial 31 finished with value: -0.8039052968260105 and parameters: {'n_estimators': 197, 'max_depth': 13, 'min_samples_split': 6, 'min_samples_leaf': 1}. Best is trial 16 with value: -0.8011614690775039.\n",
            "[I 2024-10-01 16:53:36,969] Trial 32 finished with value: -0.8113573154312966 and parameters: {'n_estimators': 153, 'max_depth': 14, 'min_samples_split': 7, 'min_samples_leaf': 2}. Best is trial 16 with value: -0.8011614690775039.\n",
            "[I 2024-10-01 16:53:49,015] Trial 33 finished with value: -0.8063511845996423 and parameters: {'n_estimators': 182, 'max_depth': 13, 'min_samples_split': 7, 'min_samples_leaf': 1}. Best is trial 16 with value: -0.8011614690775039.\n",
            "[I 2024-10-01 16:54:03,220] Trial 34 finished with value: -0.8082955282538222 and parameters: {'n_estimators': 210, 'max_depth': 18, 'min_samples_split': 6, 'min_samples_leaf': 2}. Best is trial 16 with value: -0.8011614690775039.\n",
            "[I 2024-10-01 16:54:21,170] Trial 35 finished with value: -0.796699836571739 and parameters: {'n_estimators': 237, 'max_depth': 16, 'min_samples_split': 4, 'min_samples_leaf': 1}. Best is trial 35 with value: -0.796699836571739.\n",
            "[I 2024-10-01 16:54:39,098] Trial 36 finished with value: -0.8161066249441806 and parameters: {'n_estimators': 279, 'max_depth': 16, 'min_samples_split': 4, 'min_samples_leaf': 3}. Best is trial 35 with value: -0.796699836571739.\n",
            "[I 2024-10-01 16:54:52,262] Trial 37 finished with value: -0.8681662834728154 and parameters: {'n_estimators': 265, 'max_depth': 16, 'min_samples_split': 4, 'min_samples_leaf': 8}. Best is trial 35 with value: -0.796699836571739.\n",
            "[I 2024-10-01 16:55:08,990] Trial 38 finished with value: -0.8045208884100576 and parameters: {'n_estimators': 240, 'max_depth': 14, 'min_samples_split': 2, 'min_samples_leaf': 2}. Best is trial 35 with value: -0.796699836571739.\n",
            "[I 2024-10-01 16:55:15,167] Trial 39 finished with value: -0.8308447346695882 and parameters: {'n_estimators': 91, 'max_depth': 19, 'min_samples_split': 5, 'min_samples_leaf': 4}. Best is trial 35 with value: -0.796699836571739.\n",
            "[I 2024-10-01 16:55:31,190] Trial 40 finished with value: -0.8160420842281596 and parameters: {'n_estimators': 253, 'max_depth': 16, 'min_samples_split': 5, 'min_samples_leaf': 3}. Best is trial 35 with value: -0.796699836571739.\n",
            "[I 2024-10-01 16:55:46,238] Trial 41 finished with value: -0.8056485528116799 and parameters: {'n_estimators': 232, 'max_depth': 12, 'min_samples_split': 6, 'min_samples_leaf': 1}. Best is trial 35 with value: -0.796699836571739.\n",
            "[I 2024-10-01 16:56:01,128] Trial 42 finished with value: -0.8016198123584626 and parameters: {'n_estimators': 210, 'max_depth': 15, 'min_samples_split': 6, 'min_samples_leaf': 1}. Best is trial 35 with value: -0.796699836571739.\n",
            "[I 2024-10-01 16:56:16,056] Trial 43 finished with value: -0.8028894658424385 and parameters: {'n_estimators': 212, 'max_depth': 17, 'min_samples_split': 7, 'min_samples_leaf': 1}. Best is trial 35 with value: -0.796699836571739.\n",
            "[I 2024-10-01 16:56:34,952] Trial 44 finished with value: -0.8036890043314949 and parameters: {'n_estimators': 269, 'max_depth': 15, 'min_samples_split': 4, 'min_samples_leaf': 2}. Best is trial 35 with value: -0.796699836571739.\n",
            "[I 2024-10-01 16:56:53,137] Trial 45 finished with value: -0.800673857134317 and parameters: {'n_estimators': 261, 'max_depth': 18, 'min_samples_split': 7, 'min_samples_leaf': 1}. Best is trial 35 with value: -0.796699836571739.\n",
            "[I 2024-10-01 16:57:12,291] Trial 46 finished with value: -0.817264204025667 and parameters: {'n_estimators': 288, 'max_depth': 19, 'min_samples_split': 7, 'min_samples_leaf': 3}. Best is trial 35 with value: -0.796699836571739.\n",
            "[I 2024-10-01 16:57:28,962] Trial 47 finished with value: -0.8110704908784314 and parameters: {'n_estimators': 258, 'max_depth': 18, 'min_samples_split': 8, 'min_samples_leaf': 2}. Best is trial 35 with value: -0.796699836571739.\n",
            "[I 2024-10-01 16:57:43,865] Trial 48 finished with value: -0.8598453130619728 and parameters: {'n_estimators': 288, 'max_depth': 17, 'min_samples_split': 7, 'min_samples_leaf': 7}. Best is trial 35 with value: -0.796699836571739.\n",
            "[I 2024-10-01 16:58:03,282] Trial 49 finished with value: -0.7970883833948441 and parameters: {'n_estimators': 270, 'max_depth': 16, 'min_samples_split': 5, 'min_samples_leaf': 1}. Best is trial 35 with value: -0.796699836571739.\n"
          ]
        },
        {
          "data": {
            "text/html": [
              "<style>#sk-container-id-2 {color: black;background-color: white;}#sk-container-id-2 pre{padding: 0;}#sk-container-id-2 div.sk-toggleable {background-color: white;}#sk-container-id-2 label.sk-toggleable__label {cursor: pointer;display: block;width: 100%;margin-bottom: 0;padding: 0.3em;box-sizing: border-box;text-align: center;}#sk-container-id-2 label.sk-toggleable__label-arrow:before {content: \"▸\";float: left;margin-right: 0.25em;color: #696969;}#sk-container-id-2 label.sk-toggleable__label-arrow:hover:before {color: black;}#sk-container-id-2 div.sk-estimator:hover label.sk-toggleable__label-arrow:before {color: black;}#sk-container-id-2 div.sk-toggleable__content {max-height: 0;max-width: 0;overflow: hidden;text-align: left;background-color: #f0f8ff;}#sk-container-id-2 div.sk-toggleable__content pre {margin: 0.2em;color: black;border-radius: 0.25em;background-color: #f0f8ff;}#sk-container-id-2 input.sk-toggleable__control:checked~div.sk-toggleable__content {max-height: 200px;max-width: 100%;overflow: auto;}#sk-container-id-2 input.sk-toggleable__control:checked~label.sk-toggleable__label-arrow:before {content: \"▾\";}#sk-container-id-2 div.sk-estimator input.sk-toggleable__control:checked~label.sk-toggleable__label {background-color: #d4ebff;}#sk-container-id-2 div.sk-label input.sk-toggleable__control:checked~label.sk-toggleable__label {background-color: #d4ebff;}#sk-container-id-2 input.sk-hidden--visually {border: 0;clip: rect(1px 1px 1px 1px);clip: rect(1px, 1px, 1px, 1px);height: 1px;margin: -1px;overflow: hidden;padding: 0;position: absolute;width: 1px;}#sk-container-id-2 div.sk-estimator {font-family: monospace;background-color: #f0f8ff;border: 1px dotted black;border-radius: 0.25em;box-sizing: border-box;margin-bottom: 0.5em;}#sk-container-id-2 div.sk-estimator:hover {background-color: #d4ebff;}#sk-container-id-2 div.sk-parallel-item::after {content: \"\";width: 100%;border-bottom: 1px solid gray;flex-grow: 1;}#sk-container-id-2 div.sk-label:hover label.sk-toggleable__label {background-color: #d4ebff;}#sk-container-id-2 div.sk-serial::before {content: \"\";position: absolute;border-left: 1px solid gray;box-sizing: border-box;top: 0;bottom: 0;left: 50%;z-index: 0;}#sk-container-id-2 div.sk-serial {display: flex;flex-direction: column;align-items: center;background-color: white;padding-right: 0.2em;padding-left: 0.2em;position: relative;}#sk-container-id-2 div.sk-item {position: relative;z-index: 1;}#sk-container-id-2 div.sk-parallel {display: flex;align-items: stretch;justify-content: center;background-color: white;position: relative;}#sk-container-id-2 div.sk-item::before, #sk-container-id-2 div.sk-parallel-item::before {content: \"\";position: absolute;border-left: 1px solid gray;box-sizing: border-box;top: 0;bottom: 0;left: 50%;z-index: -1;}#sk-container-id-2 div.sk-parallel-item {display: flex;flex-direction: column;z-index: 1;position: relative;background-color: white;}#sk-container-id-2 div.sk-parallel-item:first-child::after {align-self: flex-end;width: 50%;}#sk-container-id-2 div.sk-parallel-item:last-child::after {align-self: flex-start;width: 50%;}#sk-container-id-2 div.sk-parallel-item:only-child::after {width: 0;}#sk-container-id-2 div.sk-dashed-wrapped {border: 1px dashed gray;margin: 0 0.4em 0.5em 0.4em;box-sizing: border-box;padding-bottom: 0.4em;background-color: white;}#sk-container-id-2 div.sk-label label {font-family: monospace;font-weight: bold;display: inline-block;line-height: 1.2em;}#sk-container-id-2 div.sk-label-container {text-align: center;}#sk-container-id-2 div.sk-container {/* jupyter's `normalize.less` sets `[hidden] { display: none; }` but bootstrap.min.css set `[hidden] { display: none !important; }` so we also need the `!important` here to be able to override the default hidden behavior on the sphinx rendered scikit-learn.org. See: https://github.com/scikit-learn/scikit-learn/issues/21755 */display: inline-block !important;position: relative;}#sk-container-id-2 div.sk-text-repr-fallback {display: none;}</style><div id=\"sk-container-id-2\" class=\"sk-top-container\"><div class=\"sk-text-repr-fallback\"><pre>OptunaSearchCV(cv=5, estimator=RandomForestRegressor(random_state=42), n_jobs=1,\n",
              "               n_trials=50,\n",
              "               param_distributions={&#x27;max_depth&#x27;: IntDistribution(high=20, log=False, low=2, step=1),\n",
              "                                    &#x27;min_samples_leaf&#x27;: IntDistribution(high=10, log=False, low=1, step=1),\n",
              "                                    &#x27;min_samples_split&#x27;: IntDistribution(high=10, log=False, low=2, step=1),\n",
              "                                    &#x27;n_estimators&#x27;: IntDistribution(high=300, log=False, low=50, step=1)},\n",
              "               scoring=&#x27;neg_root_mean_squared_error&#x27;)</pre><b>In a Jupyter environment, please rerun this cell to show the HTML representation or trust the notebook. <br />On GitHub, the HTML representation is unable to render, please try loading this page with nbviewer.org.</b></div><div class=\"sk-container\" hidden><div class=\"sk-item sk-dashed-wrapped\"><div class=\"sk-label-container\"><div class=\"sk-label sk-toggleable\"><input class=\"sk-toggleable__control sk-hidden--visually\" id=\"sk-estimator-id-4\" type=\"checkbox\" ><label for=\"sk-estimator-id-4\" class=\"sk-toggleable__label sk-toggleable__label-arrow\">OptunaSearchCV</label><div class=\"sk-toggleable__content\"><pre>OptunaSearchCV(cv=5, estimator=RandomForestRegressor(random_state=42), n_jobs=1,\n",
              "               n_trials=50,\n",
              "               param_distributions={&#x27;max_depth&#x27;: IntDistribution(high=20, log=False, low=2, step=1),\n",
              "                                    &#x27;min_samples_leaf&#x27;: IntDistribution(high=10, log=False, low=1, step=1),\n",
              "                                    &#x27;min_samples_split&#x27;: IntDistribution(high=10, log=False, low=2, step=1),\n",
              "                                    &#x27;n_estimators&#x27;: IntDistribution(high=300, log=False, low=50, step=1)},\n",
              "               scoring=&#x27;neg_root_mean_squared_error&#x27;)</pre></div></div></div><div class=\"sk-parallel\"><div class=\"sk-parallel-item\"><div class=\"sk-item\"><div class=\"sk-label-container\"><div class=\"sk-label sk-toggleable\"><input class=\"sk-toggleable__control sk-hidden--visually\" id=\"sk-estimator-id-5\" type=\"checkbox\" ><label for=\"sk-estimator-id-5\" class=\"sk-toggleable__label sk-toggleable__label-arrow\">estimator: RandomForestRegressor</label><div class=\"sk-toggleable__content\"><pre>RandomForestRegressor(random_state=42)</pre></div></div></div><div class=\"sk-serial\"><div class=\"sk-item\"><div class=\"sk-estimator sk-toggleable\"><input class=\"sk-toggleable__control sk-hidden--visually\" id=\"sk-estimator-id-6\" type=\"checkbox\" ><label for=\"sk-estimator-id-6\" class=\"sk-toggleable__label sk-toggleable__label-arrow\">RandomForestRegressor</label><div class=\"sk-toggleable__content\"><pre>RandomForestRegressor(random_state=42)</pre></div></div></div></div></div></div></div></div></div></div>"
            ],
            "text/plain": [
              "OptunaSearchCV(cv=5, estimator=RandomForestRegressor(random_state=42), n_jobs=1,\n",
              "               n_trials=50,\n",
              "               param_distributions={'max_depth': IntDistribution(high=20, log=False, low=2, step=1),\n",
              "                                    'min_samples_leaf': IntDistribution(high=10, log=False, low=1, step=1),\n",
              "                                    'min_samples_split': IntDistribution(high=10, log=False, low=2, step=1),\n",
              "                                    'n_estimators': IntDistribution(high=300, log=False, low=50, step=1)},\n",
              "               scoring='neg_root_mean_squared_error')"
            ]
          },
          "execution_count": 95,
          "metadata": {},
          "output_type": "execute_result"
        }
      ],
      "source": [
        "opt_search.fit(X_train_morgan, y_train)"
      ]
    },
    {
      "cell_type": "code",
      "execution_count": 96,
      "metadata": {
        "colab": {
          "base_uri": "https://localhost:8080/"
        },
        "id": "R-EAUrMl-CdE",
        "outputId": "88671bc7-ca4b-4783-d8ed-de2bc879e259"
      },
      "outputs": [
        {
          "name": "stdout",
          "output_type": "stream",
          "text": [
            "Best hyperparameters: {'n_estimators': 237, 'max_depth': 16, 'min_samples_split': 4, 'min_samples_leaf': 1}\n",
            "Best RMSE: -0.796699836571739\n"
          ]
        }
      ],
      "source": [
        "print('Best hyperparameters:', opt_search.best_params_)\n",
        "print('Best RMSE:', opt_search.best_score_)"
      ]
    },
    {
      "cell_type": "code",
      "execution_count": 92,
      "metadata": {
        "id": "C8LJsiCM-S_5"
      },
      "outputs": [],
      "source": [
        "from sklearn.metrics import mean_squared_error, r2_score, accuracy_score, f1_score, balanced_accuracy_score, precision_score"
      ]
    },
    {
      "cell_type": "code",
      "execution_count": 97,
      "metadata": {
        "colab": {
          "base_uri": "https://localhost:8080/"
        },
        "id": "vZfZrVkE-HjL",
        "outputId": "f7ba166f-77ba-40bb-d31a-bb4a51e95dbf"
      },
      "outputs": [
        {
          "name": "stdout",
          "output_type": "stream",
          "text": [
            "train r2 0.8906774793438779\n",
            "train rmse 0.421310526492007\n",
            "test r2 0.555762409283895\n",
            "test rmse 0.8761695169967421\n"
          ]
        }
      ],
      "source": [
        "best_params = {'n_estimators': 73, 'max_depth': 17, 'min_samples_split': 6, 'min_samples_leaf': 1}\n",
        "model = RandomForestRegressor(random_state=42, **best_params)\n",
        "model.fit(X_train_morgan, y_train)\n",
        "y_pred_test = model.predict(X_test_morgan)\n",
        "y_pred_train = model.predict(X_train_morgan)\n",
        "print('train r2', r2_score(y_train, y_pred_train))\n",
        "print('train rmse', mean_squared_error(y_train, y_pred_train, squared=False))\n",
        "print('test r2', r2_score(y_test, y_pred_test))\n",
        "print('test rmse', mean_squared_error(y_test, y_pred_test, squared=False))"
      ]
    },
    {
      "cell_type": "markdown",
      "metadata": {
        "id": "xmpuu4d2CZx7"
      },
      "source": [
        "## Classification task (treshold = 2.4)"
      ]
    },
    {
      "cell_type": "code",
      "execution_count": 148,
      "metadata": {
        "id": "xxZJ5u7XBL_w"
      },
      "outputs": [],
      "source": [
        "X_train, X_test, y_train_clf, y_test_clf = train_test_split(filtered_data['Smiles'], filtered_data['Class'], test_size=0.2, random_state=42)"
      ]
    },
    {
      "cell_type": "code",
      "execution_count": 149,
      "metadata": {
        "colab": {
          "base_uri": "https://localhost:8080/"
        },
        "id": "wm7wLpIKCgpo",
        "outputId": "35aa0f89-1af5-400d-cb03-4d1c5a18c403"
      },
      "outputs": [
        {
          "name": "stderr",
          "output_type": "stream",
          "text": [
            "100%|██████████| 29/29 [00:08<00:00,  3.34it/s]"
          ]
        },
        {
          "name": "stdout",
          "output_type": "stream",
          "text": [
            "Results for RDKit descriptors:\n",
            "                               Accuracy  Balanced Accuracy  ROC AUC  F1 Score  \\\n",
            "Model                                                                           \n",
            "ExtraTreesClassifier               0.77               0.77     0.77      0.77   \n",
            "BaggingClassifier                  0.77               0.77     0.77      0.77   \n",
            "RandomForestClassifier             0.77               0.77     0.77      0.77   \n",
            "NuSVC                              0.76               0.76     0.76      0.76   \n",
            "XGBClassifier                      0.76               0.76     0.76      0.76   \n",
            "SVC                                0.75               0.75     0.75      0.75   \n",
            "LGBMClassifier                     0.75               0.75     0.75      0.75   \n",
            "LabelPropagation                   0.74               0.74     0.74      0.74   \n",
            "LabelSpreading                     0.74               0.74     0.74      0.74   \n",
            "KNeighborsClassifier               0.73               0.74     0.74      0.73   \n",
            "LinearDiscriminantAnalysis         0.72               0.73     0.73      0.72   \n",
            "RidgeClassifierCV                  0.71               0.72     0.72      0.71   \n",
            "RidgeClassifier                    0.71               0.72     0.72      0.71   \n",
            "LinearSVC                          0.71               0.72     0.72      0.71   \n",
            "DecisionTreeClassifier             0.72               0.72     0.72      0.72   \n",
            "CalibratedClassifierCV             0.71               0.72     0.72      0.71   \n",
            "LogisticRegression                 0.71               0.71     0.71      0.71   \n",
            "AdaBoostClassifier                 0.71               0.71     0.71      0.71   \n",
            "QuadraticDiscriminantAnalysis      0.68               0.70     0.70      0.68   \n",
            "ExtraTreeClassifier                0.69               0.69     0.69      0.69   \n",
            "PassiveAggressiveClassifier        0.65               0.65     0.65      0.65   \n",
            "GaussianNB                         0.63               0.64     0.64      0.61   \n",
            "Perceptron                         0.62               0.62     0.62      0.62   \n",
            "NearestCentroid                    0.61               0.61     0.61      0.61   \n",
            "SGDClassifier                      0.58               0.58     0.58      0.58   \n",
            "BernoulliNB                        0.57               0.57     0.57      0.57   \n",
            "DummyClassifier                    0.47               0.50     0.50      0.30   \n",
            "\n",
            "                               Time Taken  \n",
            "Model                                      \n",
            "ExtraTreesClassifier                 0.48  \n",
            "BaggingClassifier                    0.37  \n",
            "RandomForestClassifier               0.80  \n",
            "NuSVC                                0.63  \n",
            "XGBClassifier                        0.35  \n",
            "SVC                                  0.58  \n",
            "LGBMClassifier                       0.28  \n",
            "LabelPropagation                     0.32  \n",
            "LabelSpreading                       0.89  \n",
            "KNeighborsClassifier                 0.07  \n",
            "LinearDiscriminantAnalysis           0.65  \n",
            "RidgeClassifierCV                    0.04  \n",
            "RidgeClassifier                      0.02  \n",
            "LinearSVC                            0.56  \n",
            "DecisionTreeClassifier               0.13  \n",
            "CalibratedClassifierCV               1.39  \n",
            "LogisticRegression                   0.23  \n",
            "AdaBoostClassifier                   0.40  \n",
            "QuadraticDiscriminantAnalysis        0.03  \n",
            "ExtraTreeClassifier                  0.02  \n",
            "PassiveAggressiveClassifier          0.03  \n",
            "GaussianNB                           0.02  \n",
            "Perceptron                           0.05  \n",
            "NearestCentroid                      0.06  \n",
            "SGDClassifier                        0.15  \n",
            "BernoulliNB                          0.02  \n",
            "DummyClassifier                      0.02  \n"
          ]
        },
        {
          "name": "stderr",
          "output_type": "stream",
          "text": [
            "\n"
          ]
        }
      ],
      "source": [
        "clf1 = LazyClassifier(verbose=0, ignore_warnings=True, custom_metric=None, random_state=42)\n",
        "models, predictions = clf1.fit(X_train_transformed, X_test_transformed, y_train_clf, y_test_clf)\n",
        "print(\"Results for RDKit descriptors:\")\n",
        "print(models)"
      ]
    },
    {
      "cell_type": "code",
      "execution_count": 105,
      "metadata": {
        "colab": {
          "base_uri": "https://localhost:8080/"
        },
        "id": "QULR6qxlC6YP",
        "outputId": "ed37d67f-64f0-4773-8019-10c623df7418"
      },
      "outputs": [
        {
          "name": "stderr",
          "output_type": "stream",
          "text": [
            "100%|██████████| 29/29 [00:10<00:00,  2.85it/s]"
          ]
        },
        {
          "name": "stdout",
          "output_type": "stream",
          "text": [
            "[LightGBM] [Info] Number of positive: 867, number of negative: 901\n",
            "[LightGBM] [Info] Auto-choosing row-wise multi-threading, the overhead of testing was 0.002402 seconds.\n",
            "You can set `force_row_wise=true` to remove the overhead.\n",
            "And if memory is not enough, you can set `force_col_wise=true`.\n",
            "[LightGBM] [Info] Total Bins 405\n",
            "[LightGBM] [Info] Number of data points in the train set: 1768, number of used features: 135\n",
            "[LightGBM] [Info] [binary:BoostFromScore]: pavg=0.490385 -> initscore=-0.038466\n",
            "[LightGBM] [Info] Start training from score -0.038466\n",
            "Results for MACCS descriptors:\n",
            "                               Accuracy  Balanced Accuracy  ROC AUC  F1 Score  \\\n",
            "Model                                                                           \n",
            "LGBMClassifier                     0.81               0.81     0.81      0.81   \n",
            "RandomForestClassifier             0.81               0.81     0.81      0.81   \n",
            "ExtraTreesClassifier               0.80               0.81     0.81      0.80   \n",
            "XGBClassifier                      0.80               0.80     0.80      0.80   \n",
            "NuSVC                              0.79               0.80     0.80      0.79   \n",
            "BaggingClassifier                  0.79               0.79     0.79      0.79   \n",
            "SVC                                0.78               0.78     0.78      0.78   \n",
            "ExtraTreeClassifier                0.78               0.78     0.78      0.78   \n",
            "KNeighborsClassifier               0.76               0.77     0.77      0.76   \n",
            "DecisionTreeClassifier             0.75               0.75     0.75      0.75   \n",
            "LinearSVC                          0.72               0.72     0.72      0.72   \n",
            "CalibratedClassifierCV             0.72               0.72     0.72      0.72   \n",
            "LinearDiscriminantAnalysis         0.72               0.72     0.72      0.72   \n",
            "RidgeClassifier                    0.72               0.72     0.72      0.72   \n",
            "RidgeClassifierCV                  0.71               0.72     0.72      0.71   \n",
            "LogisticRegression                 0.71               0.71     0.71      0.71   \n",
            "AdaBoostClassifier                 0.70               0.71     0.71      0.70   \n",
            "Perceptron                         0.70               0.70     0.70      0.70   \n",
            "LabelSpreading                     0.68               0.69     0.69      0.68   \n",
            "LabelPropagation                   0.68               0.69     0.69      0.68   \n",
            "PassiveAggressiveClassifier        0.68               0.69     0.69      0.68   \n",
            "NearestCentroid                    0.68               0.69     0.69      0.68   \n",
            "BernoulliNB                        0.68               0.68     0.68      0.68   \n",
            "QuadraticDiscriminantAnalysis      0.66               0.66     0.66      0.66   \n",
            "SGDClassifier                      0.62               0.62     0.62      0.62   \n",
            "GaussianNB                         0.51               0.54     0.54      0.39   \n",
            "DummyClassifier                    0.47               0.50     0.50      0.30   \n",
            "\n",
            "                               Time Taken  \n",
            "Model                                      \n",
            "LGBMClassifier                       0.17  \n",
            "RandomForestClassifier               0.57  \n",
            "ExtraTreesClassifier                 0.39  \n",
            "XGBClassifier                        1.25  \n",
            "NuSVC                                0.64  \n",
            "BaggingClassifier                    0.21  \n",
            "SVC                                  0.58  \n",
            "ExtraTreeClassifier                  0.03  \n",
            "KNeighborsClassifier                 0.06  \n",
            "DecisionTreeClassifier               0.07  \n",
            "LinearSVC                            1.05  \n",
            "CalibratedClassifierCV               2.92  \n",
            "LinearDiscriminantAnalysis           0.18  \n",
            "RidgeClassifier                      0.13  \n",
            "RidgeClassifierCV                    0.20  \n",
            "LogisticRegression                   0.19  \n",
            "AdaBoostClassifier                   0.28  \n",
            "Perceptron                           0.09  \n",
            "LabelSpreading                       0.30  \n",
            "LabelPropagation                     0.22  \n",
            "PassiveAggressiveClassifier          0.06  \n",
            "NearestCentroid                      0.03  \n",
            "BernoulliNB                          0.04  \n",
            "QuadraticDiscriminantAnalysis        0.18  \n",
            "SGDClassifier                        0.17  \n",
            "GaussianNB                           0.03  \n",
            "DummyClassifier                      0.02  \n"
          ]
        },
        {
          "name": "stderr",
          "output_type": "stream",
          "text": [
            "\n"
          ]
        }
      ],
      "source": [
        "clf2 = LazyClassifier(verbose=0, ignore_warnings=True, custom_metric=None, random_state=42)\n",
        "models, predictions = clf2.fit(X_train_maccs, X_test_maccs, y_train_clf, y_test_clf)\n",
        "print(\"Results for MACCS descriptors:\")\n",
        "print(models)"
      ]
    },
    {
      "cell_type": "code",
      "execution_count": 106,
      "metadata": {
        "colab": {
          "base_uri": "https://localhost:8080/"
        },
        "id": "vPlTdxFIDEID",
        "outputId": "8c4bbf1f-48f1-45a0-b407-92c6ebc1cfaf"
      },
      "outputs": [
        {
          "name": "stderr",
          "output_type": "stream",
          "text": [
            "100%|██████████| 29/29 [00:09<00:00,  2.94it/s]"
          ]
        },
        {
          "name": "stdout",
          "output_type": "stream",
          "text": [
            "[LightGBM] [Info] Number of positive: 867, number of negative: 901\n",
            "[LightGBM] [Info] Auto-choosing row-wise multi-threading, the overhead of testing was 0.002388 seconds.\n",
            "You can set `force_row_wise=true` to remove the overhead.\n",
            "And if memory is not enough, you can set `force_col_wise=true`.\n",
            "[LightGBM] [Info] Total Bins 405\n",
            "[LightGBM] [Info] Number of data points in the train set: 1768, number of used features: 135\n",
            "[LightGBM] [Info] [binary:BoostFromScore]: pavg=0.490385 -> initscore=-0.038466\n",
            "[LightGBM] [Info] Start training from score -0.038466\n",
            "Results for Morgan fingerprints:\n",
            "                               Accuracy  Balanced Accuracy  ROC AUC  F1 Score  \\\n",
            "Model                                                                           \n",
            "LGBMClassifier                     0.81               0.81     0.81      0.81   \n",
            "RandomForestClassifier             0.81               0.81     0.81      0.81   \n",
            "ExtraTreesClassifier               0.80               0.81     0.81      0.80   \n",
            "XGBClassifier                      0.80               0.80     0.80      0.80   \n",
            "NuSVC                              0.79               0.80     0.80      0.79   \n",
            "BaggingClassifier                  0.79               0.79     0.79      0.79   \n",
            "SVC                                0.78               0.78     0.78      0.78   \n",
            "ExtraTreeClassifier                0.78               0.78     0.78      0.78   \n",
            "KNeighborsClassifier               0.76               0.77     0.77      0.76   \n",
            "DecisionTreeClassifier             0.75               0.75     0.75      0.75   \n",
            "LinearSVC                          0.72               0.72     0.72      0.72   \n",
            "CalibratedClassifierCV             0.72               0.72     0.72      0.72   \n",
            "LinearDiscriminantAnalysis         0.72               0.72     0.72      0.72   \n",
            "RidgeClassifier                    0.72               0.72     0.72      0.72   \n",
            "RidgeClassifierCV                  0.71               0.72     0.72      0.71   \n",
            "LogisticRegression                 0.71               0.71     0.71      0.71   \n",
            "AdaBoostClassifier                 0.70               0.71     0.71      0.70   \n",
            "Perceptron                         0.70               0.70     0.70      0.70   \n",
            "LabelSpreading                     0.68               0.69     0.69      0.68   \n",
            "LabelPropagation                   0.68               0.69     0.69      0.68   \n",
            "PassiveAggressiveClassifier        0.68               0.69     0.69      0.68   \n",
            "NearestCentroid                    0.68               0.69     0.69      0.68   \n",
            "BernoulliNB                        0.68               0.68     0.68      0.68   \n",
            "QuadraticDiscriminantAnalysis      0.66               0.66     0.66      0.66   \n",
            "SGDClassifier                      0.62               0.62     0.62      0.62   \n",
            "GaussianNB                         0.51               0.54     0.54      0.39   \n",
            "DummyClassifier                    0.47               0.50     0.50      0.30   \n",
            "\n",
            "                               Time Taken  \n",
            "Model                                      \n",
            "LGBMClassifier                       0.16  \n",
            "RandomForestClassifier               0.62  \n",
            "ExtraTreesClassifier                 0.40  \n",
            "XGBClassifier                        0.56  \n",
            "NuSVC                                0.65  \n",
            "BaggingClassifier                    0.20  \n",
            "SVC                                  0.63  \n",
            "ExtraTreeClassifier                  0.03  \n",
            "KNeighborsClassifier                 0.06  \n",
            "DecisionTreeClassifier               0.07  \n",
            "LinearSVC                            1.05  \n",
            "CalibratedClassifierCV               2.93  \n",
            "LinearDiscriminantAnalysis           0.32  \n",
            "RidgeClassifier                      0.05  \n",
            "RidgeClassifierCV                    0.21  \n",
            "LogisticRegression                   0.29  \n",
            "AdaBoostClassifier                   0.28  \n",
            "Perceptron                           0.05  \n",
            "LabelSpreading                       0.40  \n",
            "LabelPropagation                     0.23  \n",
            "PassiveAggressiveClassifier          0.06  \n",
            "NearestCentroid                      0.07  \n",
            "BernoulliNB                          0.04  \n",
            "QuadraticDiscriminantAnalysis        0.18  \n",
            "SGDClassifier                        0.17  \n",
            "GaussianNB                           0.03  \n",
            "DummyClassifier                      0.03  \n"
          ]
        },
        {
          "name": "stderr",
          "output_type": "stream",
          "text": [
            "\n"
          ]
        }
      ],
      "source": [
        "clf3 = LazyClassifier(verbose=0, ignore_warnings=True, custom_metric=None, random_state=42)\n",
        "models, predictions = clf3.fit(X_train_morgan, X_test_morgan, y_train_clf, y_test_clf)\n",
        "print(\"Results for Morgan fingerprints:\")\n",
        "print(models)"
      ]
    },
    {
      "cell_type": "markdown",
      "metadata": {
        "id": "E7oXpG9KDOou"
      },
      "source": [
        "# LGBM Classifier"
      ]
    },
    {
      "cell_type": "code",
      "execution_count": 150,
      "metadata": {
        "id": "6Aj_-l3CDe_w"
      },
      "outputs": [],
      "source": [
        "import lightgbm as lgb"
      ]
    },
    {
      "cell_type": "code",
      "execution_count": 109,
      "metadata": {
        "id": "sIPSn9OxDOPE"
      },
      "outputs": [],
      "source": [
        "param_distrs = {\n",
        "        \"n_estimators\": optuna.distributions.IntDistribution(100, 1000),\n",
        "        \"learning_rate\": optuna.distributions.FloatDistribution(1e-3, 0.1, log=True),\n",
        "        \"num_leaves\": optuna.distributions.IntDistribution(2, 2**10),\n",
        "        \"subsample\": optuna.distributions.FloatDistribution(0.05, 1.0),\n",
        "        \"colsample_bytree\": optuna.distributions.FloatDistribution(0.05, 1.0),\n",
        "        \"min_data_in_leaf\": optuna.distributions.IntDistribution(1, 10),\n",
        "    }\n",
        "lgbm = lgb.LGBMClassifier(random_state=42, verbose=-1)\n",
        "opt_search = optuna.integration.OptunaSearchCV(lgbm, param_distrs, cv = 5,\n",
        "                                                n_trials=50, scoring='accuracy')"
      ]
    },
    {
      "cell_type": "code",
      "execution_count": 110,
      "metadata": {
        "colab": {
          "base_uri": "https://localhost:8080/",
          "height": 1000
        },
        "id": "EWCBH3aMDik-",
        "outputId": "c8ab83d3-d876-4c46-f9a4-e8333253bcfb"
      },
      "outputs": [
        {
          "name": "stderr",
          "output_type": "stream",
          "text": [
            "[I 2024-10-01 17:08:45,399] A new study created in memory with name: no-name-332eebd3-9926-4f79-b907-e907678a4ee0\n",
            "[I 2024-10-01 17:08:49,687] Trial 0 finished with value: 0.7969606760455179 and parameters: {'n_estimators': 274, 'learning_rate': 0.0054520427220232795, 'num_leaves': 998, 'subsample': 0.20685782141382902, 'colsample_bytree': 0.2727750476731654, 'min_data_in_leaf': 7}. Best is trial 0 with value: 0.7969606760455179.\n",
            "[I 2024-10-01 17:09:00,659] Trial 1 finished with value: 0.78621981082249 and parameters: {'n_estimators': 599, 'learning_rate': 0.001360849701218101, 'num_leaves': 894, 'subsample': 0.16103372561959886, 'colsample_bytree': 0.14849007393561572, 'min_data_in_leaf': 4}. Best is trial 0 with value: 0.7969606760455179.\n",
            "[I 2024-10-01 17:09:06,544] Trial 2 finished with value: 0.7947007890398681 and parameters: {'n_estimators': 987, 'learning_rate': 0.036731721743948266, 'num_leaves': 39, 'subsample': 0.21304957299419613, 'colsample_bytree': 0.6272213732548987, 'min_data_in_leaf': 6}. Best is trial 0 with value: 0.7969606760455179.\n",
            "[I 2024-10-01 17:09:15,158] Trial 3 finished with value: 0.799230165970455 and parameters: {'n_estimators': 550, 'learning_rate': 0.044672447087572585, 'num_leaves': 191, 'subsample': 0.9246618486905086, 'colsample_bytree': 0.36204484953536475, 'min_data_in_leaf': 7}. Best is trial 3 with value: 0.799230165970455.\n",
            "[I 2024-10-01 17:09:18,359] Trial 4 finished with value: 0.7850866663465694 and parameters: {'n_estimators': 325, 'learning_rate': 0.006364203236558996, 'num_leaves': 175, 'subsample': 0.7197275886922274, 'colsample_bytree': 0.08878452218283343, 'min_data_in_leaf': 4}. Best is trial 3 with value: 0.799230165970455.\n",
            "[I 2024-10-01 17:09:18,975] Trial 5 finished with value: 0.6691170115715177 and parameters: {'n_estimators': 121, 'learning_rate': 0.0022213790552164455, 'num_leaves': 6, 'subsample': 0.5491300690910424, 'colsample_bytree': 0.5719754512814603, 'min_data_in_leaf': 2}. Best is trial 3 with value: 0.799230165970455.\n",
            "[I 2024-10-01 17:09:23,129] Trial 6 finished with value: 0.7890526720122917 and parameters: {'n_estimators': 635, 'learning_rate': 0.0026461886332454776, 'num_leaves': 40, 'subsample': 0.22332069511562108, 'colsample_bytree': 0.8163712143106607, 'min_data_in_leaf': 10}. Best is trial 3 with value: 0.799230165970455.\n",
            "[I 2024-10-01 17:09:25,361] Trial 7 finished with value: 0.7918727293097103 and parameters: {'n_estimators': 147, 'learning_rate': 0.005029260177193755, 'num_leaves': 224, 'subsample': 0.33601613298817545, 'colsample_bytree': 0.15547451226868994, 'min_data_in_leaf': 4}. Best is trial 3 with value: 0.799230165970455.\n",
            "[I 2024-10-01 17:09:31,590] Trial 8 finished with value: 0.7896128423040605 and parameters: {'n_estimators': 222, 'learning_rate': 0.04872813548512572, 'num_leaves': 845, 'subsample': 0.10363663485560909, 'colsample_bytree': 0.9563110359364608, 'min_data_in_leaf': 6}. Best is trial 3 with value: 0.799230165970455.\n",
            "[I 2024-10-01 17:09:40,374] Trial 9 finished with value: 0.7952705622509242 and parameters: {'n_estimators': 188, 'learning_rate': 0.021039416485765686, 'num_leaves': 654, 'subsample': 0.33935429385305665, 'colsample_bytree': 0.2076257823918622, 'min_data_in_leaf': 1}. Best is trial 3 with value: 0.799230165970455.\n",
            "[I 2024-10-01 17:09:49,746] Trial 10 finished with value: 0.7924425025207663 and parameters: {'n_estimators': 819, 'learning_rate': 0.0934338043996165, 'num_leaves': 401, 'subsample': 0.9877966637287557, 'colsample_bytree': 0.3692565555716883, 'min_data_in_leaf': 9}. Best is trial 3 with value: 0.799230165970455.\n",
            "[I 2024-10-01 17:09:56,014] Trial 11 finished with value: 0.8043101102735232 and parameters: {'n_estimators': 445, 'learning_rate': 0.012361581178989587, 'num_leaves': 562, 'subsample': 0.9907763361691739, 'colsample_bytree': 0.3774799973038567, 'min_data_in_leaf': 8}. Best is trial 11 with value: 0.8043101102735232.\n",
            "[I 2024-10-01 17:10:03,821] Trial 12 finished with value: 0.7969670779917094 and parameters: {'n_estimators': 434, 'learning_rate': 0.015182805632198934, 'num_leaves': 524, 'subsample': 0.9676032216603909, 'colsample_bytree': 0.41771391382180534, 'min_data_in_leaf': 8}. Best is trial 11 with value: 0.8043101102735232.\n",
            "[I 2024-10-01 17:10:10,320] Trial 13 finished with value: 0.7986635937324947 and parameters: {'n_estimators': 463, 'learning_rate': 0.0260346718633777, 'num_leaves': 404, 'subsample': 0.8023378841143518, 'colsample_bytree': 0.4084413316536764, 'min_data_in_leaf': 8}. Best is trial 11 with value: 0.8043101102735232.\n",
            "[I 2024-10-01 17:10:18,045] Trial 14 finished with value: 0.7879179270498231 and parameters: {'n_estimators': 734, 'learning_rate': 0.09418999808057708, 'num_leaves': 612, 'subsample': 0.8041006716761355, 'colsample_bytree': 0.7279287087541472, 'min_data_in_leaf': 10}. Best is trial 11 with value: 0.8043101102735232.\n",
            "[I 2024-10-01 17:10:23,848] Trial 15 finished with value: 0.8043197131928107 and parameters: {'n_estimators': 407, 'learning_rate': 0.009434089478498702, 'num_leaves': 264, 'subsample': 0.6369228026083167, 'colsample_bytree': 0.47503016360640693, 'min_data_in_leaf': 8}. Best is trial 15 with value: 0.8043197131928107.\n",
            "[I 2024-10-01 17:10:32,001] Trial 16 finished with value: 0.8037499399817545 and parameters: {'n_estimators': 422, 'learning_rate': 0.010455570631584187, 'num_leaves': 361, 'subsample': 0.5836385090515868, 'colsample_bytree': 0.5174816296089584, 'min_data_in_leaf': 8}. Best is trial 15 with value: 0.8043197131928107.\n",
            "[I 2024-10-01 17:10:36,859] Trial 17 finished with value: 0.8014900529761049 and parameters: {'n_estimators': 347, 'learning_rate': 0.011201827795777768, 'num_leaves': 703, 'subsample': 0.6586224421215298, 'colsample_bytree': 0.4922801645543918, 'min_data_in_leaf': 9}. Best is trial 15 with value: 0.8043197131928107.\n",
            "[I 2024-10-01 17:10:46,640] Trial 18 finished with value: 0.7997951377218675 and parameters: {'n_estimators': 515, 'learning_rate': 0.007758889343973847, 'num_leaves': 309, 'subsample': 0.43241370491572584, 'colsample_bytree': 0.6851946526547119, 'min_data_in_leaf': 7}. Best is trial 15 with value: 0.8043197131928107.\n",
            "[I 2024-10-01 17:11:00,152] Trial 19 finished with value: 0.797530449256574 and parameters: {'n_estimators': 702, 'learning_rate': 0.016546779805417296, 'num_leaves': 466, 'subsample': 0.8533838838951616, 'colsample_bytree': 0.2905408291911622, 'min_data_in_leaf': 5}. Best is trial 15 with value: 0.8043197131928107.\n",
            "[I 2024-10-01 17:11:05,346] Trial 20 finished with value: 0.7884748963684961 and parameters: {'n_estimators': 384, 'learning_rate': 0.003556980054375017, 'num_leaves': 571, 'subsample': 0.6949911393142667, 'colsample_bytree': 0.8212431136273848, 'min_data_in_leaf': 9}. Best is trial 15 with value: 0.8043197131928107.\n",
            "[I 2024-10-01 17:11:12,999] Trial 21 finished with value: 0.8037515404683024 and parameters: {'n_estimators': 458, 'learning_rate': 0.01134713622080221, 'num_leaves': 308, 'subsample': 0.5607469605359312, 'colsample_bytree': 0.5062604768541481, 'min_data_in_leaf': 8}. Best is trial 15 with value: 0.8043197131928107.\n",
            "[I 2024-10-01 17:11:21,440] Trial 22 finished with value: 0.8026199964789296 and parameters: {'n_estimators': 503, 'learning_rate': 0.011419452409797286, 'num_leaves': 216, 'subsample': 0.48178411295655277, 'colsample_bytree': 0.519887047249303, 'min_data_in_leaf': 8}. Best is trial 15 with value: 0.8043197131928107.\n",
            "[I 2024-10-01 17:11:25,449] Trial 23 finished with value: 0.7997887357756758 and parameters: {'n_estimators': 320, 'learning_rate': 0.008164628471747336, 'num_leaves': 287, 'subsample': 0.6184331028186695, 'colsample_bytree': 0.4647223404627337, 'min_data_in_leaf': 10}. Best is trial 15 with value: 0.8043197131928107.\n",
            "[I 2024-10-01 17:11:36,854] Trial 24 finished with value: 0.8020534242409694 and parameters: {'n_estimators': 597, 'learning_rate': 0.004077946531472609, 'num_leaves': 726, 'subsample': 0.3925643242756608, 'colsample_bytree': 0.5980727990223452, 'min_data_in_leaf': 7}. Best is trial 15 with value: 0.8043197131928107.\n",
            "[I 2024-10-01 17:11:40,085] Trial 25 finished with value: 0.7992205630511676 and parameters: {'n_estimators': 253, 'learning_rate': 0.015821768820479525, 'num_leaves': 480, 'subsample': 0.48324361288509954, 'colsample_bytree': 0.31897243513708884, 'min_data_in_leaf': 9}. Best is trial 15 with value: 0.8043197131928107.\n",
            "[I 2024-10-01 17:11:48,914] Trial 26 finished with value: 0.7918839327155456 and parameters: {'n_estimators': 469, 'learning_rate': 0.028035130653564663, 'num_leaves': 135, 'subsample': 0.7511475029349026, 'colsample_bytree': 0.4501195119857891, 'min_data_in_leaf': 5}. Best is trial 15 with value: 0.8043197131928107.\n",
            "[I 2024-10-01 17:11:55,440] Trial 27 finished with value: 0.8043117107600709 and parameters: {'n_estimators': 388, 'learning_rate': 0.007666358182564817, 'num_leaves': 302, 'subsample': 0.9132025093818821, 'colsample_bytree': 0.6755500103977413, 'min_data_in_leaf': 6}. Best is trial 15 with value: 0.8043197131928107.\n",
            "[I 2024-10-01 17:12:02,128] Trial 28 finished with value: 0.802613594532738 and parameters: {'n_estimators': 392, 'learning_rate': 0.007584666492866431, 'num_leaves': 108, 'subsample': 0.9097136428968492, 'colsample_bytree': 0.7017049159697265, 'min_data_in_leaf': 6}. Best is trial 15 with value: 0.8043197131928107.\n",
            "[I 2024-10-01 17:12:06,697] Trial 29 finished with value: 0.798657191786303 and parameters: {'n_estimators': 295, 'learning_rate': 0.0059387111763002, 'num_leaves': 423, 'subsample': 0.8999477153077979, 'colsample_bytree': 0.7788809449956217, 'min_data_in_leaf': 7}. Best is trial 15 with value: 0.8043197131928107.\n",
            "[I 2024-10-01 17:12:32,552] Trial 30 finished with value: 0.7913093580448456 and parameters: {'n_estimators': 542, 'learning_rate': 0.0030858170622220646, 'num_leaves': 558, 'subsample': 0.8292853035036122, 'colsample_bytree': 0.9206200867356975, 'min_data_in_leaf': 3}. Best is trial 15 with value: 0.8043197131928107.\n",
            "[I 2024-10-01 17:12:38,064] Trial 31 finished with value: 0.8014868520030088 and parameters: {'n_estimators': 379, 'learning_rate': 0.012170652090244878, 'num_leaves': 296, 'subsample': 0.6349123224665714, 'colsample_bytree': 0.5807733218890867, 'min_data_in_leaf': 8}. Best is trial 15 with value: 0.8043197131928107.\n",
            "[I 2024-10-01 17:12:46,567] Trial 32 finished with value: 0.8048766825114834 and parameters: {'n_estimators': 470, 'learning_rate': 0.004973780588086577, 'num_leaves': 339, 'subsample': 0.9965100054800088, 'colsample_bytree': 0.6451036281965211, 'min_data_in_leaf': 7}. Best is trial 32 with value: 0.8048766825114834.\n",
            "[I 2024-10-01 17:12:57,569] Trial 33 finished with value: 0.7997871352891279 and parameters: {'n_estimators': 635, 'learning_rate': 0.001710437016306258, 'num_leaves': 335, 'subsample': 0.9867288433156286, 'colsample_bytree': 0.6345815858930853, 'min_data_in_leaf': 6}. Best is trial 32 with value: 0.8048766825114834.\n",
            "[I 2024-10-01 17:13:03,561] Trial 34 finished with value: 0.7986603927593989 and parameters: {'n_estimators': 269, 'learning_rate': 0.004659662549709293, 'num_leaves': 246, 'subsample': 0.9128569810101648, 'colsample_bytree': 0.6386308047123003, 'min_data_in_leaf': 7}. Best is trial 32 with value: 0.8048766825114834.\n",
            "[I 2024-10-01 17:13:14,092] Trial 35 finished with value: 0.7941326163153599 and parameters: {'n_estimators': 580, 'learning_rate': 0.0011999184248978865, 'num_leaves': 1020, 'subsample': 0.9469536008483892, 'colsample_bytree': 0.2337734018898636, 'min_data_in_leaf': 5}. Best is trial 32 with value: 0.8048766825114834.\n",
            "[I 2024-10-01 17:13:22,181] Trial 36 finished with value: 0.8014820505433653 and parameters: {'n_estimators': 351, 'learning_rate': 0.006410182795084476, 'num_leaves': 828, 'subsample': 0.8759670169277353, 'colsample_bytree': 0.5569585828364357, 'min_data_in_leaf': 6}. Best is trial 32 with value: 0.8048766825114834.\n",
            "[I 2024-10-01 17:13:30,144] Trial 37 finished with value: 0.7997871352891279 and parameters: {'n_estimators': 507, 'learning_rate': 0.009103599395615357, 'num_leaves': 138, 'subsample': 0.7685480834588869, 'colsample_bytree': 0.7446966369853585, 'min_data_in_leaf': 7}. Best is trial 32 with value: 0.8048766825114834.\n",
            "[I 2024-10-01 17:13:41,623] Trial 38 finished with value: 0.7845040892431298 and parameters: {'n_estimators': 669, 'learning_rate': 0.001835832151809605, 'num_leaves': 457, 'subsample': 0.842193930254159, 'colsample_bytree': 0.8838960930652096, 'min_data_in_leaf': 7}. Best is trial 32 with value: 0.8048766825114834.\n",
            "[I 2024-10-01 17:13:52,098] Trial 39 finished with value: 0.8043149117331669 and parameters: {'n_estimators': 856, 'learning_rate': 0.005154245859039943, 'num_leaves': 76, 'subsample': 0.718689614905587, 'colsample_bytree': 0.3452220948678866, 'min_data_in_leaf': 4}. Best is trial 32 with value: 0.8048766825114834.\n",
            "[I 2024-10-01 17:14:03,704] Trial 40 finished with value: 0.8026135945327381 and parameters: {'n_estimators': 988, 'learning_rate': 0.002383932536222118, 'num_leaves': 74, 'subsample': 0.6965975896394039, 'colsample_bytree': 0.6488354000103942, 'min_data_in_leaf': 3}. Best is trial 32 with value: 0.8048766825114834.\n",
            "[I 2024-10-01 17:14:24,971] Trial 41 finished with value: 0.7986667947055904 and parameters: {'n_estimators': 914, 'learning_rate': 0.005278982001041348, 'num_leaves': 257, 'subsample': 0.9925076640170267, 'colsample_bytree': 0.3305107105326665, 'min_data_in_leaf': 4}. Best is trial 32 with value: 0.8048766825114834.\n",
            "[I 2024-10-01 17:14:40,550] Trial 42 finished with value: 0.7980922200348906 and parameters: {'n_estimators': 779, 'learning_rate': 0.004049731436919547, 'num_leaves': 178, 'subsample': 0.7631713760937742, 'colsample_bytree': 0.3801557633931154, 'min_data_in_leaf': 3}. Best is trial 32 with value: 0.8048766825114834.\n",
            "[I 2024-10-01 17:14:58,320] Trial 43 finished with value: 0.801486852003009 and parameters: {'n_estimators': 941, 'learning_rate': 0.0067107477938654495, 'num_leaves': 363, 'subsample': 0.9316601244314208, 'colsample_bytree': 0.2322467633292829, 'min_data_in_leaf': 5}. Best is trial 32 with value: 0.8048766825114834.\n",
            "[I 2024-10-01 17:15:01,050] Trial 44 finished with value: 0.6595092908244106 and parameters: {'n_estimators': 412, 'learning_rate': 0.00285550402534454, 'num_leaves': 4, 'subsample': 0.7315001989443108, 'colsample_bytree': 0.43449882317371336, 'min_data_in_leaf': 6}. Best is trial 32 with value: 0.8048766825114834.\n",
            "[I 2024-10-01 17:15:12,163] Trial 45 finished with value: 0.7896176437637042 and parameters: {'n_estimators': 561, 'learning_rate': 0.018873822899276242, 'num_leaves': 185, 'subsample': 0.8845042891687629, 'colsample_bytree': 0.5541859650756776, 'min_data_in_leaf': 4}. Best is trial 32 with value: 0.8048766825114834.\n",
            "[I 2024-10-01 17:15:19,746] Trial 46 finished with value: 0.799230165970455 and parameters: {'n_estimators': 835, 'learning_rate': 0.013188668213992033, 'num_leaves': 67, 'subsample': 0.9600661718643286, 'colsample_bytree': 0.09225721567967915, 'min_data_in_leaf': 2}. Best is trial 32 with value: 0.8048766825114834.\n",
            "[I 2024-10-01 17:15:22,617] Trial 47 finished with value: 0.7980986219810823 and parameters: {'n_estimators': 221, 'learning_rate': 0.00929666155383895, 'num_leaves': 372, 'subsample': 0.8140112276543003, 'colsample_bytree': 0.3510805019649913, 'min_data_in_leaf': 9}. Best is trial 32 with value: 0.8048766825114834.\n",
            "[I 2024-10-01 17:15:32,255] Trial 48 finished with value: 0.8009170787919528 and parameters: {'n_estimators': 460, 'learning_rate': 0.00477194086869811, 'num_leaves': 512, 'subsample': 0.27387696809428136, 'colsample_bytree': 0.393370848862446, 'min_data_in_leaf': 6}. Best is trial 32 with value: 0.8048766825114834.\n",
            "[I 2024-10-01 17:15:36,483] Trial 49 finished with value: 0.7997887357756758 and parameters: {'n_estimators': 312, 'learning_rate': 0.02765427408328412, 'num_leaves': 633, 'subsample': 0.6715858323690225, 'colsample_bytree': 0.287186251525569, 'min_data_in_leaf': 8}. Best is trial 32 with value: 0.8048766825114834.\n"
          ]
        },
        {
          "data": {
            "text/html": [
              "<style>#sk-container-id-3 {color: black;background-color: white;}#sk-container-id-3 pre{padding: 0;}#sk-container-id-3 div.sk-toggleable {background-color: white;}#sk-container-id-3 label.sk-toggleable__label {cursor: pointer;display: block;width: 100%;margin-bottom: 0;padding: 0.3em;box-sizing: border-box;text-align: center;}#sk-container-id-3 label.sk-toggleable__label-arrow:before {content: \"▸\";float: left;margin-right: 0.25em;color: #696969;}#sk-container-id-3 label.sk-toggleable__label-arrow:hover:before {color: black;}#sk-container-id-3 div.sk-estimator:hover label.sk-toggleable__label-arrow:before {color: black;}#sk-container-id-3 div.sk-toggleable__content {max-height: 0;max-width: 0;overflow: hidden;text-align: left;background-color: #f0f8ff;}#sk-container-id-3 div.sk-toggleable__content pre {margin: 0.2em;color: black;border-radius: 0.25em;background-color: #f0f8ff;}#sk-container-id-3 input.sk-toggleable__control:checked~div.sk-toggleable__content {max-height: 200px;max-width: 100%;overflow: auto;}#sk-container-id-3 input.sk-toggleable__control:checked~label.sk-toggleable__label-arrow:before {content: \"▾\";}#sk-container-id-3 div.sk-estimator input.sk-toggleable__control:checked~label.sk-toggleable__label {background-color: #d4ebff;}#sk-container-id-3 div.sk-label input.sk-toggleable__control:checked~label.sk-toggleable__label {background-color: #d4ebff;}#sk-container-id-3 input.sk-hidden--visually {border: 0;clip: rect(1px 1px 1px 1px);clip: rect(1px, 1px, 1px, 1px);height: 1px;margin: -1px;overflow: hidden;padding: 0;position: absolute;width: 1px;}#sk-container-id-3 div.sk-estimator {font-family: monospace;background-color: #f0f8ff;border: 1px dotted black;border-radius: 0.25em;box-sizing: border-box;margin-bottom: 0.5em;}#sk-container-id-3 div.sk-estimator:hover {background-color: #d4ebff;}#sk-container-id-3 div.sk-parallel-item::after {content: \"\";width: 100%;border-bottom: 1px solid gray;flex-grow: 1;}#sk-container-id-3 div.sk-label:hover label.sk-toggleable__label {background-color: #d4ebff;}#sk-container-id-3 div.sk-serial::before {content: \"\";position: absolute;border-left: 1px solid gray;box-sizing: border-box;top: 0;bottom: 0;left: 50%;z-index: 0;}#sk-container-id-3 div.sk-serial {display: flex;flex-direction: column;align-items: center;background-color: white;padding-right: 0.2em;padding-left: 0.2em;position: relative;}#sk-container-id-3 div.sk-item {position: relative;z-index: 1;}#sk-container-id-3 div.sk-parallel {display: flex;align-items: stretch;justify-content: center;background-color: white;position: relative;}#sk-container-id-3 div.sk-item::before, #sk-container-id-3 div.sk-parallel-item::before {content: \"\";position: absolute;border-left: 1px solid gray;box-sizing: border-box;top: 0;bottom: 0;left: 50%;z-index: -1;}#sk-container-id-3 div.sk-parallel-item {display: flex;flex-direction: column;z-index: 1;position: relative;background-color: white;}#sk-container-id-3 div.sk-parallel-item:first-child::after {align-self: flex-end;width: 50%;}#sk-container-id-3 div.sk-parallel-item:last-child::after {align-self: flex-start;width: 50%;}#sk-container-id-3 div.sk-parallel-item:only-child::after {width: 0;}#sk-container-id-3 div.sk-dashed-wrapped {border: 1px dashed gray;margin: 0 0.4em 0.5em 0.4em;box-sizing: border-box;padding-bottom: 0.4em;background-color: white;}#sk-container-id-3 div.sk-label label {font-family: monospace;font-weight: bold;display: inline-block;line-height: 1.2em;}#sk-container-id-3 div.sk-label-container {text-align: center;}#sk-container-id-3 div.sk-container {/* jupyter's `normalize.less` sets `[hidden] { display: none; }` but bootstrap.min.css set `[hidden] { display: none !important; }` so we also need the `!important` here to be able to override the default hidden behavior on the sphinx rendered scikit-learn.org. See: https://github.com/scikit-learn/scikit-learn/issues/21755 */display: inline-block !important;position: relative;}#sk-container-id-3 div.sk-text-repr-fallback {display: none;}</style><div id=\"sk-container-id-3\" class=\"sk-top-container\"><div class=\"sk-text-repr-fallback\"><pre>OptunaSearchCV(cv=5, estimator=LGBMClassifier(random_state=42, verbose=-1),\n",
              "               n_jobs=1, n_trials=50,\n",
              "               param_distributions={&#x27;colsample_bytree&#x27;: FloatDistribution(high=1.0, log=False, low=0.05, step=None),\n",
              "                                    &#x27;learning_rate&#x27;: FloatDistribution(high=0.1, log=True, low=0.001, step=None),\n",
              "                                    &#x27;min_data_in_leaf&#x27;: IntDistribution(high=10, log=False, low=1, step=1),\n",
              "                                    &#x27;n_estimators&#x27;: IntDistribution(high=1000, log=False, low=100, step=1),\n",
              "                                    &#x27;num_leaves&#x27;: IntDistribution(high=1024, log=False, low=2, step=1),\n",
              "                                    &#x27;subsample&#x27;: FloatDistribution(high=1.0, log=False, low=0.05, step=None)},\n",
              "               scoring=&#x27;accuracy&#x27;)</pre><b>In a Jupyter environment, please rerun this cell to show the HTML representation or trust the notebook. <br />On GitHub, the HTML representation is unable to render, please try loading this page with nbviewer.org.</b></div><div class=\"sk-container\" hidden><div class=\"sk-item sk-dashed-wrapped\"><div class=\"sk-label-container\"><div class=\"sk-label sk-toggleable\"><input class=\"sk-toggleable__control sk-hidden--visually\" id=\"sk-estimator-id-7\" type=\"checkbox\" ><label for=\"sk-estimator-id-7\" class=\"sk-toggleable__label sk-toggleable__label-arrow\">OptunaSearchCV</label><div class=\"sk-toggleable__content\"><pre>OptunaSearchCV(cv=5, estimator=LGBMClassifier(random_state=42, verbose=-1),\n",
              "               n_jobs=1, n_trials=50,\n",
              "               param_distributions={&#x27;colsample_bytree&#x27;: FloatDistribution(high=1.0, log=False, low=0.05, step=None),\n",
              "                                    &#x27;learning_rate&#x27;: FloatDistribution(high=0.1, log=True, low=0.001, step=None),\n",
              "                                    &#x27;min_data_in_leaf&#x27;: IntDistribution(high=10, log=False, low=1, step=1),\n",
              "                                    &#x27;n_estimators&#x27;: IntDistribution(high=1000, log=False, low=100, step=1),\n",
              "                                    &#x27;num_leaves&#x27;: IntDistribution(high=1024, log=False, low=2, step=1),\n",
              "                                    &#x27;subsample&#x27;: FloatDistribution(high=1.0, log=False, low=0.05, step=None)},\n",
              "               scoring=&#x27;accuracy&#x27;)</pre></div></div></div><div class=\"sk-parallel\"><div class=\"sk-parallel-item\"><div class=\"sk-item\"><div class=\"sk-label-container\"><div class=\"sk-label sk-toggleable\"><input class=\"sk-toggleable__control sk-hidden--visually\" id=\"sk-estimator-id-8\" type=\"checkbox\" ><label for=\"sk-estimator-id-8\" class=\"sk-toggleable__label sk-toggleable__label-arrow\">estimator: LGBMClassifier</label><div class=\"sk-toggleable__content\"><pre>LGBMClassifier(random_state=42, verbose=-1)</pre></div></div></div><div class=\"sk-serial\"><div class=\"sk-item\"><div class=\"sk-estimator sk-toggleable\"><input class=\"sk-toggleable__control sk-hidden--visually\" id=\"sk-estimator-id-9\" type=\"checkbox\" ><label for=\"sk-estimator-id-9\" class=\"sk-toggleable__label sk-toggleable__label-arrow\">LGBMClassifier</label><div class=\"sk-toggleable__content\"><pre>LGBMClassifier(random_state=42, verbose=-1)</pre></div></div></div></div></div></div></div></div></div></div>"
            ],
            "text/plain": [
              "OptunaSearchCV(cv=5, estimator=LGBMClassifier(random_state=42, verbose=-1),\n",
              "               n_jobs=1, n_trials=50,\n",
              "               param_distributions={'colsample_bytree': FloatDistribution(high=1.0, log=False, low=0.05, step=None),\n",
              "                                    'learning_rate': FloatDistribution(high=0.1, log=True, low=0.001, step=None),\n",
              "                                    'min_data_in_leaf': IntDistribution(high=10, log=False, low=1, step=1),\n",
              "                                    'n_estimators': IntDistribution(high=1000, log=False, low=100, step=1),\n",
              "                                    'num_leaves': IntDistribution(high=1024, log=False, low=2, step=1),\n",
              "                                    'subsample': FloatDistribution(high=1.0, log=False, low=0.05, step=None)},\n",
              "               scoring='accuracy')"
            ]
          },
          "execution_count": 110,
          "metadata": {},
          "output_type": "execute_result"
        }
      ],
      "source": [
        "opt_search.fit(X_train_maccs, y_train_clf)"
      ]
    },
    {
      "cell_type": "code",
      "execution_count": 111,
      "metadata": {
        "colab": {
          "base_uri": "https://localhost:8080/"
        },
        "id": "Km4re4I6FK8G",
        "outputId": "c28c16f5-73f1-4a7b-a193-fd5645751831"
      },
      "outputs": [
        {
          "name": "stdout",
          "output_type": "stream",
          "text": [
            "Best hyperparameters: {'n_estimators': 470, 'learning_rate': 0.004973780588086577, 'num_leaves': 339, 'subsample': 0.9965100054800088, 'colsample_bytree': 0.6451036281965211, 'min_data_in_leaf': 7}\n",
            "Best accuracy: 0.8048766825114834\n"
          ]
        }
      ],
      "source": [
        "print('Best hyperparameters:', opt_search.best_params_)\n",
        "print('Best accuracy:', opt_search.best_score_)"
      ]
    },
    {
      "cell_type": "code",
      "execution_count": 206,
      "metadata": {
        "colab": {
          "base_uri": "https://localhost:8080/"
        },
        "id": "hS7dkg8sFPYl",
        "outputId": "2634c54a-d42a-45fb-e49c-121500223494"
      },
      "outputs": [
        {
          "name": "stdout",
          "output_type": "stream",
          "text": [
            "train accuracy 0.9502262443438914\n",
            "train F1 0.9488966318234612\n",
            "test accuracy 0.8103837471783296\n",
            "test f1 0.8197424892703862\n"
          ]
        }
      ],
      "source": [
        "best_params = {'n_estimators': 460, 'learning_rate': 0.00477194086869811, 'num_leaves': 512, 'subsample': 0.27387696809428136, 'colsample_bytree': 0.393370848862446, 'min_data_in_leaf': 6}\n",
        "model = lgb.LGBMClassifier(**best_params, random_state=42, verbose=-1)\n",
        "model.fit(X_train_maccs, y_train_clf)\n",
        "y_pred_test = model.predict(X_test_maccs)\n",
        "y_pred_train = model.predict(X_train_maccs)\n",
        "print('train accuracy', accuracy_score(y_train_clf, y_pred_train))\n",
        "print('train F1', f1_score(y_train_clf, y_pred_train))\n",
        "print('test accuracy', accuracy_score(y_test_clf, y_pred_test))\n",
        "print('test f1', f1_score(y_test_clf, y_pred_test))"
      ]
    },
    {
      "cell_type": "markdown",
      "metadata": {
        "id": "kqpiiAGbFlrO"
      },
      "source": [
        "# Fandom Forest Classifier"
      ]
    },
    {
      "cell_type": "code",
      "execution_count": 152,
      "metadata": {
        "id": "1oYscpfRFdh3"
      },
      "outputs": [],
      "source": [
        "from sklearn.ensemble import RandomForestClassifier\n",
        "param_distrs = {\n",
        "        \"n_estimators\": optuna.distributions.IntDistribution(100, 1000),\n",
        "        \"max_depth\": optuna.distributions.IntDistribution(2, 50),\n",
        "        \"min_samples_split\": optuna.distributions.IntDistribution(2, 10),\n",
        "        \"min_samples_leaf\": optuna.distributions.IntDistribution(1, 10)\n",
        "    }\n",
        "rf_clf = RandomForestClassifier(random_state=42)\n",
        "opt_search = optuna.integration.OptunaSearchCV(rf_clf, param_distrs, cv = 5,\n",
        "                                                n_trials=50, scoring='accuracy')"
      ]
    },
    {
      "cell_type": "code",
      "execution_count": 114,
      "metadata": {
        "colab": {
          "base_uri": "https://localhost:8080/",
          "height": 1000
        },
        "id": "3TWh50GSFr5P",
        "outputId": "2dce5e8b-f817-4f1b-b1cc-cf1e5f46ecec"
      },
      "outputs": [
        {
          "name": "stderr",
          "output_type": "stream",
          "text": [
            "[I 2024-10-01 17:18:08,439] A new study created in memory with name: no-name-b167a059-1407-4fae-a467-f38d7131e1a5\n",
            "[I 2024-10-01 17:18:13,035] Trial 0 finished with value: 0.7805668923352698 and parameters: {'n_estimators': 341, 'max_depth': 30, 'min_samples_split': 8, 'min_samples_leaf': 4}. Best is trial 0 with value: 0.7805668923352698.\n",
            "[I 2024-10-01 17:18:21,333] Trial 1 finished with value: 0.7890510715257439 and parameters: {'n_estimators': 549, 'max_depth': 16, 'min_samples_split': 5, 'min_samples_leaf': 2}. Best is trial 1 with value: 0.7890510715257439.\n",
            "[I 2024-10-01 17:18:26,857] Trial 2 finished with value: 0.7550983498983691 and parameters: {'n_estimators': 530, 'max_depth': 7, 'min_samples_split': 6, 'min_samples_leaf': 2}. Best is trial 1 with value: 0.7890510715257439.\n",
            "[I 2024-10-01 17:18:40,504] Trial 3 finished with value: 0.7890526720122917 and parameters: {'n_estimators': 944, 'max_depth': 36, 'min_samples_split': 7, 'min_samples_leaf': 1}. Best is trial 3 with value: 0.7890526720122917.\n",
            "[I 2024-10-01 17:18:48,802] Trial 4 finished with value: 0.7726428834365647 and parameters: {'n_estimators': 573, 'max_depth': 37, 'min_samples_split': 2, 'min_samples_leaf': 6}. Best is trial 3 with value: 0.7890526720122917.\n",
            "[I 2024-10-01 17:18:50,185] Trial 5 finished with value: 0.7771626574478642 and parameters: {'n_estimators': 124, 'max_depth': 46, 'min_samples_split': 5, 'min_samples_leaf': 7}. Best is trial 3 with value: 0.7890526720122917.\n",
            "[I 2024-10-01 17:19:02,089] Trial 6 finished with value: 0.7890494710391959 and parameters: {'n_estimators': 775, 'max_depth': 42, 'min_samples_split': 6, 'min_samples_leaf': 1}. Best is trial 3 with value: 0.7890526720122917.\n",
            "[I 2024-10-01 17:19:10,200] Trial 7 finished with value: 0.7256846081208688 and parameters: {'n_estimators': 839, 'max_depth': 5, 'min_samples_split': 5, 'min_samples_leaf': 2}. Best is trial 3 with value: 0.7890526720122917.\n",
            "[I 2024-10-01 17:19:19,890] Trial 8 finished with value: 0.7884925017205231 and parameters: {'n_estimators': 634, 'max_depth': 22, 'min_samples_split': 8, 'min_samples_leaf': 1}. Best is trial 3 with value: 0.7890526720122917.\n",
            "[I 2024-10-01 17:19:25,072] Trial 9 finished with value: 0.7641555032729949 and parameters: {'n_estimators': 466, 'max_depth': 29, 'min_samples_split': 5, 'min_samples_leaf': 9}. Best is trial 3 with value: 0.7890526720122917.\n",
            "[I 2024-10-01 17:19:38,675] Trial 10 finished with value: 0.7822602071029593 and parameters: {'n_estimators': 1000, 'max_depth': 36, 'min_samples_split': 10, 'min_samples_leaf': 4}. Best is trial 3 with value: 0.7890526720122917.\n",
            "[I 2024-10-01 17:19:43,122] Trial 11 finished with value: 0.7777356316320162 and parameters: {'n_estimators': 295, 'max_depth': 17, 'min_samples_split': 3, 'min_samples_leaf': 4}. Best is trial 3 with value: 0.7890526720122917.\n",
            "[I 2024-10-01 17:19:52,910] Trial 12 finished with value: 0.784520094108609 and parameters: {'n_estimators': 738, 'max_depth': 15, 'min_samples_split': 8, 'min_samples_leaf': 3}. Best is trial 3 with value: 0.7890526720122917.\n",
            "[I 2024-10-01 17:20:06,711] Trial 13 finished with value: 0.7913125590179415 and parameters: {'n_estimators': 979, 'max_depth': 12, 'min_samples_split': 4, 'min_samples_leaf': 1}. Best is trial 13 with value: 0.7913125590179415.\n",
            "[I 2024-10-01 17:20:16,716] Trial 14 finished with value: 0.6679934700148846 and parameters: {'n_estimators': 999, 'max_depth': 2, 'min_samples_split': 3, 'min_samples_leaf': 8}. Best is trial 13 with value: 0.7913125590179415.\n",
            "[I 2024-10-01 17:20:26,960] Trial 15 finished with value: 0.7573694403098542 and parameters: {'n_estimators': 893, 'max_depth': 22, 'min_samples_split': 10, 'min_samples_leaf': 10}. Best is trial 13 with value: 0.7913125590179415.\n",
            "[I 2024-10-01 17:20:38,505] Trial 16 finished with value: 0.7788687761079368 and parameters: {'n_estimators': 897, 'max_depth': 49, 'min_samples_split': 7, 'min_samples_leaf': 5}. Best is trial 13 with value: 0.7913125590179415.\n",
            "[I 2024-10-01 17:20:49,520] Trial 17 finished with value: 0.7997903362622237 and parameters: {'n_estimators': 705, 'max_depth': 37, 'min_samples_split': 4, 'min_samples_leaf': 1}. Best is trial 17 with value: 0.7997903362622237.\n",
            "[I 2024-10-01 17:20:59,125] Trial 18 finished with value: 0.7732030537283333 and parameters: {'n_estimators': 716, 'max_depth': 9, 'min_samples_split': 4, 'min_samples_leaf': 3}. Best is trial 17 with value: 0.7997903362622237.\n",
            "[I 2024-10-01 17:21:07,342] Trial 19 finished with value: 0.7805636913621742 and parameters: {'n_estimators': 667, 'max_depth': 12, 'min_samples_split': 2, 'min_samples_leaf': 3}. Best is trial 17 with value: 0.7997903362622237.\n",
            "[I 2024-10-01 17:21:13,214] Trial 20 finished with value: 0.777737232118564 and parameters: {'n_estimators': 379, 'max_depth': 23, 'min_samples_split': 4, 'min_samples_leaf': 5}. Best is trial 17 with value: 0.7997903362622237.\n",
            "[I 2024-10-01 17:21:25,951] Trial 21 finished with value: 0.7879227285094668 and parameters: {'n_estimators': 904, 'max_depth': 37, 'min_samples_split': 7, 'min_samples_leaf': 1}. Best is trial 17 with value: 0.7997903362622237.\n",
            "[I 2024-10-01 17:21:37,953] Trial 22 finished with value: 0.8003521070405404 and parameters: {'n_estimators': 800, 'max_depth': 32, 'min_samples_split': 4, 'min_samples_leaf': 1}. Best is trial 22 with value: 0.8003521070405404.\n",
            "[I 2024-10-01 17:21:49,929] Trial 23 finished with value: 0.7879163265632754 and parameters: {'n_estimators': 812, 'max_depth': 30, 'min_samples_split': 3, 'min_samples_leaf': 2}. Best is trial 22 with value: 0.8003521070405404.\n",
            "[I 2024-10-01 17:22:02,796] Trial 24 finished with value: 0.7997887357756758 and parameters: {'n_estimators': 810, 'max_depth': 43, 'min_samples_split': 4, 'min_samples_leaf': 1}. Best is trial 22 with value: 0.8003521070405404.\n",
            "[I 2024-10-01 17:22:12,370] Trial 25 finished with value: 0.7867863830604505 and parameters: {'n_estimators': 659, 'max_depth': 45, 'min_samples_split': 4, 'min_samples_leaf': 3}. Best is trial 22 with value: 0.8003521070405404.\n",
            "[I 2024-10-01 17:22:23,696] Trial 26 finished with value: 0.7901810150285687 and parameters: {'n_estimators': 845, 'max_depth': 40, 'min_samples_split': 3, 'min_samples_leaf': 2}. Best is trial 22 with value: 0.8003521070405404.\n",
            "[I 2024-10-01 17:22:36,171] Trial 27 finished with value: 0.7924425025207663 and parameters: {'n_estimators': 738, 'max_depth': 41, 'min_samples_split': 2, 'min_samples_leaf': 1}. Best is trial 22 with value: 0.8003521070405404.\n",
            "[I 2024-10-01 17:22:47,136] Trial 28 finished with value: 0.7743409996638979 and parameters: {'n_estimators': 793, 'max_depth': 33, 'min_samples_split': 4, 'min_samples_leaf': 6}. Best is trial 22 with value: 0.8003521070405404.\n",
            "[I 2024-10-01 17:22:54,880] Trial 29 finished with value: 0.778865575134841 and parameters: {'n_estimators': 617, 'max_depth': 26, 'min_samples_split': 5, 'min_samples_leaf': 4}. Best is trial 22 with value: 0.8003521070405404.\n",
            "[I 2024-10-01 17:23:05,269] Trial 30 finished with value: 0.7901794145420208 and parameters: {'n_estimators': 717, 'max_depth': 50, 'min_samples_split': 6, 'min_samples_leaf': 2}. Best is trial 22 with value: 0.8003521070405404.\n",
            "[I 2024-10-01 17:23:17,724] Trial 31 finished with value: 0.7918775307693539 and parameters: {'n_estimators': 725, 'max_depth': 41, 'min_samples_split': 2, 'min_samples_leaf': 1}. Best is trial 22 with value: 0.8003521070405404.\n",
            "[I 2024-10-01 17:23:29,605] Trial 32 finished with value: 0.7884844992877835 and parameters: {'n_estimators': 776, 'max_depth': 33, 'min_samples_split': 3, 'min_samples_leaf': 2}. Best is trial 22 with value: 0.8003521070405404.\n",
            "[I 2024-10-01 17:23:36,872] Trial 33 finished with value: 0.7873545557849587 and parameters: {'n_estimators': 502, 'max_depth': 44, 'min_samples_split': 2, 'min_samples_leaf': 1}. Best is trial 22 with value: 0.8003521070405404.\n",
            "[I 2024-10-01 17:23:46,029] Trial 34 finished with value: 0.787348153838767 and parameters: {'n_estimators': 597, 'max_depth': 34, 'min_samples_split': 3, 'min_samples_leaf': 3}. Best is trial 22 with value: 0.8003521070405404.\n",
            "[I 2024-10-01 17:23:55,869] Trial 35 finished with value: 0.8014852515164611 and parameters: {'n_estimators': 680, 'max_depth': 38, 'min_samples_split': 4, 'min_samples_leaf': 1}. Best is trial 35 with value: 0.8014852515164611.\n",
            "[I 2024-10-01 17:24:05,677] Trial 36 finished with value: 0.7890526720122917 and parameters: {'n_estimators': 686, 'max_depth': 39, 'min_samples_split': 4, 'min_samples_leaf': 2}. Best is trial 35 with value: 0.8014852515164611.\n",
            "[I 2024-10-01 17:24:18,295] Trial 37 finished with value: 0.7901810150285687 and parameters: {'n_estimators': 846, 'max_depth': 28, 'min_samples_split': 5, 'min_samples_leaf': 2}. Best is trial 35 with value: 0.8014852515164611.\n",
            "[I 2024-10-01 17:24:26,281] Trial 38 finished with value: 0.7913125590179414 and parameters: {'n_estimators': 555, 'max_depth': 32, 'min_samples_split': 6, 'min_samples_leaf': 1}. Best is trial 35 with value: 0.8014852515164611.\n",
            "[I 2024-10-01 17:24:40,070] Trial 39 finished with value: 0.7913125590179415 and parameters: {'n_estimators': 937, 'max_depth': 47, 'min_samples_split': 5, 'min_samples_leaf': 1}. Best is trial 35 with value: 0.8014852515164611.\n",
            "[I 2024-10-01 17:24:46,113] Trial 40 finished with value: 0.7732078551879772 and parameters: {'n_estimators': 433, 'max_depth': 43, 'min_samples_split': 4, 'min_samples_leaf': 7}. Best is trial 35 with value: 0.8014852515164611.\n",
            "[I 2024-10-01 17:24:58,757] Trial 41 finished with value: 0.7913109585313935 and parameters: {'n_estimators': 754, 'max_depth': 38, 'min_samples_split': 2, 'min_samples_leaf': 1}. Best is trial 35 with value: 0.8014852515164611.\n",
            "[I 2024-10-01 17:25:09,721] Trial 42 finished with value: 0.7913077575582979 and parameters: {'n_estimators': 808, 'max_depth': 35, 'min_samples_split': 6, 'min_samples_leaf': 2}. Best is trial 35 with value: 0.8014852515164611.\n",
            "[I 2024-10-01 17:25:20,029] Trial 43 finished with value: 0.790749187753077 and parameters: {'n_estimators': 687, 'max_depth': 41, 'min_samples_split': 5, 'min_samples_leaf': 1}. Best is trial 35 with value: 0.8014852515164611.\n",
            "[I 2024-10-01 17:25:32,499] Trial 44 finished with value: 0.787349754325315 and parameters: {'n_estimators': 849, 'max_depth': 47, 'min_samples_split': 3, 'min_samples_leaf': 3}. Best is trial 35 with value: 0.8014852515164611.\n",
            "[I 2024-10-01 17:25:35,113] Trial 45 finished with value: 0.7913141595044894 and parameters: {'n_estimators': 196, 'max_depth': 39, 'min_samples_split': 4, 'min_samples_leaf': 2}. Best is trial 35 with value: 0.8014852515164611.\n",
            "[I 2024-10-01 17:25:46,651] Trial 46 finished with value: 0.7901826155151166 and parameters: {'n_estimators': 636, 'max_depth': 43, 'min_samples_split': 2, 'min_samples_leaf': 1}. Best is trial 35 with value: 0.8014852515164611.\n",
            "[I 2024-10-01 17:25:56,468] Trial 47 finished with value: 0.7969638770186137 and parameters: {'n_estimators': 594, 'max_depth': 31, 'min_samples_split': 3, 'min_samples_leaf': 1}. Best is trial 35 with value: 0.8014852515164611.\n",
            "[I 2024-10-01 17:26:04,581] Trial 48 finished with value: 0.790745986779981 and parameters: {'n_estimators': 583, 'max_depth': 25, 'min_samples_split': 3, 'min_samples_leaf': 2}. Best is trial 35 with value: 0.8014852515164611.\n",
            "[I 2024-10-01 17:26:13,709] Trial 49 finished with value: 0.8020534242409691 and parameters: {'n_estimators': 519, 'max_depth': 31, 'min_samples_split': 4, 'min_samples_leaf': 1}. Best is trial 49 with value: 0.8020534242409691.\n"
          ]
        },
        {
          "data": {
            "text/html": [
              "<style>#sk-container-id-4 {color: black;background-color: white;}#sk-container-id-4 pre{padding: 0;}#sk-container-id-4 div.sk-toggleable {background-color: white;}#sk-container-id-4 label.sk-toggleable__label {cursor: pointer;display: block;width: 100%;margin-bottom: 0;padding: 0.3em;box-sizing: border-box;text-align: center;}#sk-container-id-4 label.sk-toggleable__label-arrow:before {content: \"▸\";float: left;margin-right: 0.25em;color: #696969;}#sk-container-id-4 label.sk-toggleable__label-arrow:hover:before {color: black;}#sk-container-id-4 div.sk-estimator:hover label.sk-toggleable__label-arrow:before {color: black;}#sk-container-id-4 div.sk-toggleable__content {max-height: 0;max-width: 0;overflow: hidden;text-align: left;background-color: #f0f8ff;}#sk-container-id-4 div.sk-toggleable__content pre {margin: 0.2em;color: black;border-radius: 0.25em;background-color: #f0f8ff;}#sk-container-id-4 input.sk-toggleable__control:checked~div.sk-toggleable__content {max-height: 200px;max-width: 100%;overflow: auto;}#sk-container-id-4 input.sk-toggleable__control:checked~label.sk-toggleable__label-arrow:before {content: \"▾\";}#sk-container-id-4 div.sk-estimator input.sk-toggleable__control:checked~label.sk-toggleable__label {background-color: #d4ebff;}#sk-container-id-4 div.sk-label input.sk-toggleable__control:checked~label.sk-toggleable__label {background-color: #d4ebff;}#sk-container-id-4 input.sk-hidden--visually {border: 0;clip: rect(1px 1px 1px 1px);clip: rect(1px, 1px, 1px, 1px);height: 1px;margin: -1px;overflow: hidden;padding: 0;position: absolute;width: 1px;}#sk-container-id-4 div.sk-estimator {font-family: monospace;background-color: #f0f8ff;border: 1px dotted black;border-radius: 0.25em;box-sizing: border-box;margin-bottom: 0.5em;}#sk-container-id-4 div.sk-estimator:hover {background-color: #d4ebff;}#sk-container-id-4 div.sk-parallel-item::after {content: \"\";width: 100%;border-bottom: 1px solid gray;flex-grow: 1;}#sk-container-id-4 div.sk-label:hover label.sk-toggleable__label {background-color: #d4ebff;}#sk-container-id-4 div.sk-serial::before {content: \"\";position: absolute;border-left: 1px solid gray;box-sizing: border-box;top: 0;bottom: 0;left: 50%;z-index: 0;}#sk-container-id-4 div.sk-serial {display: flex;flex-direction: column;align-items: center;background-color: white;padding-right: 0.2em;padding-left: 0.2em;position: relative;}#sk-container-id-4 div.sk-item {position: relative;z-index: 1;}#sk-container-id-4 div.sk-parallel {display: flex;align-items: stretch;justify-content: center;background-color: white;position: relative;}#sk-container-id-4 div.sk-item::before, #sk-container-id-4 div.sk-parallel-item::before {content: \"\";position: absolute;border-left: 1px solid gray;box-sizing: border-box;top: 0;bottom: 0;left: 50%;z-index: -1;}#sk-container-id-4 div.sk-parallel-item {display: flex;flex-direction: column;z-index: 1;position: relative;background-color: white;}#sk-container-id-4 div.sk-parallel-item:first-child::after {align-self: flex-end;width: 50%;}#sk-container-id-4 div.sk-parallel-item:last-child::after {align-self: flex-start;width: 50%;}#sk-container-id-4 div.sk-parallel-item:only-child::after {width: 0;}#sk-container-id-4 div.sk-dashed-wrapped {border: 1px dashed gray;margin: 0 0.4em 0.5em 0.4em;box-sizing: border-box;padding-bottom: 0.4em;background-color: white;}#sk-container-id-4 div.sk-label label {font-family: monospace;font-weight: bold;display: inline-block;line-height: 1.2em;}#sk-container-id-4 div.sk-label-container {text-align: center;}#sk-container-id-4 div.sk-container {/* jupyter's `normalize.less` sets `[hidden] { display: none; }` but bootstrap.min.css set `[hidden] { display: none !important; }` so we also need the `!important` here to be able to override the default hidden behavior on the sphinx rendered scikit-learn.org. See: https://github.com/scikit-learn/scikit-learn/issues/21755 */display: inline-block !important;position: relative;}#sk-container-id-4 div.sk-text-repr-fallback {display: none;}</style><div id=\"sk-container-id-4\" class=\"sk-top-container\"><div class=\"sk-text-repr-fallback\"><pre>OptunaSearchCV(cv=5, estimator=RandomForestClassifier(random_state=42),\n",
              "               n_jobs=1, n_trials=50,\n",
              "               param_distributions={&#x27;max_depth&#x27;: IntDistribution(high=50, log=False, low=2, step=1),\n",
              "                                    &#x27;min_samples_leaf&#x27;: IntDistribution(high=10, log=False, low=1, step=1),\n",
              "                                    &#x27;min_samples_split&#x27;: IntDistribution(high=10, log=False, low=2, step=1),\n",
              "                                    &#x27;n_estimators&#x27;: IntDistribution(high=1000, log=False, low=100, step=1)},\n",
              "               scoring=&#x27;accuracy&#x27;)</pre><b>In a Jupyter environment, please rerun this cell to show the HTML representation or trust the notebook. <br />On GitHub, the HTML representation is unable to render, please try loading this page with nbviewer.org.</b></div><div class=\"sk-container\" hidden><div class=\"sk-item sk-dashed-wrapped\"><div class=\"sk-label-container\"><div class=\"sk-label sk-toggleable\"><input class=\"sk-toggleable__control sk-hidden--visually\" id=\"sk-estimator-id-10\" type=\"checkbox\" ><label for=\"sk-estimator-id-10\" class=\"sk-toggleable__label sk-toggleable__label-arrow\">OptunaSearchCV</label><div class=\"sk-toggleable__content\"><pre>OptunaSearchCV(cv=5, estimator=RandomForestClassifier(random_state=42),\n",
              "               n_jobs=1, n_trials=50,\n",
              "               param_distributions={&#x27;max_depth&#x27;: IntDistribution(high=50, log=False, low=2, step=1),\n",
              "                                    &#x27;min_samples_leaf&#x27;: IntDistribution(high=10, log=False, low=1, step=1),\n",
              "                                    &#x27;min_samples_split&#x27;: IntDistribution(high=10, log=False, low=2, step=1),\n",
              "                                    &#x27;n_estimators&#x27;: IntDistribution(high=1000, log=False, low=100, step=1)},\n",
              "               scoring=&#x27;accuracy&#x27;)</pre></div></div></div><div class=\"sk-parallel\"><div class=\"sk-parallel-item\"><div class=\"sk-item\"><div class=\"sk-label-container\"><div class=\"sk-label sk-toggleable\"><input class=\"sk-toggleable__control sk-hidden--visually\" id=\"sk-estimator-id-11\" type=\"checkbox\" ><label for=\"sk-estimator-id-11\" class=\"sk-toggleable__label sk-toggleable__label-arrow\">estimator: RandomForestClassifier</label><div class=\"sk-toggleable__content\"><pre>RandomForestClassifier(random_state=42)</pre></div></div></div><div class=\"sk-serial\"><div class=\"sk-item\"><div class=\"sk-estimator sk-toggleable\"><input class=\"sk-toggleable__control sk-hidden--visually\" id=\"sk-estimator-id-12\" type=\"checkbox\" ><label for=\"sk-estimator-id-12\" class=\"sk-toggleable__label sk-toggleable__label-arrow\">RandomForestClassifier</label><div class=\"sk-toggleable__content\"><pre>RandomForestClassifier(random_state=42)</pre></div></div></div></div></div></div></div></div></div></div>"
            ],
            "text/plain": [
              "OptunaSearchCV(cv=5, estimator=RandomForestClassifier(random_state=42),\n",
              "               n_jobs=1, n_trials=50,\n",
              "               param_distributions={'max_depth': IntDistribution(high=50, log=False, low=2, step=1),\n",
              "                                    'min_samples_leaf': IntDistribution(high=10, log=False, low=1, step=1),\n",
              "                                    'min_samples_split': IntDistribution(high=10, log=False, low=2, step=1),\n",
              "                                    'n_estimators': IntDistribution(high=1000, log=False, low=100, step=1)},\n",
              "               scoring='accuracy')"
            ]
          },
          "execution_count": 114,
          "metadata": {},
          "output_type": "execute_result"
        }
      ],
      "source": [
        "opt_search.fit(X_train_maccs, y_train_clf)"
      ]
    },
    {
      "cell_type": "code",
      "execution_count": 115,
      "metadata": {
        "colab": {
          "base_uri": "https://localhost:8080/"
        },
        "id": "gf_8v9XnHvhb",
        "outputId": "1052d8f7-3f49-46dc-b27d-243372bfd535"
      },
      "outputs": [
        {
          "name": "stdout",
          "output_type": "stream",
          "text": [
            "Best hyperparameters: {'n_estimators': 519, 'max_depth': 31, 'min_samples_split': 4, 'min_samples_leaf': 1}\n",
            "Best accuracy: 0.8020534242409691\n"
          ]
        }
      ],
      "source": [
        "print('Best hyperparameters:', opt_search.best_params_)\n",
        "print('Best accuracy:', opt_search.best_score_)"
      ]
    },
    {
      "cell_type": "code",
      "execution_count": 160,
      "metadata": {
        "colab": {
          "base_uri": "https://localhost:8080/"
        },
        "id": "T87fJeGPHqWv",
        "outputId": "7c5bba7d-182a-4455-af28-d7ef5590fa39"
      },
      "outputs": [
        {
          "name": "stdout",
          "output_type": "stream",
          "text": [
            "train accuracy 0.9604072398190046\n",
            "train F1 0.9592074592074592\n",
            "test accuracy 0.8216704288939052\n",
            "test f1 0.8293736501079915\n"
          ]
        }
      ],
      "source": [
        "best_params = {'n_estimators': 519, 'max_depth': 31, 'min_samples_split': 4, 'min_samples_leaf': 1}\n",
        "model = RandomForestClassifier(random_state=42, **best_params)\n",
        "model.fit(X_train_maccs, y_train_clf)\n",
        "y_pred_test = model.predict(X_test_maccs)\n",
        "y_pred_train = model.predict(X_train_maccs)\n",
        "print('train accuracy', accuracy_score(y_train_clf, y_pred_train))\n",
        "print('train F1', f1_score(y_train_clf, y_pred_train))\n",
        "print('test accuracy', accuracy_score(y_test_clf, y_pred_test))\n",
        "print('test f1', f1_score(y_test_clf, y_pred_test))"
      ]
    },
    {
      "cell_type": "markdown",
      "metadata": {
        "id": "ELsngrQGJD2w"
      },
      "source": [
        "# Extra Trees Classifier (final model)"
      ]
    },
    {
      "cell_type": "code",
      "execution_count": 154,
      "metadata": {
        "id": "Q5RmjW1QJAGI"
      },
      "outputs": [],
      "source": [
        "from sklearn.ensemble import ExtraTreesClassifier\n",
        "\n",
        "param_distrs = {\n",
        "        \"n_estimators\": optuna.distributions.IntDistribution(100, 1000),\n",
        "        \"max_depth\": optuna.distributions.IntDistribution(2, 50),\n",
        "        \"min_samples_split\": optuna.distributions.IntDistribution(2, 10),\n",
        "        \"min_samples_leaf\": optuna.distributions.IntDistribution(1, 10),\n",
        "        \"criterion\": optuna.distributions.CategoricalDistribution(['gini', 'entropy'])\n",
        "    }\n",
        "et = ExtraTreesClassifier(random_state=42)\n",
        "opt_search = optuna.integration.OptunaSearchCV(et, param_distrs, cv = 5,\n",
        "                                                n_trials=50, scoring='f1')"
      ]
    },
    {
      "cell_type": "code",
      "execution_count": 124,
      "metadata": {
        "colab": {
          "base_uri": "https://localhost:8080/",
          "height": 1000
        },
        "id": "RFLdPRuMJKwn",
        "outputId": "23e5679a-ce24-49b9-92d6-5054a3cf50cb"
      },
      "outputs": [
        {
          "name": "stderr",
          "output_type": "stream",
          "text": [
            "[I 2024-10-01 17:33:17,404] A new study created in memory with name: no-name-97898678-4d76-498e-9b54-bc596a31c189\n",
            "[I 2024-10-01 17:33:23,202] Trial 0 finished with value: 0.7722541819668022 and parameters: {'n_estimators': 413, 'max_depth': 21, 'min_samples_split': 10, 'min_samples_leaf': 7, 'criterion': 'entropy'}. Best is trial 0 with value: 0.7722541819668022.\n",
            "[I 2024-10-01 17:33:35,568] Trial 1 finished with value: 0.7718892912921119 and parameters: {'n_estimators': 1000, 'max_depth': 43, 'min_samples_split': 3, 'min_samples_leaf': 7, 'criterion': 'entropy'}. Best is trial 0 with value: 0.7722541819668022.\n",
            "[I 2024-10-01 17:33:43,777] Trial 2 finished with value: 0.7698136069051686 and parameters: {'n_estimators': 585, 'max_depth': 42, 'min_samples_split': 7, 'min_samples_leaf': 9, 'criterion': 'gini'}. Best is trial 0 with value: 0.7722541819668022.\n",
            "[I 2024-10-01 17:33:52,806] Trial 3 finished with value: 0.7640446945948774 and parameters: {'n_estimators': 747, 'max_depth': 13, 'min_samples_split': 6, 'min_samples_leaf': 9, 'criterion': 'entropy'}. Best is trial 0 with value: 0.7722541819668022.\n",
            "[I 2024-10-01 17:33:56,482] Trial 4 finished with value: 0.7402030857837443 and parameters: {'n_estimators': 280, 'max_depth': 8, 'min_samples_split': 4, 'min_samples_leaf': 6, 'criterion': 'gini'}. Best is trial 0 with value: 0.7722541819668022.\n",
            "[I 2024-10-01 17:34:00,822] Trial 5 finished with value: 0.7733379764686272 and parameters: {'n_estimators': 382, 'max_depth': 30, 'min_samples_split': 9, 'min_samples_leaf': 7, 'criterion': 'gini'}. Best is trial 5 with value: 0.7733379764686272.\n",
            "[I 2024-10-01 17:34:04,024] Trial 6 finished with value: 0.7852747656167437 and parameters: {'n_estimators': 250, 'max_depth': 20, 'min_samples_split': 9, 'min_samples_leaf': 3, 'criterion': 'entropy'}. Best is trial 6 with value: 0.7852747656167437.\n",
            "[I 2024-10-01 17:34:16,086] Trial 7 finished with value: 0.7726933156368676 and parameters: {'n_estimators': 894, 'max_depth': 27, 'min_samples_split': 5, 'min_samples_leaf': 6, 'criterion': 'entropy'}. Best is trial 6 with value: 0.7852747656167437.\n",
            "[I 2024-10-01 17:34:25,517] Trial 8 finished with value: 0.7875055343822583 and parameters: {'n_estimators': 552, 'max_depth': 40, 'min_samples_split': 8, 'min_samples_leaf': 1, 'criterion': 'entropy'}. Best is trial 8 with value: 0.7875055343822583.\n",
            "[I 2024-10-01 17:34:26,978] Trial 9 finished with value: 0.784044714647537 and parameters: {'n_estimators': 116, 'max_depth': 38, 'min_samples_split': 9, 'min_samples_leaf': 3, 'criterion': 'gini'}. Best is trial 8 with value: 0.7875055343822583.\n",
            "[I 2024-10-01 17:34:36,590] Trial 10 finished with value: 0.7932639660926885 and parameters: {'n_estimators': 625, 'max_depth': 50, 'min_samples_split': 7, 'min_samples_leaf': 1, 'criterion': 'entropy'}. Best is trial 10 with value: 0.7932639660926885.\n",
            "[I 2024-10-01 17:34:46,437] Trial 11 finished with value: 0.7918736188999095 and parameters: {'n_estimators': 618, 'max_depth': 50, 'min_samples_split': 7, 'min_samples_leaf': 1, 'criterion': 'entropy'}. Best is trial 10 with value: 0.7932639660926885.\n",
            "[I 2024-10-01 17:34:57,911] Trial 12 finished with value: 0.7909056290162534 and parameters: {'n_estimators': 680, 'max_depth': 50, 'min_samples_split': 6, 'min_samples_leaf': 1, 'criterion': 'entropy'}. Best is trial 10 with value: 0.7932639660926885.\n",
            "[I 2024-10-01 17:35:09,200] Trial 13 finished with value: 0.7830401891094423 and parameters: {'n_estimators': 742, 'max_depth': 49, 'min_samples_split': 7, 'min_samples_leaf': 3, 'criterion': 'entropy'}. Best is trial 10 with value: 0.7932639660926885.\n",
            "[I 2024-10-01 17:35:18,335] Trial 14 finished with value: 0.7893328513425983 and parameters: {'n_estimators': 650, 'max_depth': 34, 'min_samples_split': 2, 'min_samples_leaf': 2, 'criterion': 'entropy'}. Best is trial 10 with value: 0.7932639660926885.\n",
            "[I 2024-10-01 17:35:26,135] Trial 15 finished with value: 0.7762676945162766 and parameters: {'n_estimators': 473, 'max_depth': 50, 'min_samples_split': 7, 'min_samples_leaf': 4, 'criterion': 'entropy'}. Best is trial 10 with value: 0.7932639660926885.\n",
            "[I 2024-10-01 17:35:40,132] Trial 16 finished with value: 0.7876438922566398 and parameters: {'n_estimators': 838, 'max_depth': 45, 'min_samples_split': 5, 'min_samples_leaf': 1, 'criterion': 'entropy'}. Best is trial 10 with value: 0.7932639660926885.\n",
            "[I 2024-10-01 17:35:47,366] Trial 17 finished with value: 0.777862146949912 and parameters: {'n_estimators': 572, 'max_depth': 35, 'min_samples_split': 8, 'min_samples_leaf': 4, 'criterion': 'entropy'}. Best is trial 10 with value: 0.7932639660926885.\n",
            "[I 2024-10-01 17:35:51,363] Trial 18 finished with value: 0.5614744476198454 and parameters: {'n_estimators': 462, 'max_depth': 2, 'min_samples_split': 5, 'min_samples_leaf': 2, 'criterion': 'gini'}. Best is trial 10 with value: 0.7932639660926885.\n",
            "[I 2024-10-01 17:36:02,189] Trial 19 finished with value: 0.7779019656111457 and parameters: {'n_estimators': 816, 'max_depth': 45, 'min_samples_split': 8, 'min_samples_leaf': 5, 'criterion': 'entropy'}. Best is trial 10 with value: 0.7932639660926885.\n",
            "[I 2024-10-01 17:36:12,626] Trial 20 finished with value: 0.7836170236790851 and parameters: {'n_estimators': 664, 'max_depth': 35, 'min_samples_split': 10, 'min_samples_leaf': 2, 'criterion': 'entropy'}. Best is trial 10 with value: 0.7932639660926885.\n",
            "[I 2024-10-01 17:36:23,931] Trial 21 finished with value: 0.7920798445356635 and parameters: {'n_estimators': 661, 'max_depth': 50, 'min_samples_split': 6, 'min_samples_leaf': 1, 'criterion': 'entropy'}. Best is trial 10 with value: 0.7932639660926885.\n",
            "[I 2024-10-01 17:36:32,861] Trial 22 finished with value: 0.790636515018339 and parameters: {'n_estimators': 618, 'max_depth': 47, 'min_samples_split': 6, 'min_samples_leaf': 1, 'criterion': 'entropy'}. Best is trial 10 with value: 0.7932639660926885.\n",
            "[I 2024-10-01 17:36:41,345] Trial 23 finished with value: 0.7861092846046533 and parameters: {'n_estimators': 503, 'max_depth': 40, 'min_samples_split': 7, 'min_samples_leaf': 2, 'criterion': 'entropy'}. Best is trial 10 with value: 0.7932639660926885.\n",
            "[I 2024-10-01 17:36:51,001] Trial 24 finished with value: 0.7770627827027463 and parameters: {'n_estimators': 722, 'max_depth': 46, 'min_samples_split': 6, 'min_samples_leaf': 4, 'criterion': 'entropy'}. Best is trial 10 with value: 0.7932639660926885.\n",
            "[I 2024-10-01 17:37:03,871] Trial 25 finished with value: 0.7873908301466492 and parameters: {'n_estimators': 809, 'max_depth': 44, 'min_samples_split': 5, 'min_samples_leaf': 1, 'criterion': 'entropy'}. Best is trial 10 with value: 0.7932639660926885.\n",
            "[I 2024-10-01 17:37:11,050] Trial 26 finished with value: 0.7633330213283552 and parameters: {'n_estimators': 517, 'max_depth': 50, 'min_samples_split': 4, 'min_samples_leaf': 10, 'criterion': 'gini'}. Best is trial 10 with value: 0.7932639660926885.\n",
            "[I 2024-10-01 17:37:16,148] Trial 27 finished with value: 0.7834985226863156 and parameters: {'n_estimators': 376, 'max_depth': 38, 'min_samples_split': 8, 'min_samples_leaf': 2, 'criterion': 'entropy'}. Best is trial 10 with value: 0.7932639660926885.\n",
            "[I 2024-10-01 17:37:30,056] Trial 28 finished with value: 0.782342036871235 and parameters: {'n_estimators': 945, 'max_depth': 31, 'min_samples_split': 7, 'min_samples_leaf': 3, 'criterion': 'entropy'}. Best is trial 10 with value: 0.7932639660926885.\n",
            "[I 2024-10-01 17:37:40,206] Trial 29 finished with value: 0.7915276553505383 and parameters: {'n_estimators': 606, 'max_depth': 16, 'min_samples_split': 4, 'min_samples_leaf': 1, 'criterion': 'entropy'}. Best is trial 10 with value: 0.7932639660926885.\n",
            "[I 2024-10-01 17:37:45,460] Trial 30 finished with value: 0.7796864886516618 and parameters: {'n_estimators': 432, 'max_depth': 47, 'min_samples_split': 10, 'min_samples_leaf': 5, 'criterion': 'entropy'}. Best is trial 10 with value: 0.7932639660926885.\n",
            "[I 2024-10-01 17:37:56,243] Trial 31 finished with value: 0.7889088812075213 and parameters: {'n_estimators': 610, 'max_depth': 19, 'min_samples_split': 4, 'min_samples_leaf': 1, 'criterion': 'entropy'}. Best is trial 10 with value: 0.7932639660926885.\n",
            "[I 2024-10-01 17:38:07,218] Trial 32 finished with value: 0.7858217794861113 and parameters: {'n_estimators': 697, 'max_depth': 15, 'min_samples_split': 3, 'min_samples_leaf': 2, 'criterion': 'entropy'}. Best is trial 10 with value: 0.7932639660926885.\n",
            "[I 2024-10-01 17:38:16,309] Trial 33 finished with value: 0.7830973551958819 and parameters: {'n_estimators': 538, 'max_depth': 22, 'min_samples_split': 2, 'min_samples_leaf': 1, 'criterion': 'entropy'}. Best is trial 10 with value: 0.7932639660926885.\n",
            "[I 2024-10-01 17:38:27,213] Trial 34 finished with value: 0.7678881844590479 and parameters: {'n_estimators': 778, 'max_depth': 10, 'min_samples_split': 3, 'min_samples_leaf': 2, 'criterion': 'entropy'}. Best is trial 10 with value: 0.7932639660926885.\n",
            "[I 2024-10-01 17:38:36,284] Trial 35 finished with value: 0.7849976978224029 and parameters: {'n_estimators': 612, 'max_depth': 25, 'min_samples_split': 6, 'min_samples_leaf': 3, 'criterion': 'entropy'}. Best is trial 10 with value: 0.7932639660926885.\n",
            "[I 2024-10-01 17:38:43,833] Trial 36 finished with value: 0.7686274244699348 and parameters: {'n_estimators': 645, 'max_depth': 16, 'min_samples_split': 7, 'min_samples_leaf': 8, 'criterion': 'gini'}. Best is trial 10 with value: 0.7932639660926885.\n",
            "[I 2024-10-01 17:38:50,605] Trial 37 finished with value: 0.7028409916460774 and parameters: {'n_estimators': 587, 'max_depth': 6, 'min_samples_split': 4, 'min_samples_leaf': 1, 'criterion': 'entropy'}. Best is trial 10 with value: 0.7932639660926885.\n",
            "[I 2024-10-01 17:39:03,153] Trial 38 finished with value: 0.7892402758666773 and parameters: {'n_estimators': 881, 'max_depth': 23, 'min_samples_split': 5, 'min_samples_leaf': 2, 'criterion': 'gini'}. Best is trial 10 with value: 0.7932639660926885.\n",
            "[I 2024-10-01 17:39:09,442] Trial 39 finished with value: 0.7817839146461915 and parameters: {'n_estimators': 383, 'max_depth': 42, 'min_samples_split': 6, 'min_samples_leaf': 3, 'criterion': 'entropy'}. Best is trial 10 with value: 0.7932639660926885.\n",
            "[I 2024-10-01 17:39:21,078] Trial 40 finished with value: 0.7906430118318359 and parameters: {'n_estimators': 720, 'max_depth': 42, 'min_samples_split': 9, 'min_samples_leaf': 1, 'criterion': 'entropy'}. Best is trial 10 with value: 0.7932639660926885.\n",
            "[I 2024-10-01 17:39:31,198] Trial 41 finished with value: 0.7916012466253163 and parameters: {'n_estimators': 683, 'max_depth': 50, 'min_samples_split': 6, 'min_samples_leaf': 1, 'criterion': 'entropy'}. Best is trial 10 with value: 0.7932639660926885.\n",
            "[I 2024-10-01 17:39:43,735] Trial 42 finished with value: 0.7920995874288494 and parameters: {'n_estimators': 769, 'max_depth': 48, 'min_samples_split': 7, 'min_samples_leaf': 1, 'criterion': 'entropy'}. Best is trial 10 with value: 0.7932639660926885.\n",
            "[I 2024-10-01 17:39:55,453] Trial 43 finished with value: 0.7843691258797119 and parameters: {'n_estimators': 765, 'max_depth': 48, 'min_samples_split': 8, 'min_samples_leaf': 2, 'criterion': 'entropy'}. Best is trial 10 with value: 0.7932639660926885.\n",
            "[I 2024-10-01 17:40:06,620] Trial 44 finished with value: 0.7935143675515491 and parameters: {'n_estimators': 686, 'max_depth': 44, 'min_samples_split': 7, 'min_samples_leaf': 1, 'criterion': 'entropy'}. Best is trial 44 with value: 0.7935143675515491.\n",
            "[I 2024-10-01 17:40:16,708] Trial 45 finished with value: 0.7705048281613521 and parameters: {'n_estimators': 866, 'max_depth': 44, 'min_samples_split': 7, 'min_samples_leaf': 8, 'criterion': 'entropy'}. Best is trial 44 with value: 0.7935143675515491.\n",
            "[I 2024-10-01 17:40:30,870] Trial 46 finished with value: 0.7888024283947943 and parameters: {'n_estimators': 943, 'max_depth': 47, 'min_samples_split': 8, 'min_samples_leaf': 1, 'criterion': 'gini'}. Best is trial 44 with value: 0.7935143675515491.\n",
            "[I 2024-10-01 17:40:43,045] Trial 47 finished with value: 0.7890861582065485 and parameters: {'n_estimators': 780, 'max_depth': 40, 'min_samples_split': 7, 'min_samples_leaf': 2, 'criterion': 'entropy'}. Best is trial 44 with value: 0.7935143675515491.\n",
            "[I 2024-10-01 17:40:53,784] Trial 48 finished with value: 0.7834739106718616 and parameters: {'n_estimators': 711, 'max_depth': 48, 'min_samples_split': 7, 'min_samples_leaf': 3, 'criterion': 'entropy'}. Best is trial 44 with value: 0.7935143675515491.\n",
            "[I 2024-10-01 17:41:01,938] Trial 49 finished with value: 0.7903825496154397 and parameters: {'n_estimators': 558, 'max_depth': 43, 'min_samples_split': 6, 'min_samples_leaf': 1, 'criterion': 'entropy'}. Best is trial 44 with value: 0.7935143675515491.\n"
          ]
        },
        {
          "data": {
            "text/html": [
              "<style>#sk-container-id-5 {color: black;background-color: white;}#sk-container-id-5 pre{padding: 0;}#sk-container-id-5 div.sk-toggleable {background-color: white;}#sk-container-id-5 label.sk-toggleable__label {cursor: pointer;display: block;width: 100%;margin-bottom: 0;padding: 0.3em;box-sizing: border-box;text-align: center;}#sk-container-id-5 label.sk-toggleable__label-arrow:before {content: \"▸\";float: left;margin-right: 0.25em;color: #696969;}#sk-container-id-5 label.sk-toggleable__label-arrow:hover:before {color: black;}#sk-container-id-5 div.sk-estimator:hover label.sk-toggleable__label-arrow:before {color: black;}#sk-container-id-5 div.sk-toggleable__content {max-height: 0;max-width: 0;overflow: hidden;text-align: left;background-color: #f0f8ff;}#sk-container-id-5 div.sk-toggleable__content pre {margin: 0.2em;color: black;border-radius: 0.25em;background-color: #f0f8ff;}#sk-container-id-5 input.sk-toggleable__control:checked~div.sk-toggleable__content {max-height: 200px;max-width: 100%;overflow: auto;}#sk-container-id-5 input.sk-toggleable__control:checked~label.sk-toggleable__label-arrow:before {content: \"▾\";}#sk-container-id-5 div.sk-estimator input.sk-toggleable__control:checked~label.sk-toggleable__label {background-color: #d4ebff;}#sk-container-id-5 div.sk-label input.sk-toggleable__control:checked~label.sk-toggleable__label {background-color: #d4ebff;}#sk-container-id-5 input.sk-hidden--visually {border: 0;clip: rect(1px 1px 1px 1px);clip: rect(1px, 1px, 1px, 1px);height: 1px;margin: -1px;overflow: hidden;padding: 0;position: absolute;width: 1px;}#sk-container-id-5 div.sk-estimator {font-family: monospace;background-color: #f0f8ff;border: 1px dotted black;border-radius: 0.25em;box-sizing: border-box;margin-bottom: 0.5em;}#sk-container-id-5 div.sk-estimator:hover {background-color: #d4ebff;}#sk-container-id-5 div.sk-parallel-item::after {content: \"\";width: 100%;border-bottom: 1px solid gray;flex-grow: 1;}#sk-container-id-5 div.sk-label:hover label.sk-toggleable__label {background-color: #d4ebff;}#sk-container-id-5 div.sk-serial::before {content: \"\";position: absolute;border-left: 1px solid gray;box-sizing: border-box;top: 0;bottom: 0;left: 50%;z-index: 0;}#sk-container-id-5 div.sk-serial {display: flex;flex-direction: column;align-items: center;background-color: white;padding-right: 0.2em;padding-left: 0.2em;position: relative;}#sk-container-id-5 div.sk-item {position: relative;z-index: 1;}#sk-container-id-5 div.sk-parallel {display: flex;align-items: stretch;justify-content: center;background-color: white;position: relative;}#sk-container-id-5 div.sk-item::before, #sk-container-id-5 div.sk-parallel-item::before {content: \"\";position: absolute;border-left: 1px solid gray;box-sizing: border-box;top: 0;bottom: 0;left: 50%;z-index: -1;}#sk-container-id-5 div.sk-parallel-item {display: flex;flex-direction: column;z-index: 1;position: relative;background-color: white;}#sk-container-id-5 div.sk-parallel-item:first-child::after {align-self: flex-end;width: 50%;}#sk-container-id-5 div.sk-parallel-item:last-child::after {align-self: flex-start;width: 50%;}#sk-container-id-5 div.sk-parallel-item:only-child::after {width: 0;}#sk-container-id-5 div.sk-dashed-wrapped {border: 1px dashed gray;margin: 0 0.4em 0.5em 0.4em;box-sizing: border-box;padding-bottom: 0.4em;background-color: white;}#sk-container-id-5 div.sk-label label {font-family: monospace;font-weight: bold;display: inline-block;line-height: 1.2em;}#sk-container-id-5 div.sk-label-container {text-align: center;}#sk-container-id-5 div.sk-container {/* jupyter's `normalize.less` sets `[hidden] { display: none; }` but bootstrap.min.css set `[hidden] { display: none !important; }` so we also need the `!important` here to be able to override the default hidden behavior on the sphinx rendered scikit-learn.org. See: https://github.com/scikit-learn/scikit-learn/issues/21755 */display: inline-block !important;position: relative;}#sk-container-id-5 div.sk-text-repr-fallback {display: none;}</style><div id=\"sk-container-id-5\" class=\"sk-top-container\"><div class=\"sk-text-repr-fallback\"><pre>OptunaSearchCV(cv=5, estimator=ExtraTreesClassifier(random_state=42), n_jobs=1,\n",
              "               n_trials=50,\n",
              "               param_distributions={&#x27;criterion&#x27;: CategoricalDistribution(choices=(&#x27;gini&#x27;, &#x27;entropy&#x27;)),\n",
              "                                    &#x27;max_depth&#x27;: IntDistribution(high=50, log=False, low=2, step=1),\n",
              "                                    &#x27;min_samples_leaf&#x27;: IntDistribution(high=10, log=False, low=1, step=1),\n",
              "                                    &#x27;min_samples_split&#x27;: IntDistribution(high=10, log=False, low=2, step=1),\n",
              "                                    &#x27;n_estimators&#x27;: IntDistribution(high=1000, log=False, low=100, step=1)},\n",
              "               scoring=&#x27;f1&#x27;)</pre><b>In a Jupyter environment, please rerun this cell to show the HTML representation or trust the notebook. <br />On GitHub, the HTML representation is unable to render, please try loading this page with nbviewer.org.</b></div><div class=\"sk-container\" hidden><div class=\"sk-item sk-dashed-wrapped\"><div class=\"sk-label-container\"><div class=\"sk-label sk-toggleable\"><input class=\"sk-toggleable__control sk-hidden--visually\" id=\"sk-estimator-id-13\" type=\"checkbox\" ><label for=\"sk-estimator-id-13\" class=\"sk-toggleable__label sk-toggleable__label-arrow\">OptunaSearchCV</label><div class=\"sk-toggleable__content\"><pre>OptunaSearchCV(cv=5, estimator=ExtraTreesClassifier(random_state=42), n_jobs=1,\n",
              "               n_trials=50,\n",
              "               param_distributions={&#x27;criterion&#x27;: CategoricalDistribution(choices=(&#x27;gini&#x27;, &#x27;entropy&#x27;)),\n",
              "                                    &#x27;max_depth&#x27;: IntDistribution(high=50, log=False, low=2, step=1),\n",
              "                                    &#x27;min_samples_leaf&#x27;: IntDistribution(high=10, log=False, low=1, step=1),\n",
              "                                    &#x27;min_samples_split&#x27;: IntDistribution(high=10, log=False, low=2, step=1),\n",
              "                                    &#x27;n_estimators&#x27;: IntDistribution(high=1000, log=False, low=100, step=1)},\n",
              "               scoring=&#x27;f1&#x27;)</pre></div></div></div><div class=\"sk-parallel\"><div class=\"sk-parallel-item\"><div class=\"sk-item\"><div class=\"sk-label-container\"><div class=\"sk-label sk-toggleable\"><input class=\"sk-toggleable__control sk-hidden--visually\" id=\"sk-estimator-id-14\" type=\"checkbox\" ><label for=\"sk-estimator-id-14\" class=\"sk-toggleable__label sk-toggleable__label-arrow\">estimator: ExtraTreesClassifier</label><div class=\"sk-toggleable__content\"><pre>ExtraTreesClassifier(random_state=42)</pre></div></div></div><div class=\"sk-serial\"><div class=\"sk-item\"><div class=\"sk-estimator sk-toggleable\"><input class=\"sk-toggleable__control sk-hidden--visually\" id=\"sk-estimator-id-15\" type=\"checkbox\" ><label for=\"sk-estimator-id-15\" class=\"sk-toggleable__label sk-toggleable__label-arrow\">ExtraTreesClassifier</label><div class=\"sk-toggleable__content\"><pre>ExtraTreesClassifier(random_state=42)</pre></div></div></div></div></div></div></div></div></div></div>"
            ],
            "text/plain": [
              "OptunaSearchCV(cv=5, estimator=ExtraTreesClassifier(random_state=42), n_jobs=1,\n",
              "               n_trials=50,\n",
              "               param_distributions={'criterion': CategoricalDistribution(choices=('gini', 'entropy')),\n",
              "                                    'max_depth': IntDistribution(high=50, log=False, low=2, step=1),\n",
              "                                    'min_samples_leaf': IntDistribution(high=10, log=False, low=1, step=1),\n",
              "                                    'min_samples_split': IntDistribution(high=10, log=False, low=2, step=1),\n",
              "                                    'n_estimators': IntDistribution(high=1000, log=False, low=100, step=1)},\n",
              "               scoring='f1')"
            ]
          },
          "execution_count": 124,
          "metadata": {},
          "output_type": "execute_result"
        }
      ],
      "source": [
        "opt_search.fit(X_train_maccs, y_train_clf)"
      ]
    },
    {
      "cell_type": "code",
      "execution_count": 125,
      "metadata": {
        "colab": {
          "base_uri": "https://localhost:8080/"
        },
        "id": "HlfafzmDK-9y",
        "outputId": "e50cbc97-7473-46db-d4df-3ac62373c569"
      },
      "outputs": [
        {
          "name": "stdout",
          "output_type": "stream",
          "text": [
            "Best hyperparameters: {'n_estimators': 686, 'max_depth': 44, 'min_samples_split': 7, 'min_samples_leaf': 1, 'criterion': 'entropy'}\n",
            "Best accuracy: 0.7935143675515491\n"
          ]
        }
      ],
      "source": [
        "print('Best hyperparameters:', opt_search.best_params_)\n",
        "print('Best accuracy:', opt_search.best_score_)"
      ]
    },
    {
      "cell_type": "code",
      "execution_count": 208,
      "metadata": {
        "colab": {
          "base_uri": "https://localhost:8080/"
        },
        "id": "NnXl2AwfLAQa",
        "outputId": "57f3bc72-13f1-45bf-b0f1-c7c7792ae9a3"
      },
      "outputs": [
        {
          "name": "stdout",
          "output_type": "stream",
          "text": [
            "train accuracy 0.9417420814479638\n",
            "train F1 0.9399416909620992\n",
            "test accuracy 0.8216704288939052\n",
            "test f1 0.8293736501079915\n",
            "test precision 0.8458149779735683\n"
          ]
        }
      ],
      "source": [
        "best_params = {'n_estimators': 376, 'max_depth': 38, 'min_samples_split': 8, 'min_samples_leaf': 2, 'criterion': 'entropy'} # {'n_estimators': 376, 'max_depth': 38, 'min_samples_split': 8, 'min_samples_leaf': 2, 'criterion': 'entropy'}\n",
        "model = ExtraTreesClassifier(**best_params, random_state=42)\n",
        "model.fit(X_train_maccs, y_train_clf)\n",
        "y_pred_test = model.predict(X_test_maccs)\n",
        "y_pred_train = model.predict(X_train_maccs)\n",
        "print('train accuracy', accuracy_score(y_train_clf, y_pred_train))\n",
        "print('train F1', f1_score(y_train_clf, y_pred_train))\n",
        "print('test accuracy', accuracy_score(y_test_clf, y_pred_test))\n",
        "print('test f1', f1_score(y_test_clf, y_pred_test))\n",
        "print('test precision', precision_score(y_test_clf, y_pred_test))"
      ]
    },
    {
      "cell_type": "code",
      "execution_count": 215,
      "metadata": {
        "id": "TwUgAtJCv4Ym"
      },
      "outputs": [],
      "source": [
        "import pickle"
      ]
    },
    {
      "cell_type": "code",
      "execution_count": 222,
      "metadata": {
        "id": "gF_U1zdvy50Z"
      },
      "outputs": [],
      "source": [
        "with open('alzheimer_clf.pkl', 'wb') as f:\n",
        "    pickle.dump(model, f)"
      ]
    },
    {
      "cell_type": "markdown",
      "metadata": {
        "id": "Cb1keeA3mdT8"
      },
      "source": [
        "### Feature importance"
      ]
    },
    {
      "cell_type": "code",
      "execution_count": 162,
      "metadata": {
        "id": "dzsSboxqjaKQ"
      },
      "outputs": [],
      "source": [
        "importances = model.feature_importances_"
      ]
    },
    {
      "cell_type": "code",
      "execution_count": 165,
      "metadata": {
        "id": "k9vtPvKCm-fw"
      },
      "outputs": [],
      "source": [
        "feature_names = [f'bit{i}' for i in range(X_train_maccs.shape[1])]\n",
        "df = pd.DataFrame(X_train_maccs, columns=feature_names)"
      ]
    },
    {
      "cell_type": "code",
      "execution_count": 167,
      "metadata": {
        "id": "Ob8-948XmhMe"
      },
      "outputs": [],
      "source": [
        "importance_df = pd.DataFrame({'Feature': df.columns, 'Importance': importances})\n",
        "importance_df = importance_df.sort_values(by='Importance', ascending=False)"
      ]
    },
    {
      "cell_type": "code",
      "execution_count": 168,
      "metadata": {
        "colab": {
          "base_uri": "https://localhost:8080/"
        },
        "id": "XR7ShLYTnP9U",
        "outputId": "d0def9fc-0934-40b0-d84d-2e62dfc79543"
      },
      "outputs": [
        {
          "name": "stdout",
          "output_type": "stream",
          "text": [
            "    Feature  Importance\n",
            "144  bit144        0.02\n",
            "62    bit62        0.02\n",
            "97    bit97        0.02\n",
            "65    bit65        0.02\n",
            "36    bit36        0.01\n",
            "..      ...         ...\n",
            "15    bit15        0.00\n",
            "20    bit20        0.00\n",
            "30    bit30        0.00\n",
            "31    bit31        0.00\n",
            "0      bit0        0.00\n",
            "\n",
            "[167 rows x 2 columns]\n"
          ]
        }
      ],
      "source": [
        "print(importance_df)"
      ]
    },
    {
      "cell_type": "code",
      "execution_count": 196,
      "metadata": {
        "id": "OLkXAST9na0K"
      },
      "outputs": [],
      "source": [
        "filtered_importance_df = importance_df[importance_df['Importance'] > 0.01].sort_values(by='Importance', ascending=False)"
      ]
    },
    {
      "cell_type": "code",
      "execution_count": 197,
      "metadata": {
        "colab": {
          "base_uri": "https://localhost:8080/"
        },
        "id": "E4oIYo4ZncbZ",
        "outputId": "774b8701-d6d2-47f0-dfcb-fe0d77ec77e9"
      },
      "outputs": [
        {
          "data": {
            "text/plain": [
              "Index([144,  62,  97,  65,  36, 105, 101, 142,  83, 150,  79,  96,  80, 155,\n",
              "        90,  57, 136,  38, 131, 147,  50,  92,  91,  81,  93, 159, 152, 145,\n",
              "       134,  87, 160, 146],\n",
              "      dtype='int64')"
            ]
          },
          "execution_count": 197,
          "metadata": {},
          "output_type": "execute_result"
        }
      ],
      "source": [
        "filtered_importance_df.index"
      ]
    },
    {
      "cell_type": "code",
      "execution_count": 181,
      "metadata": {
        "id": "ty1JEIFCpU7q"
      },
      "outputs": [],
      "source": [
        "X_train_maccs = pd.DataFrame(X_train_maccs)"
      ]
    },
    {
      "cell_type": "code",
      "execution_count": 187,
      "metadata": {
        "id": "dtR2YenqpwM7"
      },
      "outputs": [],
      "source": [
        "X_train_maccs_reduced = df.iloc[:, [44, 62, 97,  65,  36, 105, 101, 142,  83, 150,  79,  96,  80, 155, 90,  57, 136,  38, 131, 147,  50,  92,  91,  81,  93, 159, 152, 145, 134,  87, 160, 146]]"
      ]
    },
    {
      "cell_type": "code",
      "execution_count": 189,
      "metadata": {
        "id": "PN5tdb5SqOnT"
      },
      "outputs": [],
      "source": [
        "X_test_maccs_reduced = pd.DataFrame(X_test_maccs).iloc[:, [44, 62, 97,  65,  36, 105, 101, 142,  83, 150,  79,  96,  80, 155, 90,  57, 136,  38, 131, 147,  50,  92,  91,  81,  93, 159, 152, 145, 134,  87, 160, 146]]"
      ]
    },
    {
      "cell_type": "code",
      "execution_count": 193,
      "metadata": {
        "colab": {
          "base_uri": "https://localhost:8080/"
        },
        "id": "QqUgXOTJqZ9R",
        "outputId": "d130090a-aebd-44db-8d32-836ca37c49ba"
      },
      "outputs": [
        {
          "name": "stdout",
          "output_type": "stream",
          "text": [
            "train accuracy 0.9377828054298643\n",
            "train F1 0.9358226371061844\n",
            "test accuracy 0.7697516930022573\n",
            "test f1 0.7811158798283262\n",
            "test precision 0.7913043478260869\n"
          ]
        }
      ],
      "source": [
        "best_params = {'n_estimators': 686, 'max_depth': 44, 'min_samples_split': 7, 'min_samples_leaf': 1, 'criterion': 'entropy'}\n",
        "model2 = ExtraTreesClassifier(**best_params, random_state=42)\n",
        "model2.fit(X_train_maccs_reduced, y_train_clf)\n",
        "y_pred_test = model2.predict(X_test_maccs_reduced)\n",
        "y_pred_train = model2.predict(X_train_maccs_reduced)\n",
        "print('train accuracy', accuracy_score(y_train_clf, y_pred_train))\n",
        "print('train F1', f1_score(y_train_clf, y_pred_train))\n",
        "print('test accuracy', accuracy_score(y_test_clf, y_pred_test))\n",
        "print('test f1', f1_score(y_test_clf, y_pred_test))\n",
        "print('test precision', precision_score(y_test_clf, y_pred_test))"
      ]
    }
  ],
  "metadata": {
    "colab": {
      "provenance": []
    },
    "kernelspec": {
      "display_name": "Python 3",
      "name": "python3"
    },
    "language_info": {
      "name": "python"
    }
  },
  "nbformat": 4,
  "nbformat_minor": 0
}
