{
  "cells": [
    {
      "cell_type": "code",
      "execution_count": null,
      "id": "initial_id",
      "metadata": {
        "collapsed": true,
        "ExecuteTime": {
          "end_time": "2024-09-19T14:03:13.562260Z",
          "start_time": "2024-09-19T14:03:10.372787Z"
        },
        "id": "initial_id"
      },
      "outputs": [],
      "source": [
        "%load_ext autoreload\n",
        "%autoreload 2\n",
        "%reload_ext autoreload\n",
        "import sys\n",
        "\n",
        "import pandas as pd\n",
        "from rdkit import Che\n",
        "import os\n",
        "from rdkit.ML.Descriptors import MoleculeDescriptors\n",
        "from rdkit.Chem import Descriptors\n",
        "import numpy as np\n",
        "from sklearn.model_selection import train_test_split\n",
        "from sklearn.feature_selection import mutual_info_regression\n",
        "from rdkit.Avalon import pyAvalonTools\n",
        "from tqdm import tqdm\n",
        "\n",
        "from sklearn.metrics import *\n",
        "import matplotlib.pyplot as plt\n",
        "import warnings\n",
        "from rdkit import RDLogger\n",
        "RDLogger.DisableLog('rdApp.*')\n",
        "pd.set_option('display.float_format', '{:.2f}'.format)\n",
        "warnings.filterwarnings('ignore')"
      ]
    },
    {
      "cell_type": "code",
      "execution_count": null,
      "id": "a87806c259c0feb7",
      "metadata": {
        "ExecuteTime": {
          "end_time": "2024-09-19T14:03:15.378373Z",
          "start_time": "2024-09-19T14:03:15.295077Z"
        },
        "id": "a87806c259c0feb7"
      },
      "outputs": [],
      "source": [
        "df_chembl = pd.read_csv(\"Dyslipidemia_CHEMBL1862_Tyrosine-protein_kinase_ABL - 1.csv\")\n",
        "df_chembl = df_chembl[['Smiles', 'Standard Type', 'Standard Value']]\n",
        "df_bdb = pd.read_csv(\"Tyrosine_protein_kinase_ABL_BDB_Tyrosine_protein\")\n",
        "target_for_bdb = 'Ki (nM)'\n",
        "target_for_chembl = 'Ki'\n",
        "df_bdb = df_bdb[['Ligand SMILES', target_for_bdb]]\n",
        "df_chembl = df_chembl.loc[df_chembl['Standard Type'] == target_for_chembl]\n",
        "df_chembl = df_chembl.drop(['Standard Type'], axis=1)"
      ]
    },
    {
      "cell_type": "code",
      "execution_count": null,
      "id": "d0f9a3afb7e6c2cb",
      "metadata": {
        "ExecuteTime": {
          "end_time": "2024-09-19T14:03:17.032602Z",
          "start_time": "2024-09-19T14:03:16.974629Z"
        },
        "id": "d0f9a3afb7e6c2cb"
      },
      "outputs": [],
      "source": [
        "df_bdb = df_bdb.rename(columns={'Ligand SMILES': 'Smiles', target_for_bdb: 'Standard Value'})"
      ]
    },
    {
      "cell_type": "code",
      "execution_count": null,
      "id": "2673a2eb1b8d3166",
      "metadata": {
        "ExecuteTime": {
          "end_time": "2024-09-19T14:03:17.452198Z",
          "start_time": "2024-09-19T14:03:17.422454Z"
        },
        "id": "2673a2eb1b8d3166",
        "outputId": "abbe501a-9b08-404e-edd2-6e081207307f"
      },
      "outputs": [
        {
          "data": {
            "text/plain": "                                                Smiles  Standard Value\n0                                        OB(O)c1ccccc1       470000.00\n1    CC(C)(C)[C@H]1NC(=O)[C@H](CCCCN)NC(=O)CCSCc2cc...            4.20\n2    CO[C@H](C)[C@@H]1NC(=O)[C@@H]2CCCN2C(=O)[C@H](...           10.10\n3    C[C@H]1NC(=O)[C@H](CCCCN)NC(=O)CCSCc2cccc(c2)C...            2.10\n4    COc1ccc(C[C@@H]2NC(=O)[C@H](Cc3cnc[nH]3)NC(=O)...           80.70\n..                                                 ...             ...\n604  COc1ccc(C[C@@H]2NC(=O)[C@@H](NC(=O)[C@@H]3[C@@...            0.01\n605  COc1ccc(C[C@@H]2NC(=O)[C@@H](NC(=O)[C@@H]3[C@@...            0.01\n606  COc1ccc(C[C@@H]2NC(=O)[C@@H](NC(=O)[C@@H]3[C@@...            0.00\n607  COc1ccc(C[C@@H]2NC(=O)[C@@H](NC(=O)[C@@H]3[C@@...            0.00\n608  COc1ccc(C[C@@H]2NC(=O)[C@@H](NC(=O)[C@@H]3[C@@...            0.00\n\n[134 rows x 2 columns]",
            "text/html": "<div>\n<style scoped>\n    .dataframe tbody tr th:only-of-type {\n        vertical-align: middle;\n    }\n\n    .dataframe tbody tr th {\n        vertical-align: top;\n    }\n\n    .dataframe thead th {\n        text-align: right;\n    }\n</style>\n<table border=\"1\" class=\"dataframe\">\n  <thead>\n    <tr style=\"text-align: right;\">\n      <th></th>\n      <th>Smiles</th>\n      <th>Standard Value</th>\n    </tr>\n  </thead>\n  <tbody>\n    <tr>\n      <th>0</th>\n      <td>OB(O)c1ccccc1</td>\n      <td>470000.00</td>\n    </tr>\n    <tr>\n      <th>1</th>\n      <td>CC(C)(C)[C@H]1NC(=O)[C@H](CCCCN)NC(=O)CCSCc2cc...</td>\n      <td>4.20</td>\n    </tr>\n    <tr>\n      <th>2</th>\n      <td>CO[C@H](C)[C@@H]1NC(=O)[C@@H]2CCCN2C(=O)[C@H](...</td>\n      <td>10.10</td>\n    </tr>\n    <tr>\n      <th>3</th>\n      <td>C[C@H]1NC(=O)[C@H](CCCCN)NC(=O)CCSCc2cccc(c2)C...</td>\n      <td>2.10</td>\n    </tr>\n    <tr>\n      <th>4</th>\n      <td>COc1ccc(C[C@@H]2NC(=O)[C@H](Cc3cnc[nH]3)NC(=O)...</td>\n      <td>80.70</td>\n    </tr>\n    <tr>\n      <th>...</th>\n      <td>...</td>\n      <td>...</td>\n    </tr>\n    <tr>\n      <th>604</th>\n      <td>COc1ccc(C[C@@H]2NC(=O)[C@@H](NC(=O)[C@@H]3[C@@...</td>\n      <td>0.01</td>\n    </tr>\n    <tr>\n      <th>605</th>\n      <td>COc1ccc(C[C@@H]2NC(=O)[C@@H](NC(=O)[C@@H]3[C@@...</td>\n      <td>0.01</td>\n    </tr>\n    <tr>\n      <th>606</th>\n      <td>COc1ccc(C[C@@H]2NC(=O)[C@@H](NC(=O)[C@@H]3[C@@...</td>\n      <td>0.00</td>\n    </tr>\n    <tr>\n      <th>607</th>\n      <td>COc1ccc(C[C@@H]2NC(=O)[C@@H](NC(=O)[C@@H]3[C@@...</td>\n      <td>0.00</td>\n    </tr>\n    <tr>\n      <th>608</th>\n      <td>COc1ccc(C[C@@H]2NC(=O)[C@@H](NC(=O)[C@@H]3[C@@...</td>\n      <td>0.00</td>\n    </tr>\n  </tbody>\n</table>\n<p>134 rows × 2 columns</p>\n</div>"
          },
          "execution_count": 4,
          "metadata": {},
          "output_type": "execute_result"
        }
      ],
      "source": [
        "df = pd.concat([df_chembl, df_bdb], ignore_index=True)\n",
        "df['Standard Value'] = df['Standard Value'].replace(to_replace='>', value='', regex=True)\n",
        "df['Standard Value']= df['Standard Value'].replace(to_replace='<', value='', regex=True)\n",
        "df['Standard Value'] = pd.to_numeric(df['Standard Value'])\n",
        "df = df.dropna()\n",
        "df"
      ]
    },
    {
      "cell_type": "code",
      "execution_count": null,
      "outputs": [
        {
          "data": {
            "text/plain": "count   102.00\nmean      2.77\nstd       3.37\nmin       0.00\n25%       0.13\n50%       1.40\n75%       4.20\nmax      11.00\nName: Standard Value, dtype: float64"
          },
          "execution_count": 5,
          "metadata": {},
          "output_type": "execute_result"
        }
      ],
      "source": [
        "q3 = df['Standard Value'].quantile(0.75)\n",
        "df = df[df['Standard Value'] <= q3]\n",
        "df['Standard Value'].describe()"
      ],
      "metadata": {
        "ExecuteTime": {
          "end_time": "2024-09-19T14:03:31.255317Z",
          "start_time": "2024-09-19T14:03:31.192013Z"
        },
        "id": "79c3167997002d08",
        "outputId": "d62c1d94-b9bd-42de-fb5e-630b6f513fc4"
      },
      "id": "79c3167997002d08"
    },
    {
      "cell_type": "code",
      "execution_count": null,
      "id": "d8c7644c78d537ee",
      "metadata": {
        "ExecuteTime": {
          "end_time": "2024-09-19T14:04:23.467316Z",
          "start_time": "2024-09-19T14:04:23.363762Z"
        },
        "id": "d8c7644c78d537ee",
        "outputId": "edd639a3-a7aa-4fc2-908c-d5880d940203"
      },
      "outputs": [
        {
          "data": {
            "text/plain": "                                                Smiles  Standard Value  \\\n1    CC(C)(C)[C@H]1NC(=O)[C@H](CCCCN)NC(=O)CCSCc2cc...            4.20   \n2    CO[C@H](C)[C@@H]1NC(=O)[C@@H]2CCCN2C(=O)[C@H](...           10.10   \n3    C[C@H]1NC(=O)[C@H](CCCCN)NC(=O)CCSCc2cccc(c2)C...            2.10   \n5    C[C@@]12CCCN1C(=O)[C@H](Cc1ccc(O)cc1)NC(=O)[C@...           10.70   \n6    COc1ccc(C[C@@H]2NC(=O)[C@H](Cc3cnc[nH]3)NC(=O)...            3.90   \n..                                                 ...             ...   \n604  COc1ccc(C[C@@H]2NC(=O)[C@@H](NC(=O)[C@@H]3[C@@...            0.01   \n605  COc1ccc(C[C@@H]2NC(=O)[C@@H](NC(=O)[C@@H]3[C@@...            0.01   \n606  COc1ccc(C[C@@H]2NC(=O)[C@@H](NC(=O)[C@@H]3[C@@...            0.00   \n607  COc1ccc(C[C@@H]2NC(=O)[C@@H](NC(=O)[C@@H]3[C@@...            0.00   \n608  COc1ccc(C[C@@H]2NC(=O)[C@@H](NC(=O)[C@@H]3[C@@...            0.00   \n\n                                      Canonical Smiles  \n1    CC(C)(C)[C@H]1NC(=O)[C@H](CCCCN)NC(=O)CCSCc2cc...  \n2    CO[C@H](C)[C@@H]1NC(=O)[C@@H]2CCCN2C(=O)[C@H](...  \n3    C[C@H]1NC(=O)[C@H](CCCCN)NC(=O)CCSCc2cccc(c2)C...  \n5    C[C@@]12CCCN1C(=O)[C@H](Cc1ccc(O)cc1)NC(=O)[C@...  \n6    COc1ccc(C[C@@H]2NC(=O)[C@H](Cc3cnc[nH]3)NC(=O)...  \n..                                                 ...  \n604  COc1ccc(C[C@@H]2NC(=O)[C@H]([C@@H](C)O)NC(=O)[...  \n605  COc1ccc(C[C@@H]2NC(=O)[C@H]([C@@H](C)O)NC(=O)[...  \n606  COc1ccc(C[C@@H]2NC(=O)[C@H]([C@@H](C)O)NC(=O)[...  \n607  COc1ccc(C[C@@H]2NC(=O)[C@H]([C@@H](C)O)NC(=O)[...  \n608  COc1ccc(C[C@@H]2NC(=O)[C@H]([C@H](C)O)NC(=O)[C...  \n\n[102 rows x 3 columns]",
            "text/html": "<div>\n<style scoped>\n    .dataframe tbody tr th:only-of-type {\n        vertical-align: middle;\n    }\n\n    .dataframe tbody tr th {\n        vertical-align: top;\n    }\n\n    .dataframe thead th {\n        text-align: right;\n    }\n</style>\n<table border=\"1\" class=\"dataframe\">\n  <thead>\n    <tr style=\"text-align: right;\">\n      <th></th>\n      <th>Smiles</th>\n      <th>Standard Value</th>\n      <th>Canonical Smiles</th>\n    </tr>\n  </thead>\n  <tbody>\n    <tr>\n      <th>1</th>\n      <td>CC(C)(C)[C@H]1NC(=O)[C@H](CCCCN)NC(=O)CCSCc2cc...</td>\n      <td>4.20</td>\n      <td>CC(C)(C)[C@H]1NC(=O)[C@H](CCCCN)NC(=O)CCSCc2cc...</td>\n    </tr>\n    <tr>\n      <th>2</th>\n      <td>CO[C@H](C)[C@@H]1NC(=O)[C@@H]2CCCN2C(=O)[C@H](...</td>\n      <td>10.10</td>\n      <td>CO[C@H](C)[C@@H]1NC(=O)[C@@H]2CCCN2C(=O)[C@H](...</td>\n    </tr>\n    <tr>\n      <th>3</th>\n      <td>C[C@H]1NC(=O)[C@H](CCCCN)NC(=O)CCSCc2cccc(c2)C...</td>\n      <td>2.10</td>\n      <td>C[C@H]1NC(=O)[C@H](CCCCN)NC(=O)CCSCc2cccc(c2)C...</td>\n    </tr>\n    <tr>\n      <th>5</th>\n      <td>C[C@@]12CCCN1C(=O)[C@H](Cc1ccc(O)cc1)NC(=O)[C@...</td>\n      <td>10.70</td>\n      <td>C[C@@]12CCCN1C(=O)[C@H](Cc1ccc(O)cc1)NC(=O)[C@...</td>\n    </tr>\n    <tr>\n      <th>6</th>\n      <td>COc1ccc(C[C@@H]2NC(=O)[C@H](Cc3cnc[nH]3)NC(=O)...</td>\n      <td>3.90</td>\n      <td>COc1ccc(C[C@@H]2NC(=O)[C@H](Cc3cnc[nH]3)NC(=O)...</td>\n    </tr>\n    <tr>\n      <th>...</th>\n      <td>...</td>\n      <td>...</td>\n      <td>...</td>\n    </tr>\n    <tr>\n      <th>604</th>\n      <td>COc1ccc(C[C@@H]2NC(=O)[C@@H](NC(=O)[C@@H]3[C@@...</td>\n      <td>0.01</td>\n      <td>COc1ccc(C[C@@H]2NC(=O)[C@H]([C@@H](C)O)NC(=O)[...</td>\n    </tr>\n    <tr>\n      <th>605</th>\n      <td>COc1ccc(C[C@@H]2NC(=O)[C@@H](NC(=O)[C@@H]3[C@@...</td>\n      <td>0.01</td>\n      <td>COc1ccc(C[C@@H]2NC(=O)[C@H]([C@@H](C)O)NC(=O)[...</td>\n    </tr>\n    <tr>\n      <th>606</th>\n      <td>COc1ccc(C[C@@H]2NC(=O)[C@@H](NC(=O)[C@@H]3[C@@...</td>\n      <td>0.00</td>\n      <td>COc1ccc(C[C@@H]2NC(=O)[C@H]([C@@H](C)O)NC(=O)[...</td>\n    </tr>\n    <tr>\n      <th>607</th>\n      <td>COc1ccc(C[C@@H]2NC(=O)[C@@H](NC(=O)[C@@H]3[C@@...</td>\n      <td>0.00</td>\n      <td>COc1ccc(C[C@@H]2NC(=O)[C@H]([C@@H](C)O)NC(=O)[...</td>\n    </tr>\n    <tr>\n      <th>608</th>\n      <td>COc1ccc(C[C@@H]2NC(=O)[C@@H](NC(=O)[C@@H]3[C@@...</td>\n      <td>0.00</td>\n      <td>COc1ccc(C[C@@H]2NC(=O)[C@H]([C@H](C)O)NC(=O)[C...</td>\n    </tr>\n  </tbody>\n</table>\n<p>102 rows × 3 columns</p>\n</div>"
          },
          "execution_count": 6,
          "metadata": {},
          "output_type": "execute_result"
        }
      ],
      "source": [
        "def safe_canon_smiles(smiles):\n",
        "    try:\n",
        "        return Chem.CanonSmiles(smiles)\n",
        "    except Exception as e:\n",
        "        print(f\"Bad Smiles: {smiles}\")\n",
        "        return None\n",
        "df['Smiles'] = df['Smiles'].astype('string')\n",
        "df['Canonical Smiles'] = df.Smiles.apply(safe_canon_smiles)\n",
        "df"
      ]
    },
    {
      "cell_type": "code",
      "execution_count": null,
      "id": "ea375a1279a79e79",
      "metadata": {
        "ExecuteTime": {
          "end_time": "2024-09-19T14:04:25.178103Z",
          "start_time": "2024-09-19T14:04:25.065998Z"
        },
        "id": "ea375a1279a79e79",
        "outputId": "9d8f654d-cbdf-4ed8-d8c1-9fe8796a6333"
      },
      "outputs": [
        {
          "data": {
            "text/plain": "     Standard Value                                   Canonical Smiles\n1              4.20  CC(C)(C)[C@H]1NC(=O)[C@H](CCCCN)NC(=O)CCSCc2cc...\n2             10.10  CO[C@H](C)[C@@H]1NC(=O)[C@@H]2CCCN2C(=O)[C@H](...\n3              2.10  C[C@H]1NC(=O)[C@H](CCCCN)NC(=O)CCSCc2cccc(c2)C...\n5             10.70  C[C@@]12CCCN1C(=O)[C@H](Cc1ccc(O)cc1)NC(=O)[C@...\n6              3.90  COc1ccc(C[C@@H]2NC(=O)[C@H](Cc3cnc[nH]3)NC(=O)...\n..              ...                                                ...\n604            0.01  COc1ccc(C[C@@H]2NC(=O)[C@H]([C@@H](C)O)NC(=O)[...\n605            0.01  COc1ccc(C[C@@H]2NC(=O)[C@H]([C@@H](C)O)NC(=O)[...\n606            0.00  COc1ccc(C[C@@H]2NC(=O)[C@H]([C@@H](C)O)NC(=O)[...\n607            0.00  COc1ccc(C[C@@H]2NC(=O)[C@H]([C@@H](C)O)NC(=O)[...\n608            0.00  COc1ccc(C[C@@H]2NC(=O)[C@H]([C@H](C)O)NC(=O)[C...\n\n[102 rows x 2 columns]",
            "text/html": "<div>\n<style scoped>\n    .dataframe tbody tr th:only-of-type {\n        vertical-align: middle;\n    }\n\n    .dataframe tbody tr th {\n        vertical-align: top;\n    }\n\n    .dataframe thead th {\n        text-align: right;\n    }\n</style>\n<table border=\"1\" class=\"dataframe\">\n  <thead>\n    <tr style=\"text-align: right;\">\n      <th></th>\n      <th>Standard Value</th>\n      <th>Canonical Smiles</th>\n    </tr>\n  </thead>\n  <tbody>\n    <tr>\n      <th>1</th>\n      <td>4.20</td>\n      <td>CC(C)(C)[C@H]1NC(=O)[C@H](CCCCN)NC(=O)CCSCc2cc...</td>\n    </tr>\n    <tr>\n      <th>2</th>\n      <td>10.10</td>\n      <td>CO[C@H](C)[C@@H]1NC(=O)[C@@H]2CCCN2C(=O)[C@H](...</td>\n    </tr>\n    <tr>\n      <th>3</th>\n      <td>2.10</td>\n      <td>C[C@H]1NC(=O)[C@H](CCCCN)NC(=O)CCSCc2cccc(c2)C...</td>\n    </tr>\n    <tr>\n      <th>5</th>\n      <td>10.70</td>\n      <td>C[C@@]12CCCN1C(=O)[C@H](Cc1ccc(O)cc1)NC(=O)[C@...</td>\n    </tr>\n    <tr>\n      <th>6</th>\n      <td>3.90</td>\n      <td>COc1ccc(C[C@@H]2NC(=O)[C@H](Cc3cnc[nH]3)NC(=O)...</td>\n    </tr>\n    <tr>\n      <th>...</th>\n      <td>...</td>\n      <td>...</td>\n    </tr>\n    <tr>\n      <th>604</th>\n      <td>0.01</td>\n      <td>COc1ccc(C[C@@H]2NC(=O)[C@H]([C@@H](C)O)NC(=O)[...</td>\n    </tr>\n    <tr>\n      <th>605</th>\n      <td>0.01</td>\n      <td>COc1ccc(C[C@@H]2NC(=O)[C@H]([C@@H](C)O)NC(=O)[...</td>\n    </tr>\n    <tr>\n      <th>606</th>\n      <td>0.00</td>\n      <td>COc1ccc(C[C@@H]2NC(=O)[C@H]([C@@H](C)O)NC(=O)[...</td>\n    </tr>\n    <tr>\n      <th>607</th>\n      <td>0.00</td>\n      <td>COc1ccc(C[C@@H]2NC(=O)[C@H]([C@@H](C)O)NC(=O)[...</td>\n    </tr>\n    <tr>\n      <th>608</th>\n      <td>0.00</td>\n      <td>COc1ccc(C[C@@H]2NC(=O)[C@H]([C@H](C)O)NC(=O)[C...</td>\n    </tr>\n  </tbody>\n</table>\n<p>102 rows × 2 columns</p>\n</div>"
          },
          "execution_count": 7,
          "metadata": {},
          "output_type": "execute_result"
        }
      ],
      "source": [
        "df.replace('None', pd.NA, inplace=True)\n",
        "df.dropna(inplace=True)\n",
        "df.drop(['Smiles'], axis=1, inplace=True)\n",
        "df"
      ]
    },
    {
      "cell_type": "code",
      "execution_count": null,
      "id": "1bd9ee0bae1191da",
      "metadata": {
        "ExecuteTime": {
          "end_time": "2024-09-19T14:04:26.328440Z",
          "start_time": "2024-09-19T14:04:26.239887Z"
        },
        "id": "1bd9ee0bae1191da",
        "outputId": "ce094dc2-b45d-4ff0-81e0-f1c7b1a06cfd"
      },
      "outputs": [
        {
          "name": "stdout",
          "output_type": "stream",
          "text": [
            "66\n"
          ]
        },
        {
          "data": {
            "text/plain": "    Standard Value                                   Canonical Smiles\n1             4.20  CC(C)(C)[C@H]1NC(=O)[C@H](CCCCN)NC(=O)CCSCc2cc...\n2            10.10  CO[C@H](C)[C@@H]1NC(=O)[C@@H]2CCCN2C(=O)[C@H](...\n3             2.10  C[C@H]1NC(=O)[C@H](CCCCN)NC(=O)CCSCc2cccc(c2)C...\n5            10.70  C[C@@]12CCCN1C(=O)[C@H](Cc1ccc(O)cc1)NC(=O)[C@...\n6             3.90  COc1ccc(C[C@@H]2NC(=O)[C@H](Cc3cnc[nH]3)NC(=O)...\n11           11.00  C[C@H]1NC(=O)[C@H](CCCCN)NC(=O)CCSCc2cc(F)cc(c...\n14            1.50  COc1ccc(C[C@@H]2NC(=O)[C@H]([C@@H](C)O)NC(=O)[...\n15           10.60  COc1ccc(C[C@@H]2NC(=O)[C@H]([C@@H](C)OC)NC(=O)...\n17            9.40  COCCOCCOCCOCCC(=O)NCCCC[C@@H]1NC(=O)CCSCc2cccc...\n19            0.00  COc1ccc(C[C@@H]2NC(=O)[C@H]([C@@H](C)O)NC(=O)[...\n20            4.20  COc1ccc(C[C@@H]2NC(=O)[C@H](Cc3cnc[nH]3)NC(=O)...\n21            0.45  COc1ccc(C[C@@H]2NC(=O)[C@H]([C@H](C)OC)NC(=O)[...\n22            0.25  COc1ccc(C[C@@H]2NC(=O)[C@H]([C@@H](C)O)NC(=O)[...\n23            4.20  C[C@H]1NC(=O)[C@H](CCCCN)NC(=O)CCSCc2cccc(c2)C...\n24            1.50  C[C@H]1NC(=O)[C@H](CCCCN)NC(=O)CCSCc2cc(F)cc(c...\n25            2.70  CCC[C@H]1NC(=O)[C@H](CCCCN)NC(=O)CCSCc2cccc(c2...\n28            0.13  COc1ccc(C[C@@H]2NC(=O)[C@H]([C@@H](C)O)NC(=O)[...\n30            2.17  COc1ccc(C[C@@H]2NC(=O)[C@H]([C@@H](C)OC)NC(=O)...\n32            0.13  COc1ccc(C[C@@H]2NC(=O)[C@H]([C@@H](C)O)NC(=O)[...\n35            4.30  C[C@@]12CCCN1C(=O)[C@H](Cc1ccc(O)cc1)NC(=O)[C@...\n37            0.48  COc1ccc(C[C@@H]2NC(=O)[C@H]([C@@H](C)OC)NC(=O)...\n39            0.01  COc1ccc(C[C@@H]2NC(=O)[C@H]([C@H](C)O)NC(=O)[C...\n40            0.04  COc1ccc(C[C@@H]2NC(=O)[C@H]([C@@H](C)O)NC(=O)[...\n42            9.50  COc1ccc(C[C@@H]2NC(=O)[C@H](Cc3cnc[nH]3)NC(=O)...\n43            2.80  COc1ccc(C[C@@H]2NC(=O)[C@H]([C@@H](C)OC)NC(=O)...\n44            8.20  COc1ccc(C[C@@H]2NC(=O)[C@H](Cc3cnc[nH]3)NC(=O)...\n47            0.20  COc1ccc(C[C@@H]2NC(=O)[C@H]([C@@H](C)OC)NC(=O)...\n48            4.00  COc1ccc(C[C@@H]2NC(=O)[C@H]([C@@H](C)O)NC(=O)[...\n52            4.83  COc1ccc(C[C@@H]2NC(=O)[C@H]([C@@H](C)OC)NC(=O)...\n54            0.13  COc1ccc(C[C@@H]2NC(=O)[C@H]([C@@H](C)O)NC(=O)[...\n55            2.25  COc1ccc(C[C@@H]2NC(=O)[C@H]([C@@H](C)OC)NC(=O)...\n56            4.36  COc1ccc(C[C@@H]2NC(=O)[C@H]([C@H](C)OC)NC(=O)[...\n57            1.36  COc1ccc(C[C@@H]2NC(=O)[C@H]([C@@H](C)O)NC(=O)[...\n59            4.66  COc1ccc(C[C@@H]2NC(=O)[C@H]([C@@H](C)O)NC(=O)[...\n66            4.00  C[C@@]12CCCN1C(=O)[C@H](Cc1ccc(O)cc1)NC(=O)[C@...\n67            6.30  CC(C)[C@H]1NC(=O)[C@H](CCCCN)NC(=O)CCSCc2cccc(...",
            "text/html": "<div>\n<style scoped>\n    .dataframe tbody tr th:only-of-type {\n        vertical-align: middle;\n    }\n\n    .dataframe tbody tr th {\n        vertical-align: top;\n    }\n\n    .dataframe thead th {\n        text-align: right;\n    }\n</style>\n<table border=\"1\" class=\"dataframe\">\n  <thead>\n    <tr style=\"text-align: right;\">\n      <th></th>\n      <th>Standard Value</th>\n      <th>Canonical Smiles</th>\n    </tr>\n  </thead>\n  <tbody>\n    <tr>\n      <th>1</th>\n      <td>4.20</td>\n      <td>CC(C)(C)[C@H]1NC(=O)[C@H](CCCCN)NC(=O)CCSCc2cc...</td>\n    </tr>\n    <tr>\n      <th>2</th>\n      <td>10.10</td>\n      <td>CO[C@H](C)[C@@H]1NC(=O)[C@@H]2CCCN2C(=O)[C@H](...</td>\n    </tr>\n    <tr>\n      <th>3</th>\n      <td>2.10</td>\n      <td>C[C@H]1NC(=O)[C@H](CCCCN)NC(=O)CCSCc2cccc(c2)C...</td>\n    </tr>\n    <tr>\n      <th>5</th>\n      <td>10.70</td>\n      <td>C[C@@]12CCCN1C(=O)[C@H](Cc1ccc(O)cc1)NC(=O)[C@...</td>\n    </tr>\n    <tr>\n      <th>6</th>\n      <td>3.90</td>\n      <td>COc1ccc(C[C@@H]2NC(=O)[C@H](Cc3cnc[nH]3)NC(=O)...</td>\n    </tr>\n    <tr>\n      <th>11</th>\n      <td>11.00</td>\n      <td>C[C@H]1NC(=O)[C@H](CCCCN)NC(=O)CCSCc2cc(F)cc(c...</td>\n    </tr>\n    <tr>\n      <th>14</th>\n      <td>1.50</td>\n      <td>COc1ccc(C[C@@H]2NC(=O)[C@H]([C@@H](C)O)NC(=O)[...</td>\n    </tr>\n    <tr>\n      <th>15</th>\n      <td>10.60</td>\n      <td>COc1ccc(C[C@@H]2NC(=O)[C@H]([C@@H](C)OC)NC(=O)...</td>\n    </tr>\n    <tr>\n      <th>17</th>\n      <td>9.40</td>\n      <td>COCCOCCOCCOCCC(=O)NCCCC[C@@H]1NC(=O)CCSCc2cccc...</td>\n    </tr>\n    <tr>\n      <th>19</th>\n      <td>0.00</td>\n      <td>COc1ccc(C[C@@H]2NC(=O)[C@H]([C@@H](C)O)NC(=O)[...</td>\n    </tr>\n    <tr>\n      <th>20</th>\n      <td>4.20</td>\n      <td>COc1ccc(C[C@@H]2NC(=O)[C@H](Cc3cnc[nH]3)NC(=O)...</td>\n    </tr>\n    <tr>\n      <th>21</th>\n      <td>0.45</td>\n      <td>COc1ccc(C[C@@H]2NC(=O)[C@H]([C@H](C)OC)NC(=O)[...</td>\n    </tr>\n    <tr>\n      <th>22</th>\n      <td>0.25</td>\n      <td>COc1ccc(C[C@@H]2NC(=O)[C@H]([C@@H](C)O)NC(=O)[...</td>\n    </tr>\n    <tr>\n      <th>23</th>\n      <td>4.20</td>\n      <td>C[C@H]1NC(=O)[C@H](CCCCN)NC(=O)CCSCc2cccc(c2)C...</td>\n    </tr>\n    <tr>\n      <th>24</th>\n      <td>1.50</td>\n      <td>C[C@H]1NC(=O)[C@H](CCCCN)NC(=O)CCSCc2cc(F)cc(c...</td>\n    </tr>\n    <tr>\n      <th>25</th>\n      <td>2.70</td>\n      <td>CCC[C@H]1NC(=O)[C@H](CCCCN)NC(=O)CCSCc2cccc(c2...</td>\n    </tr>\n    <tr>\n      <th>28</th>\n      <td>0.13</td>\n      <td>COc1ccc(C[C@@H]2NC(=O)[C@H]([C@@H](C)O)NC(=O)[...</td>\n    </tr>\n    <tr>\n      <th>30</th>\n      <td>2.17</td>\n      <td>COc1ccc(C[C@@H]2NC(=O)[C@H]([C@@H](C)OC)NC(=O)...</td>\n    </tr>\n    <tr>\n      <th>32</th>\n      <td>0.13</td>\n      <td>COc1ccc(C[C@@H]2NC(=O)[C@H]([C@@H](C)O)NC(=O)[...</td>\n    </tr>\n    <tr>\n      <th>35</th>\n      <td>4.30</td>\n      <td>C[C@@]12CCCN1C(=O)[C@H](Cc1ccc(O)cc1)NC(=O)[C@...</td>\n    </tr>\n    <tr>\n      <th>37</th>\n      <td>0.48</td>\n      <td>COc1ccc(C[C@@H]2NC(=O)[C@H]([C@@H](C)OC)NC(=O)...</td>\n    </tr>\n    <tr>\n      <th>39</th>\n      <td>0.01</td>\n      <td>COc1ccc(C[C@@H]2NC(=O)[C@H]([C@H](C)O)NC(=O)[C...</td>\n    </tr>\n    <tr>\n      <th>40</th>\n      <td>0.04</td>\n      <td>COc1ccc(C[C@@H]2NC(=O)[C@H]([C@@H](C)O)NC(=O)[...</td>\n    </tr>\n    <tr>\n      <th>42</th>\n      <td>9.50</td>\n      <td>COc1ccc(C[C@@H]2NC(=O)[C@H](Cc3cnc[nH]3)NC(=O)...</td>\n    </tr>\n    <tr>\n      <th>43</th>\n      <td>2.80</td>\n      <td>COc1ccc(C[C@@H]2NC(=O)[C@H]([C@@H](C)OC)NC(=O)...</td>\n    </tr>\n    <tr>\n      <th>44</th>\n      <td>8.20</td>\n      <td>COc1ccc(C[C@@H]2NC(=O)[C@H](Cc3cnc[nH]3)NC(=O)...</td>\n    </tr>\n    <tr>\n      <th>47</th>\n      <td>0.20</td>\n      <td>COc1ccc(C[C@@H]2NC(=O)[C@H]([C@@H](C)OC)NC(=O)...</td>\n    </tr>\n    <tr>\n      <th>48</th>\n      <td>4.00</td>\n      <td>COc1ccc(C[C@@H]2NC(=O)[C@H]([C@@H](C)O)NC(=O)[...</td>\n    </tr>\n    <tr>\n      <th>52</th>\n      <td>4.83</td>\n      <td>COc1ccc(C[C@@H]2NC(=O)[C@H]([C@@H](C)OC)NC(=O)...</td>\n    </tr>\n    <tr>\n      <th>54</th>\n      <td>0.13</td>\n      <td>COc1ccc(C[C@@H]2NC(=O)[C@H]([C@@H](C)O)NC(=O)[...</td>\n    </tr>\n    <tr>\n      <th>55</th>\n      <td>2.25</td>\n      <td>COc1ccc(C[C@@H]2NC(=O)[C@H]([C@@H](C)OC)NC(=O)...</td>\n    </tr>\n    <tr>\n      <th>56</th>\n      <td>4.36</td>\n      <td>COc1ccc(C[C@@H]2NC(=O)[C@H]([C@H](C)OC)NC(=O)[...</td>\n    </tr>\n    <tr>\n      <th>57</th>\n      <td>1.36</td>\n      <td>COc1ccc(C[C@@H]2NC(=O)[C@H]([C@@H](C)O)NC(=O)[...</td>\n    </tr>\n    <tr>\n      <th>59</th>\n      <td>4.66</td>\n      <td>COc1ccc(C[C@@H]2NC(=O)[C@H]([C@@H](C)O)NC(=O)[...</td>\n    </tr>\n    <tr>\n      <th>66</th>\n      <td>4.00</td>\n      <td>C[C@@]12CCCN1C(=O)[C@H](Cc1ccc(O)cc1)NC(=O)[C@...</td>\n    </tr>\n    <tr>\n      <th>67</th>\n      <td>6.30</td>\n      <td>CC(C)[C@H]1NC(=O)[C@H](CCCCN)NC(=O)CCSCc2cccc(...</td>\n    </tr>\n  </tbody>\n</table>\n</div>"
          },
          "execution_count": 8,
          "metadata": {},
          "output_type": "execute_result"
        }
      ],
      "source": [
        "print(df.duplicated(subset='Canonical Smiles').sum())\n",
        "df.drop_duplicates(inplace=True, keep = 'first', subset='Canonical Smiles')\n",
        "df"
      ]
    },
    {
      "cell_type": "code",
      "execution_count": null,
      "id": "ce4cf0ee79d70c87",
      "metadata": {
        "ExecuteTime": {
          "end_time": "2024-09-19T14:04:27.351578Z",
          "start_time": "2024-09-19T14:04:27.295617Z"
        },
        "id": "ce4cf0ee79d70c87"
      },
      "outputs": [],
      "source": [
        "def get_all_descriptors(smiles):\n",
        "    mols = [Chem.MolFromSmiles(i) for i in smiles]\n",
        "    calc = MoleculeDescriptors.MolecularDescriptorCalculator([x[0] for x in Descriptors._descList])\n",
        "    desc_names = calc.GetDescriptorNames()\n",
        "    mol_descriptors = []\n",
        "    for mol in tqdm(mols):\n",
        "        mol = Chem.AddHs(mol)\n",
        "        descriptors = calc.CalcDescriptors(mol)\n",
        "        mol_descriptors.append(descriptors)\n",
        "    return mol_descriptors, desc_names"
      ]
    },
    {
      "cell_type": "code",
      "execution_count": null,
      "id": "ca9d772591a01cd6",
      "metadata": {
        "ExecuteTime": {
          "end_time": "2024-09-19T14:08:06.491722Z",
          "start_time": "2024-09-19T14:04:28.361810Z"
        },
        "id": "ca9d772591a01cd6",
        "outputId": "4192089f-7952-4ad7-885e-34a854d48806"
      },
      "outputs": [
        {
          "name": "stdout",
          "output_type": "stream",
          "text": [
            "count                                                    36\n",
            "unique                                                   36\n",
            "top       CC(C)(C)[C@H]1NC(=O)[C@H](CCCCN)NC(=O)CCSCc2cc...\n",
            "freq                                                      1\n",
            "Name: Canonical Smiles, dtype: object\n"
          ]
        },
        {
          "name": "stderr",
          "output_type": "stream",
          "text": [
            "100%|██████████| 36/36 [03:37<00:00,  6.05s/it]\n"
          ]
        }
      ],
      "source": [
        "print(df['Canonical Smiles'].describe())\n",
        "mol_descriptors, descriptors_names = get_all_descriptors(df['Canonical Smiles'].tolist()) #вызов функции для подсчета дескрипторов\n",
        "df[[*descriptors_names]] = mol_descriptors # добавление дескрипторов в датасет"
      ]
    },
    {
      "cell_type": "code",
      "execution_count": null,
      "outputs": [],
      "source": [
        "def create_feature_importances(X, y):\n",
        "    mutual_info = mutual_info_regression(X, y)\n",
        "    threshold = 0.025\n",
        "    selected_features = X.columns[mutual_info < threshold]\n",
        "    X_selected = X[selected_features]\n",
        "    print(f\"Изначальное количество признаков: {X.shape[1]}\")\n",
        "    print(f\"Количество отобранных признаков: {X_selected.shape[1]}\")\n",
        "    return X_selected\n",
        "\n",
        "X = df.drop(['BCUT2D_MRLOW', 'BCUT2D_CHGHI', 'BCUT2D_MWHI', 'BCUT2D_CHGLO', 'BCUT2D_LOGPHI', 'BCUT2D_LOGPLOW', 'BCUT2D_MRHI', 'BCUT2D_MWLOW', 'Canonical Smiles', 'Standard Value'], axis=1)\n",
        "y = df['Standard Value']"
      ],
      "metadata": {
        "ExecuteTime": {
          "end_time": "2024-09-19T14:08:23.932787Z",
          "start_time": "2024-09-19T14:08:23.890605Z"
        },
        "id": "868c6460accd09d3"
      },
      "id": "868c6460accd09d3"
    },
    {
      "cell_type": "code",
      "outputs": [],
      "source": [
        "y = np.log(y)"
      ],
      "metadata": {
        "ExecuteTime": {
          "end_time": "2024-09-19T14:08:24.466936Z",
          "start_time": "2024-09-19T14:08:24.435920Z"
        },
        "id": "36d4f971b09848fc"
      },
      "id": "36d4f971b09848fc",
      "execution_count": null
    },
    {
      "cell_type": "code",
      "outputs": [
        {
          "data": {
            "text/plain": "<Figure size 800x600 with 1 Axes>",
            "image/png": "[encoded data removed]"
          },
          "metadata": {},
          "output_type": "display_data"
        }
      ],
      "source": [
        "# Преобразуем данные в Pandas Series\n",
        "import seaborn as sns\n",
        "target_series = pd.Series(y)\n",
        "\n",
        "# Построим график распределения\n",
        "plt.figure(figsize=(8, 6))\n",
        "sns.histplot(target_series, kde=True, color='blue', bins=20)\n",
        "\n",
        "# Настройки графика\n",
        "plt.title('Распределение таргетной переменной', fontsize=16)\n",
        "plt.xlabel('Значение таргетной переменной', fontsize=14)\n",
        "plt.ylabel('Частота', fontsize=14)\n",
        "\n",
        "# Отображение графика\n",
        "plt.show()"
      ],
      "metadata": {
        "ExecuteTime": {
          "end_time": "2024-09-19T14:08:25.602246Z",
          "start_time": "2024-09-19T14:08:25.243429Z"
        },
        "id": "5dc915e854b4b3fa",
        "outputId": "201b6124-108e-4bcf-c9c2-26c56dd4b056"
      },
      "id": "5dc915e854b4b3fa",
      "execution_count": null
    },
    {
      "cell_type": "code",
      "execution_count": null,
      "id": "86bd60cd83be234e",
      "metadata": {
        "ExecuteTime": {
          "end_time": "2024-09-19T14:08:25.934839Z",
          "start_time": "2024-09-19T14:08:25.824728Z"
        },
        "id": "86bd60cd83be234e",
        "outputId": "55c992f5-3a6f-41de-e261-a8006393e978"
      },
      "outputs": [
        {
          "name": "stdout",
          "output_type": "stream",
          "text": [
            "Изначальное количество признаков: 202\n",
            "Количество отобранных признаков: 96\n"
          ]
        }
      ],
      "source": [
        "X = create_feature_importances(X, y)"
      ]
    },
    {
      "cell_type": "code",
      "outputs": [],
      "source": [
        "X.reset_index(inplace=True, drop=True)"
      ],
      "metadata": {
        "ExecuteTime": {
          "end_time": "2024-09-19T14:08:26.530109Z",
          "start_time": "2024-09-19T14:08:26.491194Z"
        },
        "id": "155dde9b982dc4c7"
      },
      "id": "155dde9b982dc4c7",
      "execution_count": null
    },
    {
      "cell_type": "code",
      "execution_count": null,
      "id": "b6d4db112e8063e7",
      "metadata": {
        "ExecuteTime": {
          "end_time": "2024-09-19T14:08:27.718503Z",
          "start_time": "2024-09-19T14:08:27.088029Z"
        },
        "id": "b6d4db112e8063e7",
        "outputId": "5e98223e-db75-49c3-8259-772c8b505195"
      },
      "outputs": [
        {
          "name": "stderr",
          "output_type": "stream",
          "text": [
            "100%|██████████| 36/36 [00:00<00:00, 108.99it/s]\n"
          ]
        },
        {
          "data": {
            "text/plain": "    0    1    2    3    4    5    6    7    8    9    ...  502  503  504  505  \\\n0     1    1    1    0    1    1    1    1    1    1  ...    1    0    1    0   \n1     1    1    1    0    1    1    1    1    1    1  ...    1    0    1    0   \n2     1    1    1    0    1    1    1    1    1    1  ...    1    1    1    0   \n3     1    1    1    0    1    1    1    1    1    1  ...    1    0    1    0   \n4     1    1    1    0    1    1    1    1    1    1  ...    1    0    1    0   \n5     1    1    1    0    1    1    1    1    1    1  ...    1    0    1    0   \n6     1    1    1    0    1    1    1    1    1    1  ...    1    0    1    0   \n7     1    1    1    0    1    1    1    1    1    1  ...    1    0    1    0   \n8     1    1    1    0    1    1    1    1    1    1  ...    1    0    1    0   \n9     1    1    1    0    1    1    0    1    1    1  ...    1    1    1    1   \n10    1    1    1    0    1    1    1    1    1    1  ...    1    0    1    0   \n11    1    1    1    0    1    1    1    1    1    1  ...    1    1    1    1   \n12    1    1    1    0    1    1    1    1    1    1  ...    1    1    1    1   \n13    1    1    1    0    1    1    1    1    1    1  ...    1    0    1    0   \n14    1    1    1    0    1    1    1    1    1    1  ...    1    0    1    0   \n15    1    1    1    0    1    1    1    1    1    1  ...    1    0    1    0   \n16    1    1    1    0    1    1    0    1    1    1  ...    1    1    1    1   \n17    1    1    1    0    1    1    1    1    1    1  ...    1    1    1    1   \n18    1    1    1    0    1    1    0    1    1    1  ...    1    1    1    1   \n19    1    1    1    0    1    1    1    1    1    1  ...    1    0    1    0   \n20    1    1    1    0    1    1    1    1    1    1  ...    1    1    1    1   \n21    1    1    1    0    1    1    0    1    1    1  ...    1    1    1    1   \n22    1    1    1    0    1    1    0    1    1    1  ...    1    1    1    1   \n23    1    1    1    0    1    1    1    1    1    1  ...    1    0    1    0   \n24    1    1    1    0    1    0    0    1    1    0  ...    1    0    1    0   \n25    1    1    1    0    1    1    1    1    1    1  ...    1    0    1    0   \n26    1    1    1    0    1    1    1    1    1    1  ...    1    1    1    1   \n27    1    1    1    0    1    1    1    1    1    1  ...    1    0    1    0   \n28    1    1    1    0    1    1    1    1    1    1  ...    1    1    1    1   \n29    1    1    1    0    1    1    0    1    1    1  ...    1    1    1    1   \n30    1    1    1    0    1    1    1    1    1    1  ...    1    1    1    1   \n31    1    1    1    0    1    1    1    1    1    1  ...    1    1    1    1   \n32    1    1    1    0    1    1    1    1    1    1  ...    1    1    1    1   \n33    1    1    1    0    1    1    1    1    1    1  ...    1    1    1    1   \n34    1    1    1    0    1    1    1    1    1    1  ...    1    0    1    0   \n35    1    1    1    0    1    1    1    1    1    1  ...    1    0    1    0   \n\n    506  507  508  509  510  511  \n0     0    1    1    0    1    1  \n1     0    1    1    0    1    1  \n2     0    1    1    1    1    1  \n3     0    1    1    0    1    1  \n4     0    1    1    0    1    1  \n5     0    1    1    0    1    1  \n6     0    0    1    0    1    1  \n7     0    0    1    0    1    1  \n8     0    1    1    0    1    1  \n9     1    1    1    1    1    1  \n10    0    1    1    0    1    1  \n11    0    0    1    0    1    1  \n12    0    0    1    0    1    1  \n13    0    1    1    0    1    1  \n14    0    1    1    0    1    1  \n15    0    1    1    0    1    1  \n16    1    1    1    1    1    1  \n17    0    0    1    0    1    1  \n18    1    1    1    1    1    1  \n19    0    1    1    0    1    1  \n20    0    0    1    0    1    1  \n21    1    1    1    1    1    1  \n22    1    1    1    1    1    1  \n23    0    1    1    0    1    1  \n24    0    0    1    0    1    0  \n25    0    1    1    0    1    1  \n26    0    0    1    0    1    1  \n27    0    0    1    0    1    1  \n28    0    0    1    0    1    1  \n29    1    1    1    1    1    1  \n30    0    0    1    0    1    1  \n31    0    0    1    0    1    1  \n32    1    1    1    1    1    1  \n33    0    0    1    0    1    1  \n34    0    1    1    0    1    1  \n35    0    1    1    0    1    1  \n\n[36 rows x 512 columns]",
            "text/html": "<div>\n<style scoped>\n    .dataframe tbody tr th:only-of-type {\n        vertical-align: middle;\n    }\n\n    .dataframe tbody tr th {\n        vertical-align: top;\n    }\n\n    .dataframe thead th {\n        text-align: right;\n    }\n</style>\n<table border=\"1\" class=\"dataframe\">\n  <thead>\n    <tr style=\"text-align: right;\">\n      <th></th>\n      <th>0</th>\n      <th>1</th>\n      <th>2</th>\n      <th>3</th>\n      <th>4</th>\n      <th>5</th>\n      <th>6</th>\n      <th>7</th>\n      <th>8</th>\n      <th>9</th>\n      <th>...</th>\n      <th>502</th>\n      <th>503</th>\n      <th>504</th>\n      <th>505</th>\n      <th>506</th>\n      <th>507</th>\n      <th>508</th>\n      <th>509</th>\n      <th>510</th>\n      <th>511</th>\n    </tr>\n  </thead>\n  <tbody>\n    <tr>\n      <th>0</th>\n      <td>1</td>\n      <td>1</td>\n      <td>1</td>\n      <td>0</td>\n      <td>1</td>\n      <td>1</td>\n      <td>1</td>\n      <td>1</td>\n      <td>1</td>\n      <td>1</td>\n      <td>...</td>\n      <td>1</td>\n      <td>0</td>\n      <td>1</td>\n      <td>0</td>\n      <td>0</td>\n      <td>1</td>\n      <td>1</td>\n      <td>0</td>\n      <td>1</td>\n      <td>1</td>\n    </tr>\n    <tr>\n      <th>1</th>\n      <td>1</td>\n      <td>1</td>\n      <td>1</td>\n      <td>0</td>\n      <td>1</td>\n      <td>1</td>\n      <td>1</td>\n      <td>1</td>\n      <td>1</td>\n      <td>1</td>\n      <td>...</td>\n      <td>1</td>\n      <td>0</td>\n      <td>1</td>\n      <td>0</td>\n      <td>0</td>\n      <td>1</td>\n      <td>1</td>\n      <td>0</td>\n      <td>1</td>\n      <td>1</td>\n    </tr>\n    <tr>\n      <th>2</th>\n      <td>1</td>\n      <td>1</td>\n      <td>1</td>\n      <td>0</td>\n      <td>1</td>\n      <td>1</td>\n      <td>1</td>\n      <td>1</td>\n      <td>1</td>\n      <td>1</td>\n      <td>...</td>\n      <td>1</td>\n      <td>1</td>\n      <td>1</td>\n      <td>0</td>\n      <td>0</td>\n      <td>1</td>\n      <td>1</td>\n      <td>1</td>\n      <td>1</td>\n      <td>1</td>\n    </tr>\n    <tr>\n      <th>3</th>\n      <td>1</td>\n      <td>1</td>\n      <td>1</td>\n      <td>0</td>\n      <td>1</td>\n      <td>1</td>\n      <td>1</td>\n      <td>1</td>\n      <td>1</td>\n      <td>1</td>\n      <td>...</td>\n      <td>1</td>\n      <td>0</td>\n      <td>1</td>\n      <td>0</td>\n      <td>0</td>\n      <td>1</td>\n      <td>1</td>\n      <td>0</td>\n      <td>1</td>\n      <td>1</td>\n    </tr>\n    <tr>\n      <th>4</th>\n      <td>1</td>\n      <td>1</td>\n      <td>1</td>\n      <td>0</td>\n      <td>1</td>\n      <td>1</td>\n      <td>1</td>\n      <td>1</td>\n      <td>1</td>\n      <td>1</td>\n      <td>...</td>\n      <td>1</td>\n      <td>0</td>\n      <td>1</td>\n      <td>0</td>\n      <td>0</td>\n      <td>1</td>\n      <td>1</td>\n      <td>0</td>\n      <td>1</td>\n      <td>1</td>\n    </tr>\n    <tr>\n      <th>5</th>\n      <td>1</td>\n      <td>1</td>\n      <td>1</td>\n      <td>0</td>\n      <td>1</td>\n      <td>1</td>\n      <td>1</td>\n      <td>1</td>\n      <td>1</td>\n      <td>1</td>\n      <td>...</td>\n      <td>1</td>\n      <td>0</td>\n      <td>1</td>\n      <td>0</td>\n      <td>0</td>\n      <td>1</td>\n      <td>1</td>\n      <td>0</td>\n      <td>1</td>\n      <td>1</td>\n    </tr>\n    <tr>\n      <th>6</th>\n      <td>1</td>\n      <td>1</td>\n      <td>1</td>\n      <td>0</td>\n      <td>1</td>\n      <td>1</td>\n      <td>1</td>\n      <td>1</td>\n      <td>1</td>\n      <td>1</td>\n      <td>...</td>\n      <td>1</td>\n      <td>0</td>\n      <td>1</td>\n      <td>0</td>\n      <td>0</td>\n      <td>0</td>\n      <td>1</td>\n      <td>0</td>\n      <td>1</td>\n      <td>1</td>\n    </tr>\n    <tr>\n      <th>7</th>\n      <td>1</td>\n      <td>1</td>\n      <td>1</td>\n      <td>0</td>\n      <td>1</td>\n      <td>1</td>\n      <td>1</td>\n      <td>1</td>\n      <td>1</td>\n      <td>1</td>\n      <td>...</td>\n      <td>1</td>\n      <td>0</td>\n      <td>1</td>\n      <td>0</td>\n      <td>0</td>\n      <td>0</td>\n      <td>1</td>\n      <td>0</td>\n      <td>1</td>\n      <td>1</td>\n    </tr>\n    <tr>\n      <th>8</th>\n      <td>1</td>\n      <td>1</td>\n      <td>1</td>\n      <td>0</td>\n      <td>1</td>\n      <td>1</td>\n      <td>1</td>\n      <td>1</td>\n      <td>1</td>\n      <td>1</td>\n      <td>...</td>\n      <td>1</td>\n      <td>0</td>\n      <td>1</td>\n      <td>0</td>\n      <td>0</td>\n      <td>1</td>\n      <td>1</td>\n      <td>0</td>\n      <td>1</td>\n      <td>1</td>\n    </tr>\n    <tr>\n      <th>9</th>\n      <td>1</td>\n      <td>1</td>\n      <td>1</td>\n      <td>0</td>\n      <td>1</td>\n      <td>1</td>\n      <td>0</td>\n      <td>1</td>\n      <td>1</td>\n      <td>1</td>\n      <td>...</td>\n      <td>1</td>\n      <td>1</td>\n      <td>1</td>\n      <td>1</td>\n      <td>1</td>\n      <td>1</td>\n      <td>1</td>\n      <td>1</td>\n      <td>1</td>\n      <td>1</td>\n    </tr>\n    <tr>\n      <th>10</th>\n      <td>1</td>\n      <td>1</td>\n      <td>1</td>\n      <td>0</td>\n      <td>1</td>\n      <td>1</td>\n      <td>1</td>\n      <td>1</td>\n      <td>1</td>\n      <td>1</td>\n      <td>...</td>\n      <td>1</td>\n      <td>0</td>\n      <td>1</td>\n      <td>0</td>\n      <td>0</td>\n      <td>1</td>\n      <td>1</td>\n      <td>0</td>\n      <td>1</td>\n      <td>1</td>\n    </tr>\n    <tr>\n      <th>11</th>\n      <td>1</td>\n      <td>1</td>\n      <td>1</td>\n      <td>0</td>\n      <td>1</td>\n      <td>1</td>\n      <td>1</td>\n      <td>1</td>\n      <td>1</td>\n      <td>1</td>\n      <td>...</td>\n      <td>1</td>\n      <td>1</td>\n      <td>1</td>\n      <td>1</td>\n      <td>0</td>\n      <td>0</td>\n      <td>1</td>\n      <td>0</td>\n      <td>1</td>\n      <td>1</td>\n    </tr>\n    <tr>\n      <th>12</th>\n      <td>1</td>\n      <td>1</td>\n      <td>1</td>\n      <td>0</td>\n      <td>1</td>\n      <td>1</td>\n      <td>1</td>\n      <td>1</td>\n      <td>1</td>\n      <td>1</td>\n      <td>...</td>\n      <td>1</td>\n      <td>1</td>\n      <td>1</td>\n      <td>1</td>\n      <td>0</td>\n      <td>0</td>\n      <td>1</td>\n      <td>0</td>\n      <td>1</td>\n      <td>1</td>\n    </tr>\n    <tr>\n      <th>13</th>\n      <td>1</td>\n      <td>1</td>\n      <td>1</td>\n      <td>0</td>\n      <td>1</td>\n      <td>1</td>\n      <td>1</td>\n      <td>1</td>\n      <td>1</td>\n      <td>1</td>\n      <td>...</td>\n      <td>1</td>\n      <td>0</td>\n      <td>1</td>\n      <td>0</td>\n      <td>0</td>\n      <td>1</td>\n      <td>1</td>\n      <td>0</td>\n      <td>1</td>\n      <td>1</td>\n    </tr>\n    <tr>\n      <th>14</th>\n      <td>1</td>\n      <td>1</td>\n      <td>1</td>\n      <td>0</td>\n      <td>1</td>\n      <td>1</td>\n      <td>1</td>\n      <td>1</td>\n      <td>1</td>\n      <td>1</td>\n      <td>...</td>\n      <td>1</td>\n      <td>0</td>\n      <td>1</td>\n      <td>0</td>\n      <td>0</td>\n      <td>1</td>\n      <td>1</td>\n      <td>0</td>\n      <td>1</td>\n      <td>1</td>\n    </tr>\n    <tr>\n      <th>15</th>\n      <td>1</td>\n      <td>1</td>\n      <td>1</td>\n      <td>0</td>\n      <td>1</td>\n      <td>1</td>\n      <td>1</td>\n      <td>1</td>\n      <td>1</td>\n      <td>1</td>\n      <td>...</td>\n      <td>1</td>\n      <td>0</td>\n      <td>1</td>\n      <td>0</td>\n      <td>0</td>\n      <td>1</td>\n      <td>1</td>\n      <td>0</td>\n      <td>1</td>\n      <td>1</td>\n    </tr>\n    <tr>\n      <th>16</th>\n      <td>1</td>\n      <td>1</td>\n      <td>1</td>\n      <td>0</td>\n      <td>1</td>\n      <td>1</td>\n      <td>0</td>\n      <td>1</td>\n      <td>1</td>\n      <td>1</td>\n      <td>...</td>\n      <td>1</td>\n      <td>1</td>\n      <td>1</td>\n      <td>1</td>\n      <td>1</td>\n      <td>1</td>\n      <td>1</td>\n      <td>1</td>\n      <td>1</td>\n      <td>1</td>\n    </tr>\n    <tr>\n      <th>17</th>\n      <td>1</td>\n      <td>1</td>\n      <td>1</td>\n      <td>0</td>\n      <td>1</td>\n      <td>1</td>\n      <td>1</td>\n      <td>1</td>\n      <td>1</td>\n      <td>1</td>\n      <td>...</td>\n      <td>1</td>\n      <td>1</td>\n      <td>1</td>\n      <td>1</td>\n      <td>0</td>\n      <td>0</td>\n      <td>1</td>\n      <td>0</td>\n      <td>1</td>\n      <td>1</td>\n    </tr>\n    <tr>\n      <th>18</th>\n      <td>1</td>\n      <td>1</td>\n      <td>1</td>\n      <td>0</td>\n      <td>1</td>\n      <td>1</td>\n      <td>0</td>\n      <td>1</td>\n      <td>1</td>\n      <td>1</td>\n      <td>...</td>\n      <td>1</td>\n      <td>1</td>\n      <td>1</td>\n      <td>1</td>\n      <td>1</td>\n      <td>1</td>\n      <td>1</td>\n      <td>1</td>\n      <td>1</td>\n      <td>1</td>\n    </tr>\n    <tr>\n      <th>19</th>\n      <td>1</td>\n      <td>1</td>\n      <td>1</td>\n      <td>0</td>\n      <td>1</td>\n      <td>1</td>\n      <td>1</td>\n      <td>1</td>\n      <td>1</td>\n      <td>1</td>\n      <td>...</td>\n      <td>1</td>\n      <td>0</td>\n      <td>1</td>\n      <td>0</td>\n      <td>0</td>\n      <td>1</td>\n      <td>1</td>\n      <td>0</td>\n      <td>1</td>\n      <td>1</td>\n    </tr>\n    <tr>\n      <th>20</th>\n      <td>1</td>\n      <td>1</td>\n      <td>1</td>\n      <td>0</td>\n      <td>1</td>\n      <td>1</td>\n      <td>1</td>\n      <td>1</td>\n      <td>1</td>\n      <td>1</td>\n      <td>...</td>\n      <td>1</td>\n      <td>1</td>\n      <td>1</td>\n      <td>1</td>\n      <td>0</td>\n      <td>0</td>\n      <td>1</td>\n      <td>0</td>\n      <td>1</td>\n      <td>1</td>\n    </tr>\n    <tr>\n      <th>21</th>\n      <td>1</td>\n      <td>1</td>\n      <td>1</td>\n      <td>0</td>\n      <td>1</td>\n      <td>1</td>\n      <td>0</td>\n      <td>1</td>\n      <td>1</td>\n      <td>1</td>\n      <td>...</td>\n      <td>1</td>\n      <td>1</td>\n      <td>1</td>\n      <td>1</td>\n      <td>1</td>\n      <td>1</td>\n      <td>1</td>\n      <td>1</td>\n      <td>1</td>\n      <td>1</td>\n    </tr>\n    <tr>\n      <th>22</th>\n      <td>1</td>\n      <td>1</td>\n      <td>1</td>\n      <td>0</td>\n      <td>1</td>\n      <td>1</td>\n      <td>0</td>\n      <td>1</td>\n      <td>1</td>\n      <td>1</td>\n      <td>...</td>\n      <td>1</td>\n      <td>1</td>\n      <td>1</td>\n      <td>1</td>\n      <td>1</td>\n      <td>1</td>\n      <td>1</td>\n      <td>1</td>\n      <td>1</td>\n      <td>1</td>\n    </tr>\n    <tr>\n      <th>23</th>\n      <td>1</td>\n      <td>1</td>\n      <td>1</td>\n      <td>0</td>\n      <td>1</td>\n      <td>1</td>\n      <td>1</td>\n      <td>1</td>\n      <td>1</td>\n      <td>1</td>\n      <td>...</td>\n      <td>1</td>\n      <td>0</td>\n      <td>1</td>\n      <td>0</td>\n      <td>0</td>\n      <td>1</td>\n      <td>1</td>\n      <td>0</td>\n      <td>1</td>\n      <td>1</td>\n    </tr>\n    <tr>\n      <th>24</th>\n      <td>1</td>\n      <td>1</td>\n      <td>1</td>\n      <td>0</td>\n      <td>1</td>\n      <td>0</td>\n      <td>0</td>\n      <td>1</td>\n      <td>1</td>\n      <td>0</td>\n      <td>...</td>\n      <td>1</td>\n      <td>0</td>\n      <td>1</td>\n      <td>0</td>\n      <td>0</td>\n      <td>0</td>\n      <td>1</td>\n      <td>0</td>\n      <td>1</td>\n      <td>0</td>\n    </tr>\n    <tr>\n      <th>25</th>\n      <td>1</td>\n      <td>1</td>\n      <td>1</td>\n      <td>0</td>\n      <td>1</td>\n      <td>1</td>\n      <td>1</td>\n      <td>1</td>\n      <td>1</td>\n      <td>1</td>\n      <td>...</td>\n      <td>1</td>\n      <td>0</td>\n      <td>1</td>\n      <td>0</td>\n      <td>0</td>\n      <td>1</td>\n      <td>1</td>\n      <td>0</td>\n      <td>1</td>\n      <td>1</td>\n    </tr>\n    <tr>\n      <th>26</th>\n      <td>1</td>\n      <td>1</td>\n      <td>1</td>\n      <td>0</td>\n      <td>1</td>\n      <td>1</td>\n      <td>1</td>\n      <td>1</td>\n      <td>1</td>\n      <td>1</td>\n      <td>...</td>\n      <td>1</td>\n      <td>1</td>\n      <td>1</td>\n      <td>1</td>\n      <td>0</td>\n      <td>0</td>\n      <td>1</td>\n      <td>0</td>\n      <td>1</td>\n      <td>1</td>\n    </tr>\n    <tr>\n      <th>27</th>\n      <td>1</td>\n      <td>1</td>\n      <td>1</td>\n      <td>0</td>\n      <td>1</td>\n      <td>1</td>\n      <td>1</td>\n      <td>1</td>\n      <td>1</td>\n      <td>1</td>\n      <td>...</td>\n      <td>1</td>\n      <td>0</td>\n      <td>1</td>\n      <td>0</td>\n      <td>0</td>\n      <td>0</td>\n      <td>1</td>\n      <td>0</td>\n      <td>1</td>\n      <td>1</td>\n    </tr>\n    <tr>\n      <th>28</th>\n      <td>1</td>\n      <td>1</td>\n      <td>1</td>\n      <td>0</td>\n      <td>1</td>\n      <td>1</td>\n      <td>1</td>\n      <td>1</td>\n      <td>1</td>\n      <td>1</td>\n      <td>...</td>\n      <td>1</td>\n      <td>1</td>\n      <td>1</td>\n      <td>1</td>\n      <td>0</td>\n      <td>0</td>\n      <td>1</td>\n      <td>0</td>\n      <td>1</td>\n      <td>1</td>\n    </tr>\n    <tr>\n      <th>29</th>\n      <td>1</td>\n      <td>1</td>\n      <td>1</td>\n      <td>0</td>\n      <td>1</td>\n      <td>1</td>\n      <td>0</td>\n      <td>1</td>\n      <td>1</td>\n      <td>1</td>\n      <td>...</td>\n      <td>1</td>\n      <td>1</td>\n      <td>1</td>\n      <td>1</td>\n      <td>1</td>\n      <td>1</td>\n      <td>1</td>\n      <td>1</td>\n      <td>1</td>\n      <td>1</td>\n    </tr>\n    <tr>\n      <th>30</th>\n      <td>1</td>\n      <td>1</td>\n      <td>1</td>\n      <td>0</td>\n      <td>1</td>\n      <td>1</td>\n      <td>1</td>\n      <td>1</td>\n      <td>1</td>\n      <td>1</td>\n      <td>...</td>\n      <td>1</td>\n      <td>1</td>\n      <td>1</td>\n      <td>1</td>\n      <td>0</td>\n      <td>0</td>\n      <td>1</td>\n      <td>0</td>\n      <td>1</td>\n      <td>1</td>\n    </tr>\n    <tr>\n      <th>31</th>\n      <td>1</td>\n      <td>1</td>\n      <td>1</td>\n      <td>0</td>\n      <td>1</td>\n      <td>1</td>\n      <td>1</td>\n      <td>1</td>\n      <td>1</td>\n      <td>1</td>\n      <td>...</td>\n      <td>1</td>\n      <td>1</td>\n      <td>1</td>\n      <td>1</td>\n      <td>0</td>\n      <td>0</td>\n      <td>1</td>\n      <td>0</td>\n      <td>1</td>\n      <td>1</td>\n    </tr>\n    <tr>\n      <th>32</th>\n      <td>1</td>\n      <td>1</td>\n      <td>1</td>\n      <td>0</td>\n      <td>1</td>\n      <td>1</td>\n      <td>1</td>\n      <td>1</td>\n      <td>1</td>\n      <td>1</td>\n      <td>...</td>\n      <td>1</td>\n      <td>1</td>\n      <td>1</td>\n      <td>1</td>\n      <td>1</td>\n      <td>1</td>\n      <td>1</td>\n      <td>1</td>\n      <td>1</td>\n      <td>1</td>\n    </tr>\n    <tr>\n      <th>33</th>\n      <td>1</td>\n      <td>1</td>\n      <td>1</td>\n      <td>0</td>\n      <td>1</td>\n      <td>1</td>\n      <td>1</td>\n      <td>1</td>\n      <td>1</td>\n      <td>1</td>\n      <td>...</td>\n      <td>1</td>\n      <td>1</td>\n      <td>1</td>\n      <td>1</td>\n      <td>0</td>\n      <td>0</td>\n      <td>1</td>\n      <td>0</td>\n      <td>1</td>\n      <td>1</td>\n    </tr>\n    <tr>\n      <th>34</th>\n      <td>1</td>\n      <td>1</td>\n      <td>1</td>\n      <td>0</td>\n      <td>1</td>\n      <td>1</td>\n      <td>1</td>\n      <td>1</td>\n      <td>1</td>\n      <td>1</td>\n      <td>...</td>\n      <td>1</td>\n      <td>0</td>\n      <td>1</td>\n      <td>0</td>\n      <td>0</td>\n      <td>1</td>\n      <td>1</td>\n      <td>0</td>\n      <td>1</td>\n      <td>1</td>\n    </tr>\n    <tr>\n      <th>35</th>\n      <td>1</td>\n      <td>1</td>\n      <td>1</td>\n      <td>0</td>\n      <td>1</td>\n      <td>1</td>\n      <td>1</td>\n      <td>1</td>\n      <td>1</td>\n      <td>1</td>\n      <td>...</td>\n      <td>1</td>\n      <td>0</td>\n      <td>1</td>\n      <td>0</td>\n      <td>0</td>\n      <td>1</td>\n      <td>1</td>\n      <td>0</td>\n      <td>1</td>\n      <td>1</td>\n    </tr>\n  </tbody>\n</table>\n<p>36 rows × 512 columns</p>\n</div>"
          },
          "execution_count": 16,
          "metadata": {},
          "output_type": "execute_result"
        }
      ],
      "source": [
        "def generate_AVfpts(data):\n",
        "    Avalon_fpts = []\n",
        "    mols = [Chem.MolFromSmiles(x) for x in data if x is not None]\n",
        "    for mol in tqdm(mols):\n",
        "        avfpts = pyAvalonTools.GetAvalonFP(mol, nBits=512)\n",
        "        Avalon_fpts.append(avfpts)\n",
        "    return pd.DataFrame(np.array(Avalon_fpts))\n",
        "Avalon_fpts = generate_AVfpts(df['Canonical Smiles'])\n",
        "Avalon_fpts"
      ]
    },
    {
      "cell_type": "code",
      "execution_count": null,
      "id": "5d8bb34bdccd8927",
      "metadata": {
        "ExecuteTime": {
          "end_time": "2024-09-19T14:08:29.716052Z",
          "start_time": "2024-09-19T14:08:29.626727Z"
        },
        "id": "5d8bb34bdccd8927"
      },
      "outputs": [],
      "source": [
        "X_new = pd.concat([X, Avalon_fpts], axis=1)\n",
        "X_new.columns = X_new.columns.astype(str)"
      ]
    },
    {
      "cell_type": "code",
      "outputs": [
        {
          "data": {
            "text/plain": "    MinAbsEStateIndex   MolWt  HeavyAtomMolWt  ExactMolWt  \\\n0                1.00 1443.71         1355.01     1442.61   \n1                0.89 1390.65         1304.97     1389.59   \n2                0.94 1408.64         1323.97     1407.58   \n3                0.98 1677.92         1575.10     1676.70   \n4                0.92 1415.66         1330.99     1414.58   \n5                0.93 1408.64         1323.97     1407.58   \n6                0.91 1290.55         1209.91     1289.54   \n7                0.98 1318.61         1233.93     1317.57   \n8                0.98 1648.88         1549.09     1647.67   \n9                0.92 1611.95         1506.11     1610.73   \n10               0.95 1443.71         1355.01     1442.61   \n11               0.97 1344.64         1257.96     1343.59   \n12               0.94 1315.60         1231.94     1314.56   \n13               0.91 1401.63         1318.97     1400.56   \n14               0.92 1419.62         1337.97     1418.56   \n15               0.98 1429.69         1343.00     1428.60   \n16               0.82 1409.68         1324.00     1408.59   \n17               0.98 1331.65         1243.95     1330.59   \n18               0.93 1568.86         1470.08     1567.68   \n19               0.87 1387.60         1306.96     1386.55   \n20               0.96 1329.63         1243.95     1328.58   \n21               0.89 1795.17         1682.27     1793.76   \n22               0.82 1409.68         1324.00     1408.59   \n23               0.97 1458.75         1367.02     1457.63   \n24               1.67 1330.62         1245.94     1329.57   \n25               0.96 1518.74         1429.02     1517.61   \n26               0.97 1344.64         1257.96     1343.59   \n27               0.96 1318.61         1233.93     1317.57   \n28               0.96 1329.63         1243.95     1328.58   \n29               0.96 1611.95         1506.11     1610.73   \n30               0.97 1344.64         1257.96     1343.59   \n31               0.97 1344.64         1257.96     1343.59   \n32               0.79 1383.62         1302.98     1382.55   \n33               0.94 1315.60         1231.94     1314.56   \n34               0.88 1430.63         1348.98     1429.55   \n35               0.98 1429.69         1343.00     1428.60   \n\n    NumValenceElectrons  NumRadicalElectrons  Chi0v  \\\n0                544.00                 0.00  50.37   \n1                524.00                 0.00  48.42   \n2                530.00                 0.00  48.80   \n3                636.00                 0.00  57.71   \n4                532.00                 0.00  49.37   \n5                530.00                 0.00  48.80   \n6                486.00                 0.00  45.15   \n7                498.00                 0.00  46.15   \n8                624.00                 0.00  56.76   \n9                612.00                 0.00  56.16   \n10               544.00                 0.00  50.37   \n11               508.00                 0.00  47.15   \n12               496.00                 0.00  46.20   \n13               526.00                 0.00  48.87   \n14               532.00                 0.00  49.24   \n15               538.00                 0.00  49.87   \n16               530.00                 0.00  49.49   \n17               504.00                 0.00  46.70   \n18               594.00                 0.00  54.66   \n19               520.00                 0.00  48.37   \n20               502.00                 0.00  46.70   \n21               676.00                 0.00  62.60   \n22               530.00                 0.00  49.49   \n23               550.00                 0.00  50.87   \n24               502.00                 0.00  46.65   \n25               572.00                 0.00  52.54   \n26               508.00                 0.00  47.15   \n27               498.00                 0.00  46.15   \n28               502.00                 0.00  46.70   \n29               612.00                 0.00  56.16   \n30               508.00                 0.00  47.15   \n31               508.00                 0.00  47.15   \n32               518.00                 0.00  48.46   \n33               496.00                 0.00  46.20   \n34               536.00                 0.00  49.72   \n35               538.00                 0.00  49.87   \n\n                                                  Ipc  PEOE_VSA1  PEOE_VSA4  \\\n0  10915308244914133248956664207068450522703153819...      78.25      23.52   \n1  24706761887288020744542493120916418608086064651...      78.21      23.52   \n2  13588493309996213261588799568180335464478239208...      78.58      23.52   \n3  10756189904346893947957073566518775583800711068...     108.22      23.52   \n4  17731639469517336023931867137390027642167857193...      77.87      23.52   \n5  13622410107463210788259417892999169200360724548...      78.58      23.52   \n6  14955470497808281909752854704831100492805456118...      67.51      23.52   \n7  27532597875004686944174140041417466656106359211...      66.73      23.52   \n8  27643207457948077656235821123127794379534264103...     102.50      23.52   \n9  82271202095207687497740369597597217836182609525...      85.38      23.52   \n10 55050961589754136153420988105252042221793635589...      77.06      23.52   \n11 21171021649847391040843633928748527670790670721...      71.88      23.52   \n12 13256901711522411331480281147495643971207700960...      66.53      23.52   \n13 38441305872084545177430588968977491882438703619...      78.25      23.52   \n14 16043593336174419986993690234986227122328549490...      78.25      23.52   \n15 12410961641538218817470457689251523214694054814...      78.25      23.52   \n16 13150339080417993297851390353651784381004703608...      71.84      23.52   \n17 16210099923333928725647372002312588964684243002...      66.16      23.52   \n18 30910607908992490772557908725468215789397700266...      86.62      23.52   \n19 28055767599258067567877186944093246755061981116...      78.25      23.52   \n20 48241884224751071452474438649921279465650129703...      66.16      23.52   \n21 73458127350406988618670827230383027834141214761...      96.83      35.29   \n22 13150339080417993297851390353651784381004703608...      71.84      23.52   \n23 10618301574386125784737106727746963338626801062...      76.64      23.52   \n24 48380037876489736781833445002800921997283263191...      61.75      23.52   \n25 96345538173368151090539602999206278891027009802...      92.66      23.52   \n26 50485522427857528753071994046321777334356131194...      71.88      23.52   \n27 60948688830858611662760427631239121110765880193...      67.51      23.52   \n28 48241884224751071452474438649921279465650129703...      66.16      23.52   \n29 10647858822839704371386218861784799692681725652...      85.38      23.52   \n30 50485522427857528753071994046321777334356131194...      71.88      23.52   \n31 21171021649847391040843633928748527670790670721...      71.88      23.52   \n32 34560578620761463556987807667284413126484810800...      66.36      23.52   \n33 13256901711522411331480281147495643971207700960...      66.53      23.52   \n34 11269065980673867186951684414585050333024969002...      83.97      23.52   \n35 73344969166809379681950486629751087491409545163...      78.25      23.52   \n\n    ...  502  503  504  505  506  507  508  509  510  511  \n0   ...    1    0    1    0    0    1    1    0    1    1  \n1   ...    1    0    1    0    0    1    1    0    1    1  \n2   ...    1    1    1    0    0    1    1    1    1    1  \n3   ...    1    0    1    0    0    1    1    0    1    1  \n4   ...    1    0    1    0    0    1    1    0    1    1  \n5   ...    1    0    1    0    0    1    1    0    1    1  \n6   ...    1    0    1    0    0    0    1    0    1    1  \n7   ...    1    0    1    0    0    0    1    0    1    1  \n8   ...    1    0    1    0    0    1    1    0    1    1  \n9   ...    1    1    1    1    1    1    1    1    1    1  \n10  ...    1    0    1    0    0    1    1    0    1    1  \n11  ...    1    1    1    1    0    0    1    0    1    1  \n12  ...    1    1    1    1    0    0    1    0    1    1  \n13  ...    1    0    1    0    0    1    1    0    1    1  \n14  ...    1    0    1    0    0    1    1    0    1    1  \n15  ...    1    0    1    0    0    1    1    0    1    1  \n16  ...    1    1    1    1    1    1    1    1    1    1  \n17  ...    1    1    1    1    0    0    1    0    1    1  \n18  ...    1    1    1    1    1    1    1    1    1    1  \n19  ...    1    0    1    0    0    1    1    0    1    1  \n20  ...    1    1    1    1    0    0    1    0    1    1  \n21  ...    1    1    1    1    1    1    1    1    1    1  \n22  ...    1    1    1    1    1    1    1    1    1    1  \n23  ...    1    0    1    0    0    1    1    0    1    1  \n24  ...    1    0    1    0    0    0    1    0    1    0  \n25  ...    1    0    1    0    0    1    1    0    1    1  \n26  ...    1    1    1    1    0    0    1    0    1    1  \n27  ...    1    0    1    0    0    0    1    0    1    1  \n28  ...    1    1    1    1    0    0    1    0    1    1  \n29  ...    1    1    1    1    1    1    1    1    1    1  \n30  ...    1    1    1    1    0    0    1    0    1    1  \n31  ...    1    1    1    1    0    0    1    0    1    1  \n32  ...    1    1    1    1    1    1    1    1    1    1  \n33  ...    1    1    1    1    0    0    1    0    1    1  \n34  ...    1    0    1    0    0    1    1    0    1    1  \n35  ...    1    0    1    0    0    1    1    0    1    1  \n\n[36 rows x 608 columns]",
            "text/html": "<div>\n<style scoped>\n    .dataframe tbody tr th:only-of-type {\n        vertical-align: middle;\n    }\n\n    .dataframe tbody tr th {\n        vertical-align: top;\n    }\n\n    .dataframe thead th {\n        text-align: right;\n    }\n</style>\n<table border=\"1\" class=\"dataframe\">\n  <thead>\n    <tr style=\"text-align: right;\">\n      <th></th>\n      <th>MinAbsEStateIndex</th>\n      <th>MolWt</th>\n      <th>HeavyAtomMolWt</th>\n      <th>ExactMolWt</th>\n      <th>NumValenceElectrons</th>\n      <th>NumRadicalElectrons</th>\n      <th>Chi0v</th>\n      <th>Ipc</th>\n      <th>PEOE_VSA1</th>\n      <th>PEOE_VSA4</th>\n      <th>...</th>\n      <th>502</th>\n      <th>503</th>\n      <th>504</th>\n      <th>505</th>\n      <th>506</th>\n      <th>507</th>\n      <th>508</th>\n      <th>509</th>\n      <th>510</th>\n      <th>511</th>\n    </tr>\n  </thead>\n  <tbody>\n    <tr>\n      <th>0</th>\n      <td>1.00</td>\n      <td>1443.71</td>\n      <td>1355.01</td>\n      <td>1442.61</td>\n      <td>544.00</td>\n      <td>0.00</td>\n      <td>50.37</td>\n      <td>10915308244914133248956664207068450522703153819...</td>\n      <td>78.25</td>\n      <td>23.52</td>\n      <td>...</td>\n      <td>1</td>\n      <td>0</td>\n      <td>1</td>\n      <td>0</td>\n      <td>0</td>\n      <td>1</td>\n      <td>1</td>\n      <td>0</td>\n      <td>1</td>\n      <td>1</td>\n    </tr>\n    <tr>\n      <th>1</th>\n      <td>0.89</td>\n      <td>1390.65</td>\n      <td>1304.97</td>\n      <td>1389.59</td>\n      <td>524.00</td>\n      <td>0.00</td>\n      <td>48.42</td>\n      <td>24706761887288020744542493120916418608086064651...</td>\n      <td>78.21</td>\n      <td>23.52</td>\n      <td>...</td>\n      <td>1</td>\n      <td>0</td>\n      <td>1</td>\n      <td>0</td>\n      <td>0</td>\n      <td>1</td>\n      <td>1</td>\n      <td>0</td>\n      <td>1</td>\n      <td>1</td>\n    </tr>\n    <tr>\n      <th>2</th>\n      <td>0.94</td>\n      <td>1408.64</td>\n      <td>1323.97</td>\n      <td>1407.58</td>\n      <td>530.00</td>\n      <td>0.00</td>\n      <td>48.80</td>\n      <td>13588493309996213261588799568180335464478239208...</td>\n      <td>78.58</td>\n      <td>23.52</td>\n      <td>...</td>\n      <td>1</td>\n      <td>1</td>\n      <td>1</td>\n      <td>0</td>\n      <td>0</td>\n      <td>1</td>\n      <td>1</td>\n      <td>1</td>\n      <td>1</td>\n      <td>1</td>\n    </tr>\n    <tr>\n      <th>3</th>\n      <td>0.98</td>\n      <td>1677.92</td>\n      <td>1575.10</td>\n      <td>1676.70</td>\n      <td>636.00</td>\n      <td>0.00</td>\n      <td>57.71</td>\n      <td>10756189904346893947957073566518775583800711068...</td>\n      <td>108.22</td>\n      <td>23.52</td>\n      <td>...</td>\n      <td>1</td>\n      <td>0</td>\n      <td>1</td>\n      <td>0</td>\n      <td>0</td>\n      <td>1</td>\n      <td>1</td>\n      <td>0</td>\n      <td>1</td>\n      <td>1</td>\n    </tr>\n    <tr>\n      <th>4</th>\n      <td>0.92</td>\n      <td>1415.66</td>\n      <td>1330.99</td>\n      <td>1414.58</td>\n      <td>532.00</td>\n      <td>0.00</td>\n      <td>49.37</td>\n      <td>17731639469517336023931867137390027642167857193...</td>\n      <td>77.87</td>\n      <td>23.52</td>\n      <td>...</td>\n      <td>1</td>\n      <td>0</td>\n      <td>1</td>\n      <td>0</td>\n      <td>0</td>\n      <td>1</td>\n      <td>1</td>\n      <td>0</td>\n      <td>1</td>\n      <td>1</td>\n    </tr>\n    <tr>\n      <th>5</th>\n      <td>0.93</td>\n      <td>1408.64</td>\n      <td>1323.97</td>\n      <td>1407.58</td>\n      <td>530.00</td>\n      <td>0.00</td>\n      <td>48.80</td>\n      <td>13622410107463210788259417892999169200360724548...</td>\n      <td>78.58</td>\n      <td>23.52</td>\n      <td>...</td>\n      <td>1</td>\n      <td>0</td>\n      <td>1</td>\n      <td>0</td>\n      <td>0</td>\n      <td>1</td>\n      <td>1</td>\n      <td>0</td>\n      <td>1</td>\n      <td>1</td>\n    </tr>\n    <tr>\n      <th>6</th>\n      <td>0.91</td>\n      <td>1290.55</td>\n      <td>1209.91</td>\n      <td>1289.54</td>\n      <td>486.00</td>\n      <td>0.00</td>\n      <td>45.15</td>\n      <td>14955470497808281909752854704831100492805456118...</td>\n      <td>67.51</td>\n      <td>23.52</td>\n      <td>...</td>\n      <td>1</td>\n      <td>0</td>\n      <td>1</td>\n      <td>0</td>\n      <td>0</td>\n      <td>0</td>\n      <td>1</td>\n      <td>0</td>\n      <td>1</td>\n      <td>1</td>\n    </tr>\n    <tr>\n      <th>7</th>\n      <td>0.98</td>\n      <td>1318.61</td>\n      <td>1233.93</td>\n      <td>1317.57</td>\n      <td>498.00</td>\n      <td>0.00</td>\n      <td>46.15</td>\n      <td>27532597875004686944174140041417466656106359211...</td>\n      <td>66.73</td>\n      <td>23.52</td>\n      <td>...</td>\n      <td>1</td>\n      <td>0</td>\n      <td>1</td>\n      <td>0</td>\n      <td>0</td>\n      <td>0</td>\n      <td>1</td>\n      <td>0</td>\n      <td>1</td>\n      <td>1</td>\n    </tr>\n    <tr>\n      <th>8</th>\n      <td>0.98</td>\n      <td>1648.88</td>\n      <td>1549.09</td>\n      <td>1647.67</td>\n      <td>624.00</td>\n      <td>0.00</td>\n      <td>56.76</td>\n      <td>27643207457948077656235821123127794379534264103...</td>\n      <td>102.50</td>\n      <td>23.52</td>\n      <td>...</td>\n      <td>1</td>\n      <td>0</td>\n      <td>1</td>\n      <td>0</td>\n      <td>0</td>\n      <td>1</td>\n      <td>1</td>\n      <td>0</td>\n      <td>1</td>\n      <td>1</td>\n    </tr>\n    <tr>\n      <th>9</th>\n      <td>0.92</td>\n      <td>1611.95</td>\n      <td>1506.11</td>\n      <td>1610.73</td>\n      <td>612.00</td>\n      <td>0.00</td>\n      <td>56.16</td>\n      <td>82271202095207687497740369597597217836182609525...</td>\n      <td>85.38</td>\n      <td>23.52</td>\n      <td>...</td>\n      <td>1</td>\n      <td>1</td>\n      <td>1</td>\n      <td>1</td>\n      <td>1</td>\n      <td>1</td>\n      <td>1</td>\n      <td>1</td>\n      <td>1</td>\n      <td>1</td>\n    </tr>\n    <tr>\n      <th>10</th>\n      <td>0.95</td>\n      <td>1443.71</td>\n      <td>1355.01</td>\n      <td>1442.61</td>\n      <td>544.00</td>\n      <td>0.00</td>\n      <td>50.37</td>\n      <td>55050961589754136153420988105252042221793635589...</td>\n      <td>77.06</td>\n      <td>23.52</td>\n      <td>...</td>\n      <td>1</td>\n      <td>0</td>\n      <td>1</td>\n      <td>0</td>\n      <td>0</td>\n      <td>1</td>\n      <td>1</td>\n      <td>0</td>\n      <td>1</td>\n      <td>1</td>\n    </tr>\n    <tr>\n      <th>11</th>\n      <td>0.97</td>\n      <td>1344.64</td>\n      <td>1257.96</td>\n      <td>1343.59</td>\n      <td>508.00</td>\n      <td>0.00</td>\n      <td>47.15</td>\n      <td>21171021649847391040843633928748527670790670721...</td>\n      <td>71.88</td>\n      <td>23.52</td>\n      <td>...</td>\n      <td>1</td>\n      <td>1</td>\n      <td>1</td>\n      <td>1</td>\n      <td>0</td>\n      <td>0</td>\n      <td>1</td>\n      <td>0</td>\n      <td>1</td>\n      <td>1</td>\n    </tr>\n    <tr>\n      <th>12</th>\n      <td>0.94</td>\n      <td>1315.60</td>\n      <td>1231.94</td>\n      <td>1314.56</td>\n      <td>496.00</td>\n      <td>0.00</td>\n      <td>46.20</td>\n      <td>13256901711522411331480281147495643971207700960...</td>\n      <td>66.53</td>\n      <td>23.52</td>\n      <td>...</td>\n      <td>1</td>\n      <td>1</td>\n      <td>1</td>\n      <td>1</td>\n      <td>0</td>\n      <td>0</td>\n      <td>1</td>\n      <td>0</td>\n      <td>1</td>\n      <td>1</td>\n    </tr>\n    <tr>\n      <th>13</th>\n      <td>0.91</td>\n      <td>1401.63</td>\n      <td>1318.97</td>\n      <td>1400.56</td>\n      <td>526.00</td>\n      <td>0.00</td>\n      <td>48.87</td>\n      <td>38441305872084545177430588968977491882438703619...</td>\n      <td>78.25</td>\n      <td>23.52</td>\n      <td>...</td>\n      <td>1</td>\n      <td>0</td>\n      <td>1</td>\n      <td>0</td>\n      <td>0</td>\n      <td>1</td>\n      <td>1</td>\n      <td>0</td>\n      <td>1</td>\n      <td>1</td>\n    </tr>\n    <tr>\n      <th>14</th>\n      <td>0.92</td>\n      <td>1419.62</td>\n      <td>1337.97</td>\n      <td>1418.56</td>\n      <td>532.00</td>\n      <td>0.00</td>\n      <td>49.24</td>\n      <td>16043593336174419986993690234986227122328549490...</td>\n      <td>78.25</td>\n      <td>23.52</td>\n      <td>...</td>\n      <td>1</td>\n      <td>0</td>\n      <td>1</td>\n      <td>0</td>\n      <td>0</td>\n      <td>1</td>\n      <td>1</td>\n      <td>0</td>\n      <td>1</td>\n      <td>1</td>\n    </tr>\n    <tr>\n      <th>15</th>\n      <td>0.98</td>\n      <td>1429.69</td>\n      <td>1343.00</td>\n      <td>1428.60</td>\n      <td>538.00</td>\n      <td>0.00</td>\n      <td>49.87</td>\n      <td>12410961641538218817470457689251523214694054814...</td>\n      <td>78.25</td>\n      <td>23.52</td>\n      <td>...</td>\n      <td>1</td>\n      <td>0</td>\n      <td>1</td>\n      <td>0</td>\n      <td>0</td>\n      <td>1</td>\n      <td>1</td>\n      <td>0</td>\n      <td>1</td>\n      <td>1</td>\n    </tr>\n    <tr>\n      <th>16</th>\n      <td>0.82</td>\n      <td>1409.68</td>\n      <td>1324.00</td>\n      <td>1408.59</td>\n      <td>530.00</td>\n      <td>0.00</td>\n      <td>49.49</td>\n      <td>13150339080417993297851390353651784381004703608...</td>\n      <td>71.84</td>\n      <td>23.52</td>\n      <td>...</td>\n      <td>1</td>\n      <td>1</td>\n      <td>1</td>\n      <td>1</td>\n      <td>1</td>\n      <td>1</td>\n      <td>1</td>\n      <td>1</td>\n      <td>1</td>\n      <td>1</td>\n    </tr>\n    <tr>\n      <th>17</th>\n      <td>0.98</td>\n      <td>1331.65</td>\n      <td>1243.95</td>\n      <td>1330.59</td>\n      <td>504.00</td>\n      <td>0.00</td>\n      <td>46.70</td>\n      <td>16210099923333928725647372002312588964684243002...</td>\n      <td>66.16</td>\n      <td>23.52</td>\n      <td>...</td>\n      <td>1</td>\n      <td>1</td>\n      <td>1</td>\n      <td>1</td>\n      <td>0</td>\n      <td>0</td>\n      <td>1</td>\n      <td>0</td>\n      <td>1</td>\n      <td>1</td>\n    </tr>\n    <tr>\n      <th>18</th>\n      <td>0.93</td>\n      <td>1568.86</td>\n      <td>1470.08</td>\n      <td>1567.68</td>\n      <td>594.00</td>\n      <td>0.00</td>\n      <td>54.66</td>\n      <td>30910607908992490772557908725468215789397700266...</td>\n      <td>86.62</td>\n      <td>23.52</td>\n      <td>...</td>\n      <td>1</td>\n      <td>1</td>\n      <td>1</td>\n      <td>1</td>\n      <td>1</td>\n      <td>1</td>\n      <td>1</td>\n      <td>1</td>\n      <td>1</td>\n      <td>1</td>\n    </tr>\n    <tr>\n      <th>19</th>\n      <td>0.87</td>\n      <td>1387.60</td>\n      <td>1306.96</td>\n      <td>1386.55</td>\n      <td>520.00</td>\n      <td>0.00</td>\n      <td>48.37</td>\n      <td>28055767599258067567877186944093246755061981116...</td>\n      <td>78.25</td>\n      <td>23.52</td>\n      <td>...</td>\n      <td>1</td>\n      <td>0</td>\n      <td>1</td>\n      <td>0</td>\n      <td>0</td>\n      <td>1</td>\n      <td>1</td>\n      <td>0</td>\n      <td>1</td>\n      <td>1</td>\n    </tr>\n    <tr>\n      <th>20</th>\n      <td>0.96</td>\n      <td>1329.63</td>\n      <td>1243.95</td>\n      <td>1328.58</td>\n      <td>502.00</td>\n      <td>0.00</td>\n      <td>46.70</td>\n      <td>48241884224751071452474438649921279465650129703...</td>\n      <td>66.16</td>\n      <td>23.52</td>\n      <td>...</td>\n      <td>1</td>\n      <td>1</td>\n      <td>1</td>\n      <td>1</td>\n      <td>0</td>\n      <td>0</td>\n      <td>1</td>\n      <td>0</td>\n      <td>1</td>\n      <td>1</td>\n    </tr>\n    <tr>\n      <th>21</th>\n      <td>0.89</td>\n      <td>1795.17</td>\n      <td>1682.27</td>\n      <td>1793.76</td>\n      <td>676.00</td>\n      <td>0.00</td>\n      <td>62.60</td>\n      <td>73458127350406988618670827230383027834141214761...</td>\n      <td>96.83</td>\n      <td>35.29</td>\n      <td>...</td>\n      <td>1</td>\n      <td>1</td>\n      <td>1</td>\n      <td>1</td>\n      <td>1</td>\n      <td>1</td>\n      <td>1</td>\n      <td>1</td>\n      <td>1</td>\n      <td>1</td>\n    </tr>\n    <tr>\n      <th>22</th>\n      <td>0.82</td>\n      <td>1409.68</td>\n      <td>1324.00</td>\n      <td>1408.59</td>\n      <td>530.00</td>\n      <td>0.00</td>\n      <td>49.49</td>\n      <td>13150339080417993297851390353651784381004703608...</td>\n      <td>71.84</td>\n      <td>23.52</td>\n      <td>...</td>\n      <td>1</td>\n      <td>1</td>\n      <td>1</td>\n      <td>1</td>\n      <td>1</td>\n      <td>1</td>\n      <td>1</td>\n      <td>1</td>\n      <td>1</td>\n      <td>1</td>\n    </tr>\n    <tr>\n      <th>23</th>\n      <td>0.97</td>\n      <td>1458.75</td>\n      <td>1367.02</td>\n      <td>1457.63</td>\n      <td>550.00</td>\n      <td>0.00</td>\n      <td>50.87</td>\n      <td>10618301574386125784737106727746963338626801062...</td>\n      <td>76.64</td>\n      <td>23.52</td>\n      <td>...</td>\n      <td>1</td>\n      <td>0</td>\n      <td>1</td>\n      <td>0</td>\n      <td>0</td>\n      <td>1</td>\n      <td>1</td>\n      <td>0</td>\n      <td>1</td>\n      <td>1</td>\n    </tr>\n    <tr>\n      <th>24</th>\n      <td>1.67</td>\n      <td>1330.62</td>\n      <td>1245.94</td>\n      <td>1329.57</td>\n      <td>502.00</td>\n      <td>0.00</td>\n      <td>46.65</td>\n      <td>48380037876489736781833445002800921997283263191...</td>\n      <td>61.75</td>\n      <td>23.52</td>\n      <td>...</td>\n      <td>1</td>\n      <td>0</td>\n      <td>1</td>\n      <td>0</td>\n      <td>0</td>\n      <td>0</td>\n      <td>1</td>\n      <td>0</td>\n      <td>1</td>\n      <td>0</td>\n    </tr>\n    <tr>\n      <th>25</th>\n      <td>0.96</td>\n      <td>1518.74</td>\n      <td>1429.02</td>\n      <td>1517.61</td>\n      <td>572.00</td>\n      <td>0.00</td>\n      <td>52.54</td>\n      <td>96345538173368151090539602999206278891027009802...</td>\n      <td>92.66</td>\n      <td>23.52</td>\n      <td>...</td>\n      <td>1</td>\n      <td>0</td>\n      <td>1</td>\n      <td>0</td>\n      <td>0</td>\n      <td>1</td>\n      <td>1</td>\n      <td>0</td>\n      <td>1</td>\n      <td>1</td>\n    </tr>\n    <tr>\n      <th>26</th>\n      <td>0.97</td>\n      <td>1344.64</td>\n      <td>1257.96</td>\n      <td>1343.59</td>\n      <td>508.00</td>\n      <td>0.00</td>\n      <td>47.15</td>\n      <td>50485522427857528753071994046321777334356131194...</td>\n      <td>71.88</td>\n      <td>23.52</td>\n      <td>...</td>\n      <td>1</td>\n      <td>1</td>\n      <td>1</td>\n      <td>1</td>\n      <td>0</td>\n      <td>0</td>\n      <td>1</td>\n      <td>0</td>\n      <td>1</td>\n      <td>1</td>\n    </tr>\n    <tr>\n      <th>27</th>\n      <td>0.96</td>\n      <td>1318.61</td>\n      <td>1233.93</td>\n      <td>1317.57</td>\n      <td>498.00</td>\n      <td>0.00</td>\n      <td>46.15</td>\n      <td>60948688830858611662760427631239121110765880193...</td>\n      <td>67.51</td>\n      <td>23.52</td>\n      <td>...</td>\n      <td>1</td>\n      <td>0</td>\n      <td>1</td>\n      <td>0</td>\n      <td>0</td>\n      <td>0</td>\n      <td>1</td>\n      <td>0</td>\n      <td>1</td>\n      <td>1</td>\n    </tr>\n    <tr>\n      <th>28</th>\n      <td>0.96</td>\n      <td>1329.63</td>\n      <td>1243.95</td>\n      <td>1328.58</td>\n      <td>502.00</td>\n      <td>0.00</td>\n      <td>46.70</td>\n      <td>48241884224751071452474438649921279465650129703...</td>\n      <td>66.16</td>\n      <td>23.52</td>\n      <td>...</td>\n      <td>1</td>\n      <td>1</td>\n      <td>1</td>\n      <td>1</td>\n      <td>0</td>\n      <td>0</td>\n      <td>1</td>\n      <td>0</td>\n      <td>1</td>\n      <td>1</td>\n    </tr>\n    <tr>\n      <th>29</th>\n      <td>0.96</td>\n      <td>1611.95</td>\n      <td>1506.11</td>\n      <td>1610.73</td>\n      <td>612.00</td>\n      <td>0.00</td>\n      <td>56.16</td>\n      <td>10647858822839704371386218861784799692681725652...</td>\n      <td>85.38</td>\n      <td>23.52</td>\n      <td>...</td>\n      <td>1</td>\n      <td>1</td>\n      <td>1</td>\n      <td>1</td>\n      <td>1</td>\n      <td>1</td>\n      <td>1</td>\n      <td>1</td>\n      <td>1</td>\n      <td>1</td>\n    </tr>\n    <tr>\n      <th>30</th>\n      <td>0.97</td>\n      <td>1344.64</td>\n      <td>1257.96</td>\n      <td>1343.59</td>\n      <td>508.00</td>\n      <td>0.00</td>\n      <td>47.15</td>\n      <td>50485522427857528753071994046321777334356131194...</td>\n      <td>71.88</td>\n      <td>23.52</td>\n      <td>...</td>\n      <td>1</td>\n      <td>1</td>\n      <td>1</td>\n      <td>1</td>\n      <td>0</td>\n      <td>0</td>\n      <td>1</td>\n      <td>0</td>\n      <td>1</td>\n      <td>1</td>\n    </tr>\n    <tr>\n      <th>31</th>\n      <td>0.97</td>\n      <td>1344.64</td>\n      <td>1257.96</td>\n      <td>1343.59</td>\n      <td>508.00</td>\n      <td>0.00</td>\n      <td>47.15</td>\n      <td>21171021649847391040843633928748527670790670721...</td>\n      <td>71.88</td>\n      <td>23.52</td>\n      <td>...</td>\n      <td>1</td>\n      <td>1</td>\n      <td>1</td>\n      <td>1</td>\n      <td>0</td>\n      <td>0</td>\n      <td>1</td>\n      <td>0</td>\n      <td>1</td>\n      <td>1</td>\n    </tr>\n    <tr>\n      <th>32</th>\n      <td>0.79</td>\n      <td>1383.62</td>\n      <td>1302.98</td>\n      <td>1382.55</td>\n      <td>518.00</td>\n      <td>0.00</td>\n      <td>48.46</td>\n      <td>34560578620761463556987807667284413126484810800...</td>\n      <td>66.36</td>\n      <td>23.52</td>\n      <td>...</td>\n      <td>1</td>\n      <td>1</td>\n      <td>1</td>\n      <td>1</td>\n      <td>1</td>\n      <td>1</td>\n      <td>1</td>\n      <td>1</td>\n      <td>1</td>\n      <td>1</td>\n    </tr>\n    <tr>\n      <th>33</th>\n      <td>0.94</td>\n      <td>1315.60</td>\n      <td>1231.94</td>\n      <td>1314.56</td>\n      <td>496.00</td>\n      <td>0.00</td>\n      <td>46.20</td>\n      <td>13256901711522411331480281147495643971207700960...</td>\n      <td>66.53</td>\n      <td>23.52</td>\n      <td>...</td>\n      <td>1</td>\n      <td>1</td>\n      <td>1</td>\n      <td>1</td>\n      <td>0</td>\n      <td>0</td>\n      <td>1</td>\n      <td>0</td>\n      <td>1</td>\n      <td>1</td>\n    </tr>\n    <tr>\n      <th>34</th>\n      <td>0.88</td>\n      <td>1430.63</td>\n      <td>1348.98</td>\n      <td>1429.55</td>\n      <td>536.00</td>\n      <td>0.00</td>\n      <td>49.72</td>\n      <td>11269065980673867186951684414585050333024969002...</td>\n      <td>83.97</td>\n      <td>23.52</td>\n      <td>...</td>\n      <td>1</td>\n      <td>0</td>\n      <td>1</td>\n      <td>0</td>\n      <td>0</td>\n      <td>1</td>\n      <td>1</td>\n      <td>0</td>\n      <td>1</td>\n      <td>1</td>\n    </tr>\n    <tr>\n      <th>35</th>\n      <td>0.98</td>\n      <td>1429.69</td>\n      <td>1343.00</td>\n      <td>1428.60</td>\n      <td>538.00</td>\n      <td>0.00</td>\n      <td>49.87</td>\n      <td>73344969166809379681950486629751087491409545163...</td>\n      <td>78.25</td>\n      <td>23.52</td>\n      <td>...</td>\n      <td>1</td>\n      <td>0</td>\n      <td>1</td>\n      <td>0</td>\n      <td>0</td>\n      <td>1</td>\n      <td>1</td>\n      <td>0</td>\n      <td>1</td>\n      <td>1</td>\n    </tr>\n  </tbody>\n</table>\n<p>36 rows × 608 columns</p>\n</div>"
          },
          "execution_count": 18,
          "metadata": {},
          "output_type": "execute_result"
        }
      ],
      "source": [
        "X_new.to_csv('Parkinson_belok_X.csv')\n",
        "y.to_csv('Parkinson_belok_y.csv')"
      ],
      "metadata": {
        "ExecuteTime": {
          "end_time": "2024-09-19T14:08:30.441513Z",
          "start_time": "2024-09-19T14:08:30.419175Z"
        },
        "id": "893b1a1639353d57",
        "outputId": "84104db5-24aa-4712-c820-f68d356e8896"
      },
      "id": "893b1a1639353d57",
      "execution_count": null
    },
    {
      "cell_type": "code",
      "outputs": [
        {
          "data": {
            "text/plain": "1     1.44\n2     2.31\n3     0.74\n5     2.37\n6     1.36\n11    2.40\n14    0.41\n15    2.36\n17    2.24\n19   -6.98\n20    1.44\n21   -0.80\n22   -1.39\n23    1.44\n24    0.41\n25    0.99\n28   -2.05\n30    0.77\n32   -2.05\n35    1.46\n37   -0.73\n39   -4.61\n40   -3.30\n42    2.25\n43    1.03\n44    2.10\n47   -1.61\n48    1.39\n52    1.57\n54   -2.05\n55    0.81\n56    1.47\n57    0.31\n59    1.54\n66    1.39\n67    1.84\nName: Standard Value, dtype: float64"
          },
          "execution_count": 22,
          "metadata": {},
          "output_type": "execute_result"
        }
      ],
      "source": [
        "y"
      ],
      "metadata": {
        "ExecuteTime": {
          "end_time": "2024-09-19T14:15:13.848653Z",
          "start_time": "2024-09-19T14:15:13.753071Z"
        },
        "id": "7072cf61646eb7f5",
        "outputId": "5ce3e69a-467f-49da-a86b-9c88eaa15056"
      },
      "id": "7072cf61646eb7f5",
      "execution_count": null
    },
    {
      "cell_type": "code",
      "execution_count": null,
      "id": "35f36a5d6fa5f794",
      "metadata": {
        "ExecuteTime": {
          "end_time": "2024-09-19T14:08:40.298103Z",
          "start_time": "2024-09-19T14:08:40.248103Z"
        },
        "id": "35f36a5d6fa5f794"
      },
      "outputs": [],
      "source": [
        "from sklearn.preprocessing import MinMaxScaler, StandardScaler\n",
        "\n",
        "scaler = StandardScaler()\n",
        "# y = pd.DataFrame(scaler.fit_transform(y.values.reshape(-1,1)))\n",
        "x = pd.DataFrame(scaler.fit_transform(X_new))"
      ]
    },
    {
      "cell_type": "code",
      "execution_count": null,
      "id": "c0693938750bd1c7",
      "metadata": {
        "ExecuteTime": {
          "end_time": "2024-09-19T14:08:55.969790Z",
          "start_time": "2024-09-19T14:08:55.938487Z"
        },
        "id": "c0693938750bd1c7"
      },
      "outputs": [],
      "source": [
        "X_train, X_test, y_train, y_test = train_test_split(x, y, random_state=42, test_size=0.2)\n",
        "def create_model(model):\n",
        "    model.fit(X_train, y_train)\n",
        "    y_pred = model.predict(X_test)\n",
        "    rmse = root_mean_squared_error(y_test, y_pred)\n",
        "    mae = mean_absolute_error(y_test, y_pred)\n",
        "    r2 = r2_score(y_test, y_pred)\n",
        "    plt.plot(y_test, y_test, 'r')\n",
        "    plt.scatter(y_test, y_pred)\n",
        "    plt.show()\n",
        "    print('RMSE:', rmse)\n",
        "    print('MAE:', mae)\n",
        "    print(\"R2:\", r2)\n",
        "    return model, rmse, mae, r2"
      ]
    },
    {
      "cell_type": "code",
      "execution_count": null,
      "id": "750c435ebe03a481",
      "metadata": {
        "ExecuteTime": {
          "end_time": "2024-09-19T14:09:52.683528Z",
          "start_time": "2024-09-19T14:09:51.715746Z"
        },
        "id": "750c435ebe03a481",
        "outputId": "7ea308ce-2c8d-43f5-f4be-9fc8bd9a736d"
      },
      "outputs": [
        {
          "ename": "ImportError",
          "evalue": "cannot import name '_catboost' from partially initialized module 'catboost' (most likely due to a circular import) (/Users/deni/Desktop/PythonAllProjects/sber/venv/lib/python3.12/site-packages/catboost/__init__.py)",
          "output_type": "error",
          "traceback": [
            "\u001b[0;31m---------------------------------------------------------------------------\u001b[0m",
            "\u001b[0;31mImportError\u001b[0m                               Traceback (most recent call last)",
            "Cell \u001b[0;32mIn[21], line 6\u001b[0m\n\u001b[1;32m      4\u001b[0m \u001b[38;5;28;01mfrom\u001b[39;00m \u001b[38;5;21;01msklearn\u001b[39;00m\u001b[38;5;21;01m.\u001b[39;00m\u001b[38;5;21;01mneural_network\u001b[39;00m \u001b[38;5;28;01mimport\u001b[39;00m MLPRegressor\n\u001b[1;32m      5\u001b[0m \u001b[38;5;28;01mfrom\u001b[39;00m \u001b[38;5;21;01msklearn\u001b[39;00m\u001b[38;5;21;01m.\u001b[39;00m\u001b[38;5;21;01msvm\u001b[39;00m \u001b[38;5;28;01mimport\u001b[39;00m SVR\n\u001b[0;32m----> 6\u001b[0m \u001b[38;5;28;01mfrom\u001b[39;00m \u001b[38;5;21;01mcatboost\u001b[39;00m \u001b[38;5;28;01mimport\u001b[39;00m CatBoostRegressor\n\u001b[1;32m      7\u001b[0m model, rmse, mae, r2 \u001b[38;5;241m=\u001b[39m create_model(CatBoostRegressor())\n",
            "File \u001b[0;32m~/Desktop/PythonAllProjects/sber/venv/lib/python3.12/site-packages/catboost/__init__.py:1\u001b[0m\n\u001b[0;32m----> 1\u001b[0m \u001b[38;5;28;01mfrom\u001b[39;00m \u001b[38;5;21;01m.\u001b[39;00m\u001b[38;5;21;01mcore\u001b[39;00m \u001b[38;5;28;01mimport\u001b[39;00m (\n\u001b[1;32m      2\u001b[0m     FeaturesData, EFstrType, EShapCalcType, EFeaturesSelectionAlgorithm, EFeaturesSelectionGrouping,\n\u001b[1;32m      3\u001b[0m     Pool, CatBoost, CatBoostClassifier, CatBoostRegressor, CatBoostRanker, CatBoostError, cv, sample_gaussian_process, train,\n\u001b[1;32m      4\u001b[0m     sum_models, _have_equal_features, to_regressor, to_classifier, to_ranker, MultiRegressionCustomMetric,\n\u001b[1;32m      5\u001b[0m     MultiRegressionCustomObjective, MultiTargetCustomMetric, MultiTargetCustomObjective\n\u001b[1;32m      6\u001b[0m )  \u001b[38;5;66;03m# noqa\u001b[39;00m\n\u001b[1;32m      7\u001b[0m \u001b[38;5;28;01mfrom\u001b[39;00m \u001b[38;5;21;01m.\u001b[39;00m\u001b[38;5;21;01mversion\u001b[39;00m \u001b[38;5;28;01mimport\u001b[39;00m VERSION \u001b[38;5;28;01mas\u001b[39;00m __version__  \u001b[38;5;66;03m# noqa\u001b[39;00m\n\u001b[1;32m      8\u001b[0m __all__ \u001b[38;5;241m=\u001b[39m [\n\u001b[1;32m      9\u001b[0m     \u001b[38;5;124m'\u001b[39m\u001b[38;5;124mFeaturesData\u001b[39m\u001b[38;5;124m'\u001b[39m, \u001b[38;5;124m'\u001b[39m\u001b[38;5;124mEFstrType\u001b[39m\u001b[38;5;124m'\u001b[39m, \u001b[38;5;124m'\u001b[39m\u001b[38;5;124mEShapCalcType\u001b[39m\u001b[38;5;124m'\u001b[39m, \u001b[38;5;124m'\u001b[39m\u001b[38;5;124mEFeaturesSelectionAlgorithm\u001b[39m\u001b[38;5;124m'\u001b[39m, \u001b[38;5;124m'\u001b[39m\u001b[38;5;124mEFeaturesSelectionGrouping\u001b[39m\u001b[38;5;124m'\u001b[39m,\n\u001b[1;32m     10\u001b[0m     \u001b[38;5;124m'\u001b[39m\u001b[38;5;124mPool\u001b[39m\u001b[38;5;124m'\u001b[39m, \u001b[38;5;124m'\u001b[39m\u001b[38;5;124mCatBoost\u001b[39m\u001b[38;5;124m'\u001b[39m, \u001b[38;5;124m'\u001b[39m\u001b[38;5;124mCatBoostClassifier\u001b[39m\u001b[38;5;124m'\u001b[39m, \u001b[38;5;124m'\u001b[39m\u001b[38;5;124mCatBoostRegressor\u001b[39m\u001b[38;5;124m'\u001b[39m, \u001b[38;5;124m'\u001b[39m\u001b[38;5;124mCatBoostRanker\u001b[39m\u001b[38;5;124m'\u001b[39m, \u001b[38;5;124m'\u001b[39m\u001b[38;5;124mCatboostError\u001b[39m\u001b[38;5;124m'\u001b[39m,\n\u001b[0;32m   (...)\u001b[0m\n\u001b[1;32m     13\u001b[0m     \u001b[38;5;124m'\u001b[39m\u001b[38;5;124mMultiTargetCustomMetric\u001b[39m\u001b[38;5;124m'\u001b[39m, \u001b[38;5;124m'\u001b[39m\u001b[38;5;124mMultiTargetCustomObjective\u001b[39m\u001b[38;5;124m'\u001b[39m\n\u001b[1;32m     14\u001b[0m ]\n",
            "File \u001b[0;32m~/Desktop/PythonAllProjects/sber/venv/lib/python3.12/site-packages/catboost/core.py:45\u001b[0m\n\u001b[1;32m     40\u001b[0m         \u001b[38;5;28;01mpass\u001b[39;00m\n\u001b[1;32m     42\u001b[0m \u001b[38;5;28;01mimport\u001b[39;00m \u001b[38;5;21;01mscipy\u001b[39;00m\u001b[38;5;21;01m.\u001b[39;00m\u001b[38;5;21;01msparse\u001b[39;00m\n\u001b[0;32m---> 45\u001b[0m \u001b[38;5;28;01mfrom\u001b[39;00m \u001b[38;5;21;01m.\u001b[39;00m\u001b[38;5;21;01mplot_helpers\u001b[39;00m \u001b[38;5;28;01mimport\u001b[39;00m save_plot_file, try_plot_offline, OfflineMetricVisualizer\n\u001b[1;32m     46\u001b[0m \u001b[38;5;28;01mfrom\u001b[39;00m \u001b[38;5;21;01m.\u001b[39;00m \u001b[38;5;28;01mimport\u001b[39;00m _catboost\n\u001b[1;32m     47\u001b[0m \u001b[38;5;28;01mfrom\u001b[39;00m \u001b[38;5;21;01m.\u001b[39;00m\u001b[38;5;21;01mmetrics\u001b[39;00m \u001b[38;5;28;01mimport\u001b[39;00m BuiltinMetric\n",
            "File \u001b[0;32m~/Desktop/PythonAllProjects/sber/venv/lib/python3.12/site-packages/catboost/plot_helpers.py:5\u001b[0m\n\u001b[1;32m      2\u001b[0m \u001b[38;5;28;01mimport\u001b[39;00m \u001b[38;5;21;01mos\u001b[39;00m\n\u001b[1;32m      3\u001b[0m \u001b[38;5;28;01mimport\u001b[39;00m \u001b[38;5;21;01mwarnings\u001b[39;00m\n\u001b[0;32m----> 5\u001b[0m \u001b[38;5;28;01mfrom\u001b[39;00m \u001b[38;5;21;01m.\u001b[39;00m \u001b[38;5;28;01mimport\u001b[39;00m _catboost\n\u001b[1;32m      6\u001b[0m fspath \u001b[38;5;241m=\u001b[39m _catboost\u001b[38;5;241m.\u001b[39mfspath\n\u001b[1;32m      9\u001b[0m \u001b[38;5;28;01mdef\u001b[39;00m \u001b[38;5;21mtry_plot_offline\u001b[39m(figs):\n",
            "\u001b[0;31mImportError\u001b[0m: cannot import name '_catboost' from partially initialized module 'catboost' (most likely due to a circular import) (/Users/deni/Desktop/PythonAllProjects/sber/venv/lib/python3.12/site-packages/catboost/__init__.py)"
          ]
        }
      ],
      "source": [
        "\n",
        "from sklearn.ensemble import GradientBoostingRegressor\n",
        "from sklearn.ensemble import RandomForestRegressor\n",
        "from sklearn.ensemble import AdaBoostRegressor\n",
        "from sklearn.neural_network import MLPRegressor\n",
        "from sklearn.svm import SVR\n",
        "from catboost import CatBoostRegressor\n",
        "model, rmse, mae, r2 = create_model(CatBoostRegressor())"
      ]
    },
    {
      "cell_type": "code",
      "outputs": [],
      "source": [],
      "metadata": {
        "id": "4e77157b4b3b6909"
      },
      "id": "4e77157b4b3b6909",
      "execution_count": null
    },
    {
      "cell_type": "code",
      "outputs": [],
      "source": [],
      "metadata": {
        "id": "3bd0f9981f9d4bc4"
      },
      "id": "3bd0f9981f9d4bc4",
      "execution_count": null
    }
  ],
  "metadata": {
    "kernelspec": {
      "display_name": "Python 3",
      "language": "python",
      "name": "python3"
    },
    "language_info": {
      "codemirror_mode": {
        "name": "ipython",
        "version": 3
      },
      "file_extension": ".py",
      "mimetype": "text/x-python",
      "name": "python",
      "nbconvert_exporter": "python",
      "pygments_lexer": "ipython3",
      "version": "3.8.10"
    },
    "colab": {
      "provenance": []
    }
  },
  "nbformat": 4,
  "nbformat_minor": 5
}